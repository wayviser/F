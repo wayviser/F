{
 "cells": [
  {
   "cell_type": "markdown",
   "metadata": {},
   "source": [
    "# 中古音對應閩南語音查詢系統\n",
    "### 後續程式"
   ]
  },
  {
   "cell_type": "markdown",
   "metadata": {},
   "source": [
    "以下要作的事情，就是想辦法以最工整的方式歸納出<<廣韻>>的聲韻與閩南語讀音的對應關係，作出精簡的圖表，並且最終作以streamlit的方式呈現。"
   ]
  },
  {
   "cell_type": "markdown",
   "metadata": {},
   "source": [
    "### Import"
   ]
  },
  {
   "cell_type": "code",
   "execution_count": 2,
   "metadata": {},
   "outputs": [],
   "source": [
    "import requests\n",
    "import re\n",
    "import numpy as np\n",
    "import time\n",
    "import pandas as pd\n",
    "from io import StringIO\n",
    "from bs4 import BeautifulSoup\n",
    "import matplotlib\n",
    "import matplotlib.font_manager\n",
    "import matplotlib.pyplot as plt\n",
    "import plotly.graph_objects as go\n",
    "import streamlit as st\n",
    "\n",
    "# font setting\n",
    "#!gdown 1lv0-HBUhnM0rg7rOWDYWPUp93WB5xwsM -O taipei_sans_tc_beta.ttf\n",
    "matplotlib.font_manager.fontManager.addfont('taipei_sans_tc_beta.ttf')\n",
    "matplotlib.rc('font', family = 'Taipei Sans TC Beta')"
   ]
  },
  {
   "cell_type": "markdown",
   "metadata": {},
   "source": [
    "### ... 這部分就是重複\"資料提取\"當中的內容，可跳過"
   ]
  },
  {
   "cell_type": "code",
   "execution_count": 659,
   "metadata": {},
   "outputs": [
    {
     "data": {
      "text/html": [
       "<div>\n",
       "<style scoped>\n",
       "    .dataframe tbody tr th:only-of-type {\n",
       "        vertical-align: middle;\n",
       "    }\n",
       "\n",
       "    .dataframe tbody tr th {\n",
       "        vertical-align: top;\n",
       "    }\n",
       "\n",
       "    .dataframe thead th {\n",
       "        text-align: right;\n",
       "    }\n",
       "</style>\n",
       "<table border=\"1\" class=\"dataframe\">\n",
       "  <thead>\n",
       "    <tr style=\"text-align: right;\">\n",
       "      <th></th>\n",
       "      <th>字</th>\n",
       "      <th>小韻</th>\n",
       "      <th>聲母</th>\n",
       "      <th>韻目</th>\n",
       "      <th>調</th>\n",
       "      <th>等</th>\n",
       "      <th>呼</th>\n",
       "      <th>韻母</th>\n",
       "    </tr>\n",
       "  </thead>\n",
       "  <tbody>\n",
       "    <tr>\n",
       "      <th>26544</th>\n",
       "      <td>䁆</td>\n",
       "      <td>腌</td>\n",
       "      <td>影</td>\n",
       "      <td>業</td>\n",
       "      <td>入</td>\n",
       "      <td>三</td>\n",
       "      <td>開</td>\n",
       "      <td>業</td>\n",
       "    </tr>\n",
       "    <tr>\n",
       "      <th>26545</th>\n",
       "      <td>殜</td>\n",
       "      <td>殜</td>\n",
       "      <td>以</td>\n",
       "      <td>業</td>\n",
       "      <td>入</td>\n",
       "      <td>三</td>\n",
       "      <td>開</td>\n",
       "      <td>業</td>\n",
       "    </tr>\n",
       "    <tr>\n",
       "      <th>26546</th>\n",
       "      <td>𩐱</td>\n",
       "      <td>殜</td>\n",
       "      <td>以</td>\n",
       "      <td>業</td>\n",
       "      <td>入</td>\n",
       "      <td>三</td>\n",
       "      <td>開</td>\n",
       "      <td>業</td>\n",
       "    </tr>\n",
       "    <tr>\n",
       "      <th>26547</th>\n",
       "      <td>跲</td>\n",
       "      <td>跲</td>\n",
       "      <td>羣</td>\n",
       "      <td>業</td>\n",
       "      <td>入</td>\n",
       "      <td>三</td>\n",
       "      <td>開</td>\n",
       "      <td>業</td>\n",
       "    </tr>\n",
       "    <tr>\n",
       "      <th>26548</th>\n",
       "      <td>㭘</td>\n",
       "      <td>跲</td>\n",
       "      <td>羣</td>\n",
       "      <td>業</td>\n",
       "      <td>入</td>\n",
       "      <td>三</td>\n",
       "      <td>開</td>\n",
       "      <td>業</td>\n",
       "    </tr>\n",
       "    <tr>\n",
       "      <th>26549</th>\n",
       "      <td>昅</td>\n",
       "      <td>跲</td>\n",
       "      <td>羣</td>\n",
       "      <td>業</td>\n",
       "      <td>入</td>\n",
       "      <td>三</td>\n",
       "      <td>開</td>\n",
       "      <td>業</td>\n",
       "    </tr>\n",
       "    <tr>\n",
       "      <th>26550</th>\n",
       "      <td>极</td>\n",
       "      <td>跲</td>\n",
       "      <td>羣</td>\n",
       "      <td>業</td>\n",
       "      <td>入</td>\n",
       "      <td>三</td>\n",
       "      <td>開</td>\n",
       "      <td>業</td>\n",
       "    </tr>\n",
       "    <tr>\n",
       "      <th>26551</th>\n",
       "      <td>笈</td>\n",
       "      <td>跲</td>\n",
       "      <td>羣</td>\n",
       "      <td>業</td>\n",
       "      <td>入</td>\n",
       "      <td>三</td>\n",
       "      <td>開</td>\n",
       "      <td>業</td>\n",
       "    </tr>\n",
       "    <tr>\n",
       "      <th>26552</th>\n",
       "      <td>乏</td>\n",
       "      <td>乏</td>\n",
       "      <td>並</td>\n",
       "      <td>乏</td>\n",
       "      <td>入</td>\n",
       "      <td>三</td>\n",
       "      <td>合</td>\n",
       "      <td>乏</td>\n",
       "    </tr>\n",
       "    <tr>\n",
       "      <th>26553</th>\n",
       "      <td>泛</td>\n",
       "      <td>乏</td>\n",
       "      <td>並</td>\n",
       "      <td>乏</td>\n",
       "      <td>入</td>\n",
       "      <td>三</td>\n",
       "      <td>合</td>\n",
       "      <td>乏</td>\n",
       "    </tr>\n",
       "    <tr>\n",
       "      <th>26554</th>\n",
       "      <td>姂</td>\n",
       "      <td>乏</td>\n",
       "      <td>並</td>\n",
       "      <td>乏</td>\n",
       "      <td>入</td>\n",
       "      <td>三</td>\n",
       "      <td>合</td>\n",
       "      <td>乏</td>\n",
       "    </tr>\n",
       "    <tr>\n",
       "      <th>26555</th>\n",
       "      <td>法</td>\n",
       "      <td>法</td>\n",
       "      <td>幫</td>\n",
       "      <td>乏</td>\n",
       "      <td>入</td>\n",
       "      <td>三</td>\n",
       "      <td>合</td>\n",
       "      <td>乏</td>\n",
       "    </tr>\n",
       "    <tr>\n",
       "      <th>26556</th>\n",
       "      <td>灋</td>\n",
       "      <td>法</td>\n",
       "      <td>幫</td>\n",
       "      <td>乏</td>\n",
       "      <td>入</td>\n",
       "      <td>三</td>\n",
       "      <td>合</td>\n",
       "      <td>乏</td>\n",
       "    </tr>\n",
       "    <tr>\n",
       "      <th>26557</th>\n",
       "      <td>𥎰</td>\n",
       "      <td>𥎰</td>\n",
       "      <td>滂</td>\n",
       "      <td>乏</td>\n",
       "      <td>入</td>\n",
       "      <td>三</td>\n",
       "      <td>合</td>\n",
       "      <td>乏</td>\n",
       "    </tr>\n",
       "    <tr>\n",
       "      <th>26558</th>\n",
       "      <td>猲</td>\n",
       "      <td>猲</td>\n",
       "      <td>溪</td>\n",
       "      <td>乏</td>\n",
       "      <td>入</td>\n",
       "      <td>三</td>\n",
       "      <td>合</td>\n",
       "      <td>乏</td>\n",
       "    </tr>\n",
       "    <tr>\n",
       "      <th>26559</th>\n",
       "      <td>姂</td>\n",
       "      <td>猲</td>\n",
       "      <td>溪</td>\n",
       "      <td>乏</td>\n",
       "      <td>入</td>\n",
       "      <td>三</td>\n",
       "      <td>合</td>\n",
       "      <td>乏</td>\n",
       "    </tr>\n",
       "    <tr>\n",
       "      <th>26560</th>\n",
       "      <td>䎎</td>\n",
       "      <td>䎎</td>\n",
       "      <td>孃</td>\n",
       "      <td>乏</td>\n",
       "      <td>入</td>\n",
       "      <td>三</td>\n",
       "      <td>合</td>\n",
       "      <td>乏</td>\n",
       "    </tr>\n",
       "    <tr>\n",
       "      <th>26561</th>\n",
       "      <td>𣹵</td>\n",
       "      <td>䎎</td>\n",
       "      <td>孃</td>\n",
       "      <td>乏</td>\n",
       "      <td>入</td>\n",
       "      <td>三</td>\n",
       "      <td>合</td>\n",
       "      <td>乏</td>\n",
       "    </tr>\n",
       "    <tr>\n",
       "      <th>26562</th>\n",
       "      <td>𡷝</td>\n",
       "      <td>䎎</td>\n",
       "      <td>孃</td>\n",
       "      <td>乏</td>\n",
       "      <td>入</td>\n",
       "      <td>三</td>\n",
       "      <td>合</td>\n",
       "      <td>乏</td>\n",
       "    </tr>\n",
       "    <tr>\n",
       "      <th>26563</th>\n",
       "      <td>𦑣</td>\n",
       "      <td>𦑣</td>\n",
       "      <td>徹</td>\n",
       "      <td>乏</td>\n",
       "      <td>入</td>\n",
       "      <td>三</td>\n",
       "      <td>合</td>\n",
       "      <td>乏</td>\n",
       "    </tr>\n",
       "  </tbody>\n",
       "</table>\n",
       "</div>"
      ],
      "text/plain": [
       "       字 小韻 聲母 韻目  調  等  呼 韻母\n",
       "26544  䁆  腌  影  業  入  三  開  業\n",
       "26545  殜  殜  以  業  入  三  開  業\n",
       "26546  𩐱  殜  以  業  入  三  開  業\n",
       "26547  跲  跲  羣  業  入  三  開  業\n",
       "26548  㭘  跲  羣  業  入  三  開  業\n",
       "26549  昅  跲  羣  業  入  三  開  業\n",
       "26550  极  跲  羣  業  入  三  開  業\n",
       "26551  笈  跲  羣  業  入  三  開  業\n",
       "26552  乏  乏  並  乏  入  三  合  乏\n",
       "26553  泛  乏  並  乏  入  三  合  乏\n",
       "26554  姂  乏  並  乏  入  三  合  乏\n",
       "26555  法  法  幫  乏  入  三  合  乏\n",
       "26556  灋  法  幫  乏  入  三  合  乏\n",
       "26557  𥎰  𥎰  滂  乏  入  三  合  乏\n",
       "26558  猲  猲  溪  乏  入  三  合  乏\n",
       "26559  姂  猲  溪  乏  入  三  合  乏\n",
       "26560  䎎  䎎  孃  乏  入  三  合  乏\n",
       "26561  𣹵  䎎  孃  乏  入  三  合  乏\n",
       "26562  𡷝  䎎  孃  乏  入  三  合  乏\n",
       "26563  𦑣  𦑣  徹  乏  入  三  合  乏"
      ]
     },
     "execution_count": 659,
     "metadata": {},
     "output_type": "execute_result"
    }
   ],
   "source": [
    "'''# 韻典網/廣韻/小韻表\n",
    "blk = 'https://ytenx.org'\n",
    "tulk = 'https://ytenx.org/kyonh/sieux'\n",
    "tulk2 = ''\n",
    "\n",
    "Gtdf0 = pd.DataFrame()\n",
    "Gtndf0 = pd.DataFrame(columns=['字', '小韻'])\n",
    "\n",
    "Gtu = requests.get(tulk)\n",
    "\n",
    "\n",
    "while Gtu.status_code == 200:\n",
    "    \n",
    "    # 提取小韻表\n",
    "    Gtsp = BeautifulSoup(Gtu.text, 'html.parser')\n",
    "    Gttb = Gtsp.find_all('table')[0]\n",
    "    Gtdf= pd.read_html(StringIO(str(Gttb)))[0]\n",
    "\n",
    "    # 尋找每個小韻中的字\n",
    "    for i in Gttb.find_all('tr'):\n",
    "        if i.find_all('td') != []:\n",
    "            href = i.find_all('td')[1].find('a').get('href')\n",
    "        else:\n",
    "            continue\n",
    "        Gtun = requests.get(blk+href)\n",
    "        if Gtun.status_code == 200:\n",
    "            Gtnsp = BeautifulSoup(Gtun.text, 'html.parser')\n",
    "            Gtntb = Gtnsp.find_all('table')[-1]\n",
    "            Gtndf= pd.DataFrame(pd.read_html(StringIO(str(Gtntb)))[0][0])\n",
    "            Gtndf.columns = ['字']\n",
    "            Gtndf['小韻'] = i.find_all('td')[1].find('a').text\n",
    "        Gtndf0 = pd.concat([Gtndf0,Gtndf],ignore_index=True) \n",
    "\n",
    "    # 整理小韻表\n",
    "    Gtdf0 = pd.concat([Gtdf0,Gtdf],ignore_index=True)\n",
    "\n",
    "    # 尋找下一頁\n",
    "    tulk2 = BeautifulSoup(Gtu.text, 'html.parser').find_all('ul')[-1].find_all('a')[-1].get('href')  \n",
    "    if tulk2 == '':\n",
    "        break\n",
    "    time.sleep(1)\n",
    "    Gtu = requests.get(tulk+tulk2)\n",
    "else:\n",
    "    print(\"請求失敗\")\n",
    "\n",
    "# join\n",
    "G = pd.merge(Gtndf0, Gtdf0, on='小韻', how='inner')\n",
    "G.head(20)\n",
    "\n",
    "# 移除除了聲、韻、調以外的欄位\n",
    "del G['次序']\n",
    "del G['反切']\n",
    "    \n",
    "# 當小韻是破音字而重複使用時，會有重複的字\n",
    "G = G.drop_duplicates() \n",
    "\n",
    "# 將DataFrame保存為CSV檔\n",
    "G.to_csv('sieux.csv', index=False)\n",
    "G.tail(20)\n",
    "\n",
    "# 59m 41.5s\n",
    "'''"
   ]
  },
  {
   "cell_type": "code",
   "execution_count": 167,
   "metadata": {},
   "outputs": [
    {
     "name": "stdout",
     "output_type": "stream",
     "text": [
      "第1調完成\n",
      "第2調完成\n",
      "第3調完成\n",
      "第4調完成\n",
      "第5調完成\n",
      "第7調完成\n",
      "第8調完成\n"
     ]
    },
    {
     "data": {
      "text/html": [
       "<div>\n",
       "<style scoped>\n",
       "    .dataframe tbody tr th:only-of-type {\n",
       "        vertical-align: middle;\n",
       "    }\n",
       "\n",
       "    .dataframe tbody tr th {\n",
       "        vertical-align: top;\n",
       "    }\n",
       "\n",
       "    .dataframe thead th {\n",
       "        text-align: right;\n",
       "    }\n",
       "</style>\n",
       "<table border=\"1\" class=\"dataframe\">\n",
       "  <thead>\n",
       "    <tr style=\"text-align: right;\">\n",
       "      <th></th>\n",
       "      <th>字</th>\n",
       "      <th>閩南語聲母</th>\n",
       "      <th>閩南語韻母</th>\n",
       "      <th>閩南語調</th>\n",
       "      <th>文白音</th>\n",
       "    </tr>\n",
       "  </thead>\n",
       "  <tbody>\n",
       "    <tr>\n",
       "      <th>6300</th>\n",
       "      <td>罰</td>\n",
       "      <td>h</td>\n",
       "      <td>uat</td>\n",
       "      <td>8</td>\n",
       "      <td></td>\n",
       "    </tr>\n",
       "    <tr>\n",
       "      <th>6301</th>\n",
       "      <td>劣</td>\n",
       "      <td>l</td>\n",
       "      <td>uat</td>\n",
       "      <td>8</td>\n",
       "      <td></td>\n",
       "    </tr>\n",
       "    <tr>\n",
       "      <th>6302</th>\n",
       "      <td>拔</td>\n",
       "      <td>p</td>\n",
       "      <td>uat</td>\n",
       "      <td>8</td>\n",
       "      <td>文</td>\n",
       "    </tr>\n",
       "    <tr>\n",
       "      <th>6303</th>\n",
       "      <td>菝</td>\n",
       "      <td>p</td>\n",
       "      <td>uat</td>\n",
       "      <td>8</td>\n",
       "      <td>替</td>\n",
       "    </tr>\n",
       "    <tr>\n",
       "      <th>6304</th>\n",
       "      <td>跋</td>\n",
       "      <td>p</td>\n",
       "      <td>uat</td>\n",
       "      <td>8</td>\n",
       "      <td></td>\n",
       "    </tr>\n",
       "    <tr>\n",
       "      <th>6305</th>\n",
       "      <td>鈸</td>\n",
       "      <td>p</td>\n",
       "      <td>uat</td>\n",
       "      <td>8</td>\n",
       "      <td>文</td>\n",
       "    </tr>\n",
       "    <tr>\n",
       "      <th>6306</th>\n",
       "      <td>絕</td>\n",
       "      <td>ts</td>\n",
       "      <td>uat</td>\n",
       "      <td>8</td>\n",
       "      <td>文</td>\n",
       "    </tr>\n",
       "    <tr>\n",
       "      <th>6307</th>\n",
       "      <td>奪</td>\n",
       "      <td>t</td>\n",
       "      <td>uat</td>\n",
       "      <td>8</td>\n",
       "      <td></td>\n",
       "    </tr>\n",
       "    <tr>\n",
       "      <th>6308</th>\n",
       "      <td>悅</td>\n",
       "      <td></td>\n",
       "      <td>uat</td>\n",
       "      <td>8</td>\n",
       "      <td></td>\n",
       "    </tr>\n",
       "    <tr>\n",
       "      <th>6309</th>\n",
       "      <td>曰</td>\n",
       "      <td></td>\n",
       "      <td>uat</td>\n",
       "      <td>8</td>\n",
       "      <td></td>\n",
       "    </tr>\n",
       "    <tr>\n",
       "      <th>6310</th>\n",
       "      <td>越</td>\n",
       "      <td></td>\n",
       "      <td>uat</td>\n",
       "      <td>8</td>\n",
       "      <td></td>\n",
       "    </tr>\n",
       "    <tr>\n",
       "      <th>6311</th>\n",
       "      <td>閱</td>\n",
       "      <td></td>\n",
       "      <td>uat</td>\n",
       "      <td>8</td>\n",
       "      <td>文</td>\n",
       "    </tr>\n",
       "    <tr>\n",
       "      <th>6312</th>\n",
       "      <td>襪</td>\n",
       "      <td>b</td>\n",
       "      <td>ueh</td>\n",
       "      <td>8</td>\n",
       "      <td>白</td>\n",
       "    </tr>\n",
       "    <tr>\n",
       "      <th>6313</th>\n",
       "      <td>月</td>\n",
       "      <td>g</td>\n",
       "      <td>ueh</td>\n",
       "      <td>8</td>\n",
       "      <td>白</td>\n",
       "    </tr>\n",
       "    <tr>\n",
       "      <th>6314</th>\n",
       "      <td>橛</td>\n",
       "      <td>k</td>\n",
       "      <td>ueh</td>\n",
       "      <td>8</td>\n",
       "      <td></td>\n",
       "    </tr>\n",
       "    <tr>\n",
       "      <th>6315</th>\n",
       "      <td>沫</td>\n",
       "      <td>ph</td>\n",
       "      <td>ueh</td>\n",
       "      <td>8</td>\n",
       "      <td>替</td>\n",
       "    </tr>\n",
       "    <tr>\n",
       "      <th>6316</th>\n",
       "      <td>拔</td>\n",
       "      <td>p</td>\n",
       "      <td>ueh</td>\n",
       "      <td>8</td>\n",
       "      <td>白</td>\n",
       "    </tr>\n",
       "    <tr>\n",
       "      <th>6317</th>\n",
       "      <td>劃</td>\n",
       "      <td></td>\n",
       "      <td>ueh</td>\n",
       "      <td>8</td>\n",
       "      <td>白</td>\n",
       "    </tr>\n",
       "    <tr>\n",
       "      <th>6318</th>\n",
       "      <td>狹</td>\n",
       "      <td></td>\n",
       "      <td>uih</td>\n",
       "      <td>8</td>\n",
       "      <td>白</td>\n",
       "    </tr>\n",
       "    <tr>\n",
       "      <th>6319</th>\n",
       "      <td>劃</td>\n",
       "      <td></td>\n",
       "      <td>uih</td>\n",
       "      <td>8</td>\n",
       "      <td>白</td>\n",
       "    </tr>\n",
       "  </tbody>\n",
       "</table>\n",
       "</div>"
      ],
      "text/plain": [
       "      字 閩南語聲母 閩南語韻母  閩南語調 文白音\n",
       "6300  罰     h   uat     8    \n",
       "6301  劣     l   uat     8    \n",
       "6302  拔     p   uat     8   文\n",
       "6303  菝     p   uat     8   替\n",
       "6304  跋     p   uat     8    \n",
       "6305  鈸     p   uat     8   文\n",
       "6306  絕    ts   uat     8   文\n",
       "6307  奪     t   uat     8    \n",
       "6308  悅         uat     8    \n",
       "6309  曰         uat     8    \n",
       "6310  越         uat     8    \n",
       "6311  閱         uat     8   文\n",
       "6312  襪     b   ueh     8   白\n",
       "6313  月     g   ueh     8   白\n",
       "6314  橛     k   ueh     8    \n",
       "6315  沫    ph   ueh     8   替\n",
       "6316  拔     p   ueh     8   白\n",
       "6317  劃         ueh     8   白\n",
       "6318  狹         uih     8   白\n",
       "6319  劃         uih     8   白"
      ]
     },
     "execution_count": 167,
     "metadata": {},
     "output_type": "execute_result"
    }
   ],
   "source": [
    "'''# 教育部閩南語常用字典\n",
    "Blk = 'https://sutian.moe.edu.tw/'\n",
    "mnlk = 'https://sutian.moe.edu.tw/zh-hant/siannuntiau/'\n",
    "href = re.sub(rf'{Blk}', '', mnlk)\n",
    "\n",
    "kaotian = pd.DataFrame()\n",
    "\n",
    "Mn = requests.get(mnlk)\n",
    "while requests.get(Blk+href).status_code== 200:\n",
    "    Mnsp = BeautifulSoup(Mn.text, 'html.parser')\n",
    "    Mnul = Mnsp.find_all('ul')[-2]\n",
    "\n",
    "    # 依調>韻母>聲母順序搜尋\n",
    "    for i in Mnul.find_all('a')[:-1]:\n",
    "        # 抓出調\n",
    "        tiao = re.findall(r'\\d',i.text)[0]\n",
    "\n",
    "        # 搜尋同調之韻母\n",
    "        href = i.get('href')\n",
    "        Mnul2 = requests.get(Blk+href)\n",
    "        Mnsp2 = BeautifulSoup(Mnul2.text, 'html.parser')\n",
    "        Mnul3 = Mnsp2.find_all('ul')[4]\n",
    "            \n",
    "        for j in Mnul3.find_all('a'):\n",
    "            # 抓出韻母\n",
    "            un = re.sub(r'\\W','', j.text)\n",
    "\n",
    "            # 搜尋同韻母之聲母\n",
    "            href = j.get('href')\n",
    "            Mntr = requests.get(Blk+href)\n",
    "            Mntr = BeautifulSoup(Mntr.text, 'html.parser')\n",
    "            Mntr = Mntr.find_all('tr')\n",
    "\n",
    "            for k in Mntr:\n",
    "                # 抓出聲母\n",
    "                if k.find_all('td') == []:\n",
    "                    continue\n",
    "                siann = re.sub(rf'{un}', '', k.find_all('td')[0].text)\n",
    "                # 抓出字\n",
    "                Mndf = pd.DataFrame([i.text for i in k.find_all('a')], columns = ['字'])\n",
    "\n",
    "                # 找出文白屬性\n",
    "                wb = []\n",
    "                for l in k.find_all('a'):\n",
    "                    href = l.get('href')\n",
    "                    Mna = requests.get(Blk+href)\n",
    "                    Mna = BeautifulSoup(Mna.text, 'html.parser')\n",
    "                    Mna = Mna.find('table').find('span', class_=\"tiongkuahho-giapa\")\n",
    "                    if Mna == None:\n",
    "                        wb.append('')\n",
    "                        continue\n",
    "                    wb.append(Mna.text)\n",
    "                    \n",
    "                Mndf['閩南語聲母'] = siann\n",
    "                Mndf['閩南語韻母'] = un\n",
    "                Mndf['閩南語調'] = tiao\n",
    "                Mndf['文白音'] = wb\n",
    "                kaotian = pd.concat([kaotian,Mndf],ignore_index=True)\n",
    "\n",
    "                time.sleep(1)\n",
    "\n",
    "        print(f'第{tiao}調完成')\n",
    "\n",
    "    break\n",
    "else:\n",
    "    print(\"請求失敗\")\n",
    "\n",
    "# 消除聲調記號\n",
    "kaotian['閩南語韻母'] = [re.sub(r'á|à|â|ā|a̍', 'a', i) for i in kaotian['閩南語韻母']]\n",
    "kaotian['閩南語韻母'] = [re.sub(r'é|è|ê|ē|e̍', 'e', i) for i in kaotian['閩南語韻母']]\n",
    "kaotian['閩南語韻母'] = [re.sub(r'í|ì|î|ī|i̍', 'i', i) for i in kaotian['閩南語韻母']]\n",
    "kaotian['閩南語韻母'] = [re.sub(r'ó|ò|ô|ō|o̍', 'o', i) for i in kaotian['閩南語韻母']]\n",
    "kaotian['閩南語韻母'] = [re.sub(r'ú|ù|û|ū|u̍', 'u', i) for i in kaotian['閩南語韻母']]\n",
    "kaotian['閩南語韻母'] = [re.sub(r'ḿ|m̀|m̂|m̄|m̍', 'm', i) for i in kaotian['閩南語韻母']]\n",
    "kaotian['閩南語韻母'] = [re.sub(r'ń|ǹ|n̂|n̄|n̍', 'n', i) for i in kaotian['閩南語韻母']]\n",
    "\n",
    "# 將DataFrame保存為CSV檔\n",
    "kaotian.to_csv('kaotian.csv', index=False)\n",
    "kaotian.tail(20)\n",
    "'''\n",
    "# 約三小時\n"
   ]
  },
  {
   "cell_type": "markdown",
   "metadata": {},
   "source": [
    "### 讀取先前提取的資料"
   ]
  },
  {
   "cell_type": "code",
   "execution_count": 3,
   "metadata": {},
   "outputs": [
    {
     "data": {
      "text/html": [
       "<div>\n",
       "<style scoped>\n",
       "    .dataframe tbody tr th:only-of-type {\n",
       "        vertical-align: middle;\n",
       "    }\n",
       "\n",
       "    .dataframe tbody tr th {\n",
       "        vertical-align: top;\n",
       "    }\n",
       "\n",
       "    .dataframe thead th {\n",
       "        text-align: right;\n",
       "    }\n",
       "</style>\n",
       "<table border=\"1\" class=\"dataframe\">\n",
       "  <thead>\n",
       "    <tr style=\"text-align: right;\">\n",
       "      <th></th>\n",
       "      <th>字</th>\n",
       "      <th>小韻</th>\n",
       "      <th>聲母</th>\n",
       "      <th>韻目</th>\n",
       "      <th>調</th>\n",
       "      <th>等</th>\n",
       "      <th>呼</th>\n",
       "      <th>韻母</th>\n",
       "      <th>AB</th>\n",
       "      <th>閩南語聲母</th>\n",
       "      <th>閩南語韻母</th>\n",
       "      <th>閩南語調</th>\n",
       "      <th>文白音</th>\n",
       "    </tr>\n",
       "  </thead>\n",
       "  <tbody>\n",
       "    <tr>\n",
       "      <th>0</th>\n",
       "      <td>東</td>\n",
       "      <td>東</td>\n",
       "      <td>端</td>\n",
       "      <td>東</td>\n",
       "      <td>平</td>\n",
       "      <td>一</td>\n",
       "      <td>開</td>\n",
       "      <td>東一</td>\n",
       "      <td>-</td>\n",
       "      <td>t</td>\n",
       "      <td>ang</td>\n",
       "      <td>1</td>\n",
       "      <td>白</td>\n",
       "    </tr>\n",
       "    <tr>\n",
       "      <th>1</th>\n",
       "      <td>東</td>\n",
       "      <td>東</td>\n",
       "      <td>端</td>\n",
       "      <td>東</td>\n",
       "      <td>平</td>\n",
       "      <td>一</td>\n",
       "      <td>開</td>\n",
       "      <td>東一</td>\n",
       "      <td>-</td>\n",
       "      <td>t</td>\n",
       "      <td>ong</td>\n",
       "      <td>1</td>\n",
       "      <td>文</td>\n",
       "    </tr>\n",
       "    <tr>\n",
       "      <th>2</th>\n",
       "      <td>凍</td>\n",
       "      <td>東</td>\n",
       "      <td>端</td>\n",
       "      <td>東</td>\n",
       "      <td>平</td>\n",
       "      <td>一</td>\n",
       "      <td>開</td>\n",
       "      <td>東一</td>\n",
       "      <td>-</td>\n",
       "      <td>t</td>\n",
       "      <td>ang</td>\n",
       "      <td>3</td>\n",
       "      <td>白</td>\n",
       "    </tr>\n",
       "    <tr>\n",
       "      <th>3</th>\n",
       "      <td>凍</td>\n",
       "      <td>東</td>\n",
       "      <td>端</td>\n",
       "      <td>東</td>\n",
       "      <td>平</td>\n",
       "      <td>一</td>\n",
       "      <td>開</td>\n",
       "      <td>東一</td>\n",
       "      <td>-</td>\n",
       "      <td>t</td>\n",
       "      <td>ong</td>\n",
       "      <td>3</td>\n",
       "      <td>文</td>\n",
       "    </tr>\n",
       "    <tr>\n",
       "      <th>4</th>\n",
       "      <td>凍</td>\n",
       "      <td>涷</td>\n",
       "      <td>端</td>\n",
       "      <td>東</td>\n",
       "      <td>去</td>\n",
       "      <td>一</td>\n",
       "      <td>開</td>\n",
       "      <td>東一</td>\n",
       "      <td>-</td>\n",
       "      <td>t</td>\n",
       "      <td>ang</td>\n",
       "      <td>3</td>\n",
       "      <td>白</td>\n",
       "    </tr>\n",
       "    <tr>\n",
       "      <th>5</th>\n",
       "      <td>凍</td>\n",
       "      <td>涷</td>\n",
       "      <td>端</td>\n",
       "      <td>東</td>\n",
       "      <td>去</td>\n",
       "      <td>一</td>\n",
       "      <td>開</td>\n",
       "      <td>東一</td>\n",
       "      <td>-</td>\n",
       "      <td>t</td>\n",
       "      <td>ong</td>\n",
       "      <td>3</td>\n",
       "      <td>文</td>\n",
       "    </tr>\n",
       "    <tr>\n",
       "      <th>6</th>\n",
       "      <td>同</td>\n",
       "      <td>同</td>\n",
       "      <td>定</td>\n",
       "      <td>東</td>\n",
       "      <td>平</td>\n",
       "      <td>一</td>\n",
       "      <td>開</td>\n",
       "      <td>東一</td>\n",
       "      <td>-</td>\n",
       "      <td>t</td>\n",
       "      <td>ang</td>\n",
       "      <td>5</td>\n",
       "      <td>白</td>\n",
       "    </tr>\n",
       "    <tr>\n",
       "      <th>7</th>\n",
       "      <td>同</td>\n",
       "      <td>同</td>\n",
       "      <td>定</td>\n",
       "      <td>東</td>\n",
       "      <td>平</td>\n",
       "      <td>一</td>\n",
       "      <td>開</td>\n",
       "      <td>東一</td>\n",
       "      <td>-</td>\n",
       "      <td>t</td>\n",
       "      <td>ong</td>\n",
       "      <td>5</td>\n",
       "      <td>文</td>\n",
       "    </tr>\n",
       "    <tr>\n",
       "      <th>8</th>\n",
       "      <td>仝</td>\n",
       "      <td>同</td>\n",
       "      <td>定</td>\n",
       "      <td>東</td>\n",
       "      <td>平</td>\n",
       "      <td>一</td>\n",
       "      <td>開</td>\n",
       "      <td>東一</td>\n",
       "      <td>-</td>\n",
       "      <td>k</td>\n",
       "      <td>ang</td>\n",
       "      <td>7</td>\n",
       "      <td>替</td>\n",
       "    </tr>\n",
       "    <tr>\n",
       "      <th>9</th>\n",
       "      <td>仝</td>\n",
       "      <td>全</td>\n",
       "      <td>從</td>\n",
       "      <td>仙</td>\n",
       "      <td>平</td>\n",
       "      <td>三</td>\n",
       "      <td>合</td>\n",
       "      <td>仙合</td>\n",
       "      <td>-</td>\n",
       "      <td>k</td>\n",
       "      <td>ang</td>\n",
       "      <td>7</td>\n",
       "      <td>替</td>\n",
       "    </tr>\n",
       "    <tr>\n",
       "      <th>10</th>\n",
       "      <td>童</td>\n",
       "      <td>同</td>\n",
       "      <td>定</td>\n",
       "      <td>東</td>\n",
       "      <td>平</td>\n",
       "      <td>一</td>\n",
       "      <td>開</td>\n",
       "      <td>東一</td>\n",
       "      <td>-</td>\n",
       "      <td>t</td>\n",
       "      <td>ang</td>\n",
       "      <td>5</td>\n",
       "      <td>白</td>\n",
       "    </tr>\n",
       "    <tr>\n",
       "      <th>11</th>\n",
       "      <td>童</td>\n",
       "      <td>同</td>\n",
       "      <td>定</td>\n",
       "      <td>東</td>\n",
       "      <td>平</td>\n",
       "      <td>一</td>\n",
       "      <td>開</td>\n",
       "      <td>東一</td>\n",
       "      <td>-</td>\n",
       "      <td>t</td>\n",
       "      <td>ong</td>\n",
       "      <td>5</td>\n",
       "      <td>文</td>\n",
       "    </tr>\n",
       "    <tr>\n",
       "      <th>12</th>\n",
       "      <td>銅</td>\n",
       "      <td>同</td>\n",
       "      <td>定</td>\n",
       "      <td>東</td>\n",
       "      <td>平</td>\n",
       "      <td>一</td>\n",
       "      <td>開</td>\n",
       "      <td>東一</td>\n",
       "      <td>-</td>\n",
       "      <td>t</td>\n",
       "      <td>ang</td>\n",
       "      <td>5</td>\n",
       "      <td>-</td>\n",
       "    </tr>\n",
       "    <tr>\n",
       "      <th>13</th>\n",
       "      <td>桐</td>\n",
       "      <td>同</td>\n",
       "      <td>定</td>\n",
       "      <td>東</td>\n",
       "      <td>平</td>\n",
       "      <td>一</td>\n",
       "      <td>開</td>\n",
       "      <td>東一</td>\n",
       "      <td>-</td>\n",
       "      <td>t</td>\n",
       "      <td>ang</td>\n",
       "      <td>5</td>\n",
       "      <td>白</td>\n",
       "    </tr>\n",
       "    <tr>\n",
       "      <th>14</th>\n",
       "      <td>桐</td>\n",
       "      <td>同</td>\n",
       "      <td>定</td>\n",
       "      <td>東</td>\n",
       "      <td>平</td>\n",
       "      <td>一</td>\n",
       "      <td>開</td>\n",
       "      <td>東一</td>\n",
       "      <td>-</td>\n",
       "      <td>t</td>\n",
       "      <td>ong</td>\n",
       "      <td>5</td>\n",
       "      <td>文</td>\n",
       "    </tr>\n",
       "    <tr>\n",
       "      <th>15</th>\n",
       "      <td>筒</td>\n",
       "      <td>同</td>\n",
       "      <td>定</td>\n",
       "      <td>東</td>\n",
       "      <td>平</td>\n",
       "      <td>一</td>\n",
       "      <td>開</td>\n",
       "      <td>東一</td>\n",
       "      <td>-</td>\n",
       "      <td>t</td>\n",
       "      <td>ang</td>\n",
       "      <td>5</td>\n",
       "      <td>白</td>\n",
       "    </tr>\n",
       "    <tr>\n",
       "      <th>16</th>\n",
       "      <td>筒</td>\n",
       "      <td>同</td>\n",
       "      <td>定</td>\n",
       "      <td>東</td>\n",
       "      <td>平</td>\n",
       "      <td>一</td>\n",
       "      <td>開</td>\n",
       "      <td>東一</td>\n",
       "      <td>-</td>\n",
       "      <td>t</td>\n",
       "      <td>ong</td>\n",
       "      <td>5</td>\n",
       "      <td>文</td>\n",
       "    </tr>\n",
       "    <tr>\n",
       "      <th>17</th>\n",
       "      <td>筒</td>\n",
       "      <td>洞</td>\n",
       "      <td>定</td>\n",
       "      <td>東</td>\n",
       "      <td>去</td>\n",
       "      <td>一</td>\n",
       "      <td>開</td>\n",
       "      <td>東一</td>\n",
       "      <td>-</td>\n",
       "      <td>t</td>\n",
       "      <td>ang</td>\n",
       "      <td>5</td>\n",
       "      <td>白</td>\n",
       "    </tr>\n",
       "    <tr>\n",
       "      <th>18</th>\n",
       "      <td>筒</td>\n",
       "      <td>洞</td>\n",
       "      <td>定</td>\n",
       "      <td>東</td>\n",
       "      <td>去</td>\n",
       "      <td>一</td>\n",
       "      <td>開</td>\n",
       "      <td>東一</td>\n",
       "      <td>-</td>\n",
       "      <td>t</td>\n",
       "      <td>ong</td>\n",
       "      <td>5</td>\n",
       "      <td>文</td>\n",
       "    </tr>\n",
       "    <tr>\n",
       "      <th>19</th>\n",
       "      <td>瞳</td>\n",
       "      <td>同</td>\n",
       "      <td>定</td>\n",
       "      <td>東</td>\n",
       "      <td>平</td>\n",
       "      <td>一</td>\n",
       "      <td>開</td>\n",
       "      <td>東一</td>\n",
       "      <td>-</td>\n",
       "      <td>t</td>\n",
       "      <td>ong</td>\n",
       "      <td>5</td>\n",
       "      <td>-</td>\n",
       "    </tr>\n",
       "  </tbody>\n",
       "</table>\n",
       "</div>"
      ],
      "text/plain": [
       "    字 小韻 聲母 韻目  調  等  呼  韻母 AB 閩南語聲母 閩南語韻母  閩南語調 文白音\n",
       "0   東  東  端  東  平  一  開  東一  -     t   ang     1   白\n",
       "1   東  東  端  東  平  一  開  東一  -     t   ong     1   文\n",
       "2   凍  東  端  東  平  一  開  東一  -     t   ang     3   白\n",
       "3   凍  東  端  東  平  一  開  東一  -     t   ong     3   文\n",
       "4   凍  涷  端  東  去  一  開  東一  -     t   ang     3   白\n",
       "5   凍  涷  端  東  去  一  開  東一  -     t   ong     3   文\n",
       "6   同  同  定  東  平  一  開  東一  -     t   ang     5   白\n",
       "7   同  同  定  東  平  一  開  東一  -     t   ong     5   文\n",
       "8   仝  同  定  東  平  一  開  東一  -     k   ang     7   替\n",
       "9   仝  全  從  仙  平  三  合  仙合  -     k   ang     7   替\n",
       "10  童  同  定  東  平  一  開  東一  -     t   ang     5   白\n",
       "11  童  同  定  東  平  一  開  東一  -     t   ong     5   文\n",
       "12  銅  同  定  東  平  一  開  東一  -     t   ang     5   -\n",
       "13  桐  同  定  東  平  一  開  東一  -     t   ang     5   白\n",
       "14  桐  同  定  東  平  一  開  東一  -     t   ong     5   文\n",
       "15  筒  同  定  東  平  一  開  東一  -     t   ang     5   白\n",
       "16  筒  同  定  東  平  一  開  東一  -     t   ong     5   文\n",
       "17  筒  洞  定  東  去  一  開  東一  -     t   ang     5   白\n",
       "18  筒  洞  定  東  去  一  開  東一  -     t   ong     5   文\n",
       "19  瞳  同  定  東  平  一  開  東一  -     t   ong     5   -"
      ]
     },
     "execution_count": 3,
     "metadata": {},
     "output_type": "execute_result"
    }
   ],
   "source": [
    "G = pd.read_csv('./sieux.csv', encoding='utf-8')\n",
    "kaotian = pd.read_csv('./kaotian.csv', encoding='utf-8')\n",
    "\n",
    "# 調整資料\n",
    "# 增加AB的項目\n",
    "G['AB'] = [re.findall(r'A|B', i) for i in G['韻母']]\n",
    "G['AB'] = [i[0] if i != [] else '-' for i in G['AB']]\n",
    "# 統一不同聲調的韻目\n",
    "G['韻目'] = [re.sub(r'一|二|三|開|合|A|B', '', i) if i != '合' else '合' for i in G['韻母']]\n",
    "\n",
    "# fillna\n",
    "kaotian = kaotian.fillna('-')\n",
    "\n",
    "# 合併閩南語字典與廣韻\n",
    "D = pd.merge(G, kaotian, on='字', how='inner')\n",
    "D.head(20)"
   ]
  },
  {
   "cell_type": "markdown",
   "metadata": {},
   "source": [
    "### 處理聲母"
   ]
  },
  {
   "cell_type": "markdown",
   "metadata": {},
   "source": [
    "#### 基本對照"
   ]
  },
  {
   "cell_type": "code",
   "execution_count": 4,
   "metadata": {},
   "outputs": [
    {
     "name": "stderr",
     "output_type": "stream",
     "text": [
      "C:\\Users\\O\\AppData\\Local\\Temp\\ipykernel_24988\\3465589181.py:13: SettingWithCopyWarning: \n",
      "A value is trying to be set on a copy of a slice from a DataFrame.\n",
      "Try using .loc[row_indexer,col_indexer] = value instead\n",
      "\n",
      "See the caveats in the documentation: https://pandas.pydata.org/pandas-docs/stable/user_guide/indexing.html#returning-a-view-versus-a-copy\n",
      "  im['temp'] = False\n"
     ]
    },
    {
     "data": {
      "text/html": [
       "<div>\n",
       "<style scoped>\n",
       "    .dataframe tbody tr th:only-of-type {\n",
       "        vertical-align: middle;\n",
       "    }\n",
       "\n",
       "    .dataframe tbody tr th {\n",
       "        vertical-align: top;\n",
       "    }\n",
       "\n",
       "    .dataframe thead th {\n",
       "        text-align: right;\n",
       "    }\n",
       "</style>\n",
       "<table border=\"1\" class=\"dataframe\">\n",
       "  <thead>\n",
       "    <tr style=\"text-align: right;\">\n",
       "      <th></th>\n",
       "      <th></th>\n",
       "      <th>比例</th>\n",
       "      <th>例字</th>\n",
       "    </tr>\n",
       "    <tr>\n",
       "      <th>聲母</th>\n",
       "      <th>閩南語聲母</th>\n",
       "      <th></th>\n",
       "      <th></th>\n",
       "    </tr>\n",
       "  </thead>\n",
       "  <tbody>\n",
       "    <tr>\n",
       "      <th rowspan=\"3\" valign=\"top\">並</th>\n",
       "      <th>h</th>\n",
       "      <td>0.32</td>\n",
       "      <td>篷</td>\n",
       "    </tr>\n",
       "    <tr>\n",
       "      <th>p</th>\n",
       "      <td>0.53</td>\n",
       "      <td>盤</td>\n",
       "    </tr>\n",
       "    <tr>\n",
       "      <th>ph</th>\n",
       "      <td>0.15</td>\n",
       "      <td>皮</td>\n",
       "    </tr>\n",
       "    <tr>\n",
       "      <th rowspan=\"2\" valign=\"top\">云</th>\n",
       "      <th>-</th>\n",
       "      <td>0.93</td>\n",
       "      <td>芋</td>\n",
       "    </tr>\n",
       "    <tr>\n",
       "      <th>h</th>\n",
       "      <td>0.07</td>\n",
       "      <td>雄</td>\n",
       "    </tr>\n",
       "    <tr>\n",
       "      <th rowspan=\"2\" valign=\"top\">以</th>\n",
       "      <th>-</th>\n",
       "      <td>0.97</td>\n",
       "      <td>溶</td>\n",
       "    </tr>\n",
       "    <tr>\n",
       "      <th>l</th>\n",
       "      <td>0.03</td>\n",
       "      <td>簷</td>\n",
       "    </tr>\n",
       "    <tr>\n",
       "      <th rowspan=\"2\" valign=\"top\">來</th>\n",
       "      <th>l</th>\n",
       "      <td>0.99</td>\n",
       "      <td>籠</td>\n",
       "    </tr>\n",
       "    <tr>\n",
       "      <th>n</th>\n",
       "      <td>0.01</td>\n",
       "      <td>賴</td>\n",
       "    </tr>\n",
       "    <tr>\n",
       "      <th>初</th>\n",
       "      <th>tsh</th>\n",
       "      <td>1.00</td>\n",
       "      <td>差</td>\n",
       "    </tr>\n",
       "    <tr>\n",
       "      <th rowspan=\"3\" valign=\"top\">匣</th>\n",
       "      <th>-</th>\n",
       "      <td>0.02</td>\n",
       "      <td>盒</td>\n",
       "    </tr>\n",
       "    <tr>\n",
       "      <th>h</th>\n",
       "      <td>0.96</td>\n",
       "      <td>洪</td>\n",
       "    </tr>\n",
       "    <tr>\n",
       "      <th>k</th>\n",
       "      <td>0.02</td>\n",
       "      <td>缸</td>\n",
       "    </tr>\n",
       "    <tr>\n",
       "      <th>孃</th>\n",
       "      <th>l</th>\n",
       "      <td>1.00</td>\n",
       "      <td>鐃</td>\n",
       "    </tr>\n",
       "    <tr>\n",
       "      <th rowspan=\"2\" valign=\"top\">定</th>\n",
       "      <th>t</th>\n",
       "      <td>0.85</td>\n",
       "      <td>同</td>\n",
       "    </tr>\n",
       "    <tr>\n",
       "      <th>th</th>\n",
       "      <td>0.15</td>\n",
       "      <td>苔</td>\n",
       "    </tr>\n",
       "    <tr>\n",
       "      <th rowspan=\"3\" valign=\"top\">崇</th>\n",
       "      <th>s</th>\n",
       "      <td>0.25</td>\n",
       "      <td>事</td>\n",
       "    </tr>\n",
       "    <tr>\n",
       "      <th>ts</th>\n",
       "      <td>0.50</td>\n",
       "      <td>狀</td>\n",
       "    </tr>\n",
       "    <tr>\n",
       "      <th>tsh</th>\n",
       "      <td>0.25</td>\n",
       "      <td>床</td>\n",
       "    </tr>\n",
       "    <tr>\n",
       "      <th>常</th>\n",
       "      <th>s</th>\n",
       "      <td>0.96</td>\n",
       "      <td>垂</td>\n",
       "    </tr>\n",
       "  </tbody>\n",
       "</table>\n",
       "</div>"
      ],
      "text/plain": [
       "            比例 例字\n",
       "聲母 閩南語聲母         \n",
       "並  h      0.32  篷\n",
       "   p      0.53  盤\n",
       "   ph     0.15  皮\n",
       "云  -      0.93  芋\n",
       "   h      0.07  雄\n",
       "以  -      0.97  溶\n",
       "   l      0.03  簷\n",
       "來  l      0.99  籠\n",
       "   n      0.01  賴\n",
       "初  tsh    1.00  差\n",
       "匣  -      0.02  盒\n",
       "   h      0.96  洪\n",
       "   k      0.02  缸\n",
       "孃  l      1.00  鐃\n",
       "定  t      0.85  同\n",
       "   th     0.15  苔\n",
       "崇  s      0.25  事\n",
       "   ts     0.50  狀\n",
       "   tsh    0.25  床\n",
       "常  s      0.96  垂"
      ]
     },
     "execution_count": 4,
     "metadata": {},
     "output_type": "execute_result"
    }
   ],
   "source": [
    "def s1():\n",
    "    im = D[D['文白音'] == bp]\n",
    "    siann = im.groupby(['聲母', '閩南語聲母']).size().reset_index(name='字數')\n",
    "\n",
    "    # 使用 transform 計算比例並新增一列 '比例'\n",
    "    siann['比例'] = siann['字數'] / siann.groupby('聲母')['字數'].transform('sum')\n",
    "    #siann[siann['比例'] > 0.5].sort_values(by='比例', ascending=False)\n",
    "    siann = siann.sort_values(by='比例', ascending=False)\n",
    "\n",
    "    # 剛才已經由高到低排好中古聲母與閩南語各相應關係的比例，愈前面的比例愈大，代表愈有可能是對應的聲母\n",
    "    # 廣韻裡面的破音字多到嚇死人，平均每4個字就有1個是破音字。那些頻率低的相應關係可能只是沒有對到相應的讀音\n",
    "    # 所以我們從最前面開始，依次將該聲母與所對應最合理的閩南語聲母標記為 True，並將其餘不同的讀音標記為 False，然後刪除\n",
    "    im['temp'] = False\n",
    "\n",
    "    for i, row in siann.iterrows():\n",
    "        s = row['聲母']\n",
    "        ms = row['閩南語聲母']\n",
    "\n",
    "        for j in list(im[(im['聲母'] == s) & (im['閩南語聲母'] == ms)]['字']):\n",
    "                if im[im['字'] == j].sort_values(by='temp', ascending=False)['temp'].reset_index().loc[0,'temp']:\n",
    "                    im = im[~((im['字'] == j) & (~im['temp']))]\n",
    "                else:\n",
    "                    im.loc[((im['聲母'] == s) & (im['閩南語聲母'] == ms) & (im['字'] == j)),'temp'] = True\n",
    "            \n",
    "    del im['temp']\n",
    "\n",
    "    # 破音字清乾淨之後，中古聲母與閩南語各相應關係應該會有不小改變，所以我們再重新計算一次比例\n",
    "    siann = im.groupby(['聲母', '閩南語聲母']).size().reset_index(name='字數')\n",
    "    siann['比例'] = siann['字數'] / siann.groupby('聲母')['字數'].transform('sum')\n",
    "    siann = siann.sort_values(by='比例', ascending=False)\n",
    "    siann['比例'] = round(siann['比例'], 2)\n",
    "\n",
    "    # 每個對應關係中，挑出一個例字，能夠理解得更清楚\n",
    "    siann['例字'] = [list(im[(im['聲母'] == row['聲母']) & (im['閩南語聲母'] == row['閩南語聲母'])]['字'])[0] for i, row in siann.iterrows()]\n",
    "    return im, siann\n",
    "\n",
    "''''''\n",
    "# %%\n",
    "bp = '文'\n",
    "im, siann = s1()\n",
    "g_siann = pd.DataFrame(siann.groupby(['聲母', '閩南語聲母'])[['比例', '例字']].apply(lambda x: x.iloc[0]))\n",
    "g_siann.head(20)\n"
   ]
  },
  {
   "cell_type": "markdown",
   "metadata": {},
   "source": [
    "#### 作圖"
   ]
  },
  {
   "cell_type": "code",
   "execution_count": 5,
   "metadata": {},
   "outputs": [
    {
     "name": "stderr",
     "output_type": "stream",
     "text": [
      "C:\\Users\\O\\AppData\\Local\\Temp\\ipykernel_24988\\3465589181.py:13: SettingWithCopyWarning: \n",
      "A value is trying to be set on a copy of a slice from a DataFrame.\n",
      "Try using .loc[row_indexer,col_indexer] = value instead\n",
      "\n",
      "See the caveats in the documentation: https://pandas.pydata.org/pandas-docs/stable/user_guide/indexing.html#returning-a-view-versus-a-copy\n",
      "  im['temp'] = False\n"
     ]
    },
    {
     "data": {
      "application/vnd.plotly.v1+json": {
       "config": {
        "plotlyServerURL": "https://plot.ly"
       },
       "data": [
        {
         "text": [
          "盤",
          "篷",
          "皮",
          "芋",
          "雄",
          "簷",
          "溶",
          "賴",
          "籠",
          "差",
          "盒",
          "洪",
          "缸",
          "鐃",
          "同",
          "苔",
          "床",
          "事",
          "狀",
          "鶉",
          "垂",
          "楓",
          "般",
          "咬",
          "翁",
          "叢",
          "蠶",
          "寵",
          "超",
          "髓",
          "鬆",
          "耳",
          "燃",
          "吹",
          "梅",
          "夢",
          "烘",
          "劃"
         ],
         "textfont": {
          "size": 9
         },
         "textposition": "outside",
         "type": "bar",
         "x": [
          [
           "並",
           "並",
           "並",
           "云",
           "云",
           "以",
           "以",
           "來",
           "來",
           "初",
           "匣",
           "匣",
           "匣",
           "孃",
           "定",
           "定",
           "崇",
           "崇",
           "崇",
           "常",
           "常",
           "幫",
           "幫",
           "影",
           "影",
           "從",
           "從",
           "徹",
           "徹",
           "心",
           "心",
           "日",
           "日",
           "昌",
           "明",
           "明",
           "曉",
           "曉"
          ],
          [
           "p",
           "h",
           "ph",
           "-",
           "h",
           "l",
           "-",
           "n",
           "l",
           "tsh",
           "-",
           "h",
           "k",
           "l",
           "t",
           "th",
           "tsh",
           "s",
           "ts",
           "tsh",
           "s",
           "h",
           "p",
           "ng",
           "-",
           "ts",
           "tsh",
           "th",
           "tsh",
           "tsh",
           "s",
           "n",
           "l",
           "tsh",
           "m",
           "b",
           "h",
           "-"
          ]
         ],
         "y": [
          0.53,
          0.32,
          0.15,
          0.93,
          0.07,
          0.03,
          0.97,
          0.01,
          0.99,
          1,
          0.02,
          0.96,
          0.02,
          1,
          0.85,
          0.15,
          0.25,
          0.25,
          0.5,
          0.04,
          0.96,
          0.38,
          0.62,
          0.02,
          0.98,
          0.86,
          0.14,
          0.83,
          0.17,
          0.02,
          0.98,
          0.08,
          0.92,
          1,
          0.27,
          0.73,
          0.97,
          0.03
         ]
        }
       ],
       "layout": {
        "colorway": [
         "#FFA15A",
         "#636EFA"
        ],
        "template": {
         "data": {
          "candlestick": [
           {
            "decreasing": {
             "line": {
              "color": "#000033"
             }
            },
            "increasing": {
             "line": {
              "color": "#000032"
             }
            },
            "type": "candlestick"
           }
          ],
          "contour": [
           {
            "colorscale": [
             [
              0,
              "#000011"
             ],
             [
              0.1111111111111111,
              "#000012"
             ],
             [
              0.2222222222222222,
              "#000013"
             ],
             [
              0.3333333333333333,
              "#000014"
             ],
             [
              0.4444444444444444,
              "#000015"
             ],
             [
              0.5555555555555556,
              "#000016"
             ],
             [
              0.6666666666666666,
              "#000017"
             ],
             [
              0.7777777777777778,
              "#000018"
             ],
             [
              0.8888888888888888,
              "#000019"
             ],
             [
              1,
              "#000020"
             ]
            ],
            "type": "contour"
           }
          ],
          "contourcarpet": [
           {
            "colorscale": [
             [
              0,
              "#000011"
             ],
             [
              0.1111111111111111,
              "#000012"
             ],
             [
              0.2222222222222222,
              "#000013"
             ],
             [
              0.3333333333333333,
              "#000014"
             ],
             [
              0.4444444444444444,
              "#000015"
             ],
             [
              0.5555555555555556,
              "#000016"
             ],
             [
              0.6666666666666666,
              "#000017"
             ],
             [
              0.7777777777777778,
              "#000018"
             ],
             [
              0.8888888888888888,
              "#000019"
             ],
             [
              1,
              "#000020"
             ]
            ],
            "type": "contourcarpet"
           }
          ],
          "heatmap": [
           {
            "colorscale": [
             [
              0,
              "#000011"
             ],
             [
              0.1111111111111111,
              "#000012"
             ],
             [
              0.2222222222222222,
              "#000013"
             ],
             [
              0.3333333333333333,
              "#000014"
             ],
             [
              0.4444444444444444,
              "#000015"
             ],
             [
              0.5555555555555556,
              "#000016"
             ],
             [
              0.6666666666666666,
              "#000017"
             ],
             [
              0.7777777777777778,
              "#000018"
             ],
             [
              0.8888888888888888,
              "#000019"
             ],
             [
              1,
              "#000020"
             ]
            ],
            "type": "heatmap"
           }
          ],
          "histogram2d": [
           {
            "colorscale": [
             [
              0,
              "#000011"
             ],
             [
              0.1111111111111111,
              "#000012"
             ],
             [
              0.2222222222222222,
              "#000013"
             ],
             [
              0.3333333333333333,
              "#000014"
             ],
             [
              0.4444444444444444,
              "#000015"
             ],
             [
              0.5555555555555556,
              "#000016"
             ],
             [
              0.6666666666666666,
              "#000017"
             ],
             [
              0.7777777777777778,
              "#000018"
             ],
             [
              0.8888888888888888,
              "#000019"
             ],
             [
              1,
              "#000020"
             ]
            ],
            "type": "histogram2d"
           }
          ],
          "icicle": [
           {
            "textfont": {
             "color": "white"
            },
            "type": "icicle"
           }
          ],
          "sankey": [
           {
            "textfont": {
             "color": "#000036"
            },
            "type": "sankey"
           }
          ],
          "scatter": [
           {
            "marker": {
             "line": {
              "width": 0
             }
            },
            "type": "scatter"
           }
          ],
          "table": [
           {
            "cells": {
             "fill": {
              "color": "#000038"
             },
             "font": {
              "color": "#000037"
             },
             "line": {
              "color": "#000039"
             }
            },
            "header": {
             "fill": {
              "color": "#000040"
             },
             "font": {
              "color": "#000036"
             },
             "line": {
              "color": "#000039"
             }
            },
            "type": "table"
           }
          ],
          "waterfall": [
           {
            "connector": {
             "line": {
              "color": "#000036",
              "width": 2
             }
            },
            "decreasing": {
             "marker": {
              "color": "#000033"
             }
            },
            "increasing": {
             "marker": {
              "color": "#000032"
             }
            },
            "totals": {
             "marker": {
              "color": "#000034"
             }
            },
            "type": "waterfall"
           }
          ]
         },
         "layout": {
          "coloraxis": {
           "colorscale": [
            [
             0,
             "#000011"
            ],
            [
             0.1111111111111111,
             "#000012"
            ],
            [
             0.2222222222222222,
             "#000013"
            ],
            [
             0.3333333333333333,
             "#000014"
            ],
            [
             0.4444444444444444,
             "#000015"
            ],
            [
             0.5555555555555556,
             "#000016"
            ],
            [
             0.6666666666666666,
             "#000017"
            ],
            [
             0.7777777777777778,
             "#000018"
            ],
            [
             0.8888888888888888,
             "#000019"
            ],
            [
             1,
             "#000020"
            ]
           ]
          },
          "colorscale": {
           "diverging": [
            [
             0,
             "#000021"
            ],
            [
             0.1,
             "#000022"
            ],
            [
             0.2,
             "#000023"
            ],
            [
             0.3,
             "#000024"
            ],
            [
             0.4,
             "#000025"
            ],
            [
             0.5,
             "#000026"
            ],
            [
             0.6,
             "#000027"
            ],
            [
             0.7,
             "#000028"
            ],
            [
             0.8,
             "#000029"
            ],
            [
             0.9,
             "#000030"
            ],
            [
             1,
             "#000031"
            ]
           ],
           "sequential": [
            [
             0,
             "#000011"
            ],
            [
             0.1111111111111111,
             "#000012"
            ],
            [
             0.2222222222222222,
             "#000013"
            ],
            [
             0.3333333333333333,
             "#000014"
            ],
            [
             0.4444444444444444,
             "#000015"
            ],
            [
             0.5555555555555556,
             "#000016"
            ],
            [
             0.6666666666666666,
             "#000017"
            ],
            [
             0.7777777777777778,
             "#000018"
            ],
            [
             0.8888888888888888,
             "#000019"
            ],
            [
             1,
             "#000020"
            ]
           ],
           "sequentialminus": [
            [
             0,
             "#000011"
            ],
            [
             0.1111111111111111,
             "#000012"
            ],
            [
             0.2222222222222222,
             "#000013"
            ],
            [
             0.3333333333333333,
             "#000014"
            ],
            [
             0.4444444444444444,
             "#000015"
            ],
            [
             0.5555555555555556,
             "#000016"
            ],
            [
             0.6666666666666666,
             "#000017"
            ],
            [
             0.7777777777777778,
             "#000018"
            ],
            [
             0.8888888888888888,
             "#000019"
            ],
            [
             1,
             "#000020"
            ]
           ]
          },
          "colorway": [
           "#000001",
           "#000002",
           "#000003",
           "#000004",
           "#000005",
           "#000006",
           "#000007",
           "#000008",
           "#000009",
           "#000010"
          ]
         }
        },
        "title": {
         "text": "閩南語文音聲母對應比例 (一)"
        },
        "xaxis": {
         "title": {
          "text": "聲母"
         }
        },
        "yaxis": {
         "title": {
          "text": "比例"
         }
        }
       }
      }
     },
     "metadata": {},
     "output_type": "display_data"
    },
    {
     "data": {
      "application/vnd.plotly.v1+json": {
       "config": {
        "plotlyServerURL": "https://plot.ly"
       },
       "data": [
        {
         "text": [
          "屎",
          "膿",
          "奈",
          "從",
          "空",
          "樸",
          "豐",
          "持",
          "陣",
          "重",
          "蟲",
          "師",
          "魚",
          "鵝",
          "瓦",
          "株",
          "中",
          "貯",
          "箠",
          "鍾",
          "東",
          "鳥",
          "津",
          "雀",
          "窮",
          "騎",
          "蛇",
          "齋",
          "矜",
          "串",
          "弓",
          "閒",
          "踏",
          "通",
          "松"
         ],
         "textfont": {
          "size": 9
         },
         "textposition": "outside",
         "type": "bar",
         "x": [
          [
           "書",
           "泥",
           "泥",
           "清",
           "溪",
           "滂",
           "滂",
           "澄",
           "澄",
           "澄",
           "澄",
           "生",
           "疑",
           "疑",
           "疑",
           "知",
           "知",
           "知",
           "章",
           "章",
           "端",
           "端",
           "精",
           "精",
           "羣",
           "羣",
           "船",
           "莊",
           "見",
           "見",
           "見",
           "見",
           "透",
           "透",
           "邪"
          ],
          [
           "s",
           "l",
           "n",
           "tsh",
           "kh",
           "ph",
           "h",
           "tsh",
           "ts",
           "t",
           "th",
           "s",
           "g",
           "ng",
           "-",
           "ts",
           "t",
           "th",
           "s",
           "ts",
           "t",
           "n",
           "ts",
           "tsh",
           "k",
           "kh",
           "s",
           "ts",
           "kh",
           "tsh",
           "k",
           "h",
           "t",
           "th",
           "s"
          ]
         ],
         "y": [
          1,
          0.75,
          0.25,
          1,
          1,
          0.61,
          0.39,
          0.07,
          0.07,
          0.63,
          0.22,
          1,
          0.66,
          0.28,
          0.07,
          0.13,
          0.84,
          0.03,
          0.04,
          0.96,
          0.97,
          0.03,
          0.97,
          0.03,
          0.69,
          0.31,
          1,
          1,
          0.02,
          0.01,
          0.95,
          0.03,
          0.07,
          0.93,
          1
         ]
        }
       ],
       "layout": {
        "colorway": [
         "#FFA15A",
         "#636EFA"
        ],
        "template": {
         "data": {
          "candlestick": [
           {
            "decreasing": {
             "line": {
              "color": "#000033"
             }
            },
            "increasing": {
             "line": {
              "color": "#000032"
             }
            },
            "type": "candlestick"
           }
          ],
          "contour": [
           {
            "colorscale": [
             [
              0,
              "#000011"
             ],
             [
              0.1111111111111111,
              "#000012"
             ],
             [
              0.2222222222222222,
              "#000013"
             ],
             [
              0.3333333333333333,
              "#000014"
             ],
             [
              0.4444444444444444,
              "#000015"
             ],
             [
              0.5555555555555556,
              "#000016"
             ],
             [
              0.6666666666666666,
              "#000017"
             ],
             [
              0.7777777777777778,
              "#000018"
             ],
             [
              0.8888888888888888,
              "#000019"
             ],
             [
              1,
              "#000020"
             ]
            ],
            "type": "contour"
           }
          ],
          "contourcarpet": [
           {
            "colorscale": [
             [
              0,
              "#000011"
             ],
             [
              0.1111111111111111,
              "#000012"
             ],
             [
              0.2222222222222222,
              "#000013"
             ],
             [
              0.3333333333333333,
              "#000014"
             ],
             [
              0.4444444444444444,
              "#000015"
             ],
             [
              0.5555555555555556,
              "#000016"
             ],
             [
              0.6666666666666666,
              "#000017"
             ],
             [
              0.7777777777777778,
              "#000018"
             ],
             [
              0.8888888888888888,
              "#000019"
             ],
             [
              1,
              "#000020"
             ]
            ],
            "type": "contourcarpet"
           }
          ],
          "heatmap": [
           {
            "colorscale": [
             [
              0,
              "#000011"
             ],
             [
              0.1111111111111111,
              "#000012"
             ],
             [
              0.2222222222222222,
              "#000013"
             ],
             [
              0.3333333333333333,
              "#000014"
             ],
             [
              0.4444444444444444,
              "#000015"
             ],
             [
              0.5555555555555556,
              "#000016"
             ],
             [
              0.6666666666666666,
              "#000017"
             ],
             [
              0.7777777777777778,
              "#000018"
             ],
             [
              0.8888888888888888,
              "#000019"
             ],
             [
              1,
              "#000020"
             ]
            ],
            "type": "heatmap"
           }
          ],
          "histogram2d": [
           {
            "colorscale": [
             [
              0,
              "#000011"
             ],
             [
              0.1111111111111111,
              "#000012"
             ],
             [
              0.2222222222222222,
              "#000013"
             ],
             [
              0.3333333333333333,
              "#000014"
             ],
             [
              0.4444444444444444,
              "#000015"
             ],
             [
              0.5555555555555556,
              "#000016"
             ],
             [
              0.6666666666666666,
              "#000017"
             ],
             [
              0.7777777777777778,
              "#000018"
             ],
             [
              0.8888888888888888,
              "#000019"
             ],
             [
              1,
              "#000020"
             ]
            ],
            "type": "histogram2d"
           }
          ],
          "icicle": [
           {
            "textfont": {
             "color": "white"
            },
            "type": "icicle"
           }
          ],
          "sankey": [
           {
            "textfont": {
             "color": "#000036"
            },
            "type": "sankey"
           }
          ],
          "scatter": [
           {
            "marker": {
             "line": {
              "width": 0
             }
            },
            "type": "scatter"
           }
          ],
          "table": [
           {
            "cells": {
             "fill": {
              "color": "#000038"
             },
             "font": {
              "color": "#000037"
             },
             "line": {
              "color": "#000039"
             }
            },
            "header": {
             "fill": {
              "color": "#000040"
             },
             "font": {
              "color": "#000036"
             },
             "line": {
              "color": "#000039"
             }
            },
            "type": "table"
           }
          ],
          "waterfall": [
           {
            "connector": {
             "line": {
              "color": "#000036",
              "width": 2
             }
            },
            "decreasing": {
             "marker": {
              "color": "#000033"
             }
            },
            "increasing": {
             "marker": {
              "color": "#000032"
             }
            },
            "totals": {
             "marker": {
              "color": "#000034"
             }
            },
            "type": "waterfall"
           }
          ]
         },
         "layout": {
          "coloraxis": {
           "colorscale": [
            [
             0,
             "#000011"
            ],
            [
             0.1111111111111111,
             "#000012"
            ],
            [
             0.2222222222222222,
             "#000013"
            ],
            [
             0.3333333333333333,
             "#000014"
            ],
            [
             0.4444444444444444,
             "#000015"
            ],
            [
             0.5555555555555556,
             "#000016"
            ],
            [
             0.6666666666666666,
             "#000017"
            ],
            [
             0.7777777777777778,
             "#000018"
            ],
            [
             0.8888888888888888,
             "#000019"
            ],
            [
             1,
             "#000020"
            ]
           ]
          },
          "colorscale": {
           "diverging": [
            [
             0,
             "#000021"
            ],
            [
             0.1,
             "#000022"
            ],
            [
             0.2,
             "#000023"
            ],
            [
             0.3,
             "#000024"
            ],
            [
             0.4,
             "#000025"
            ],
            [
             0.5,
             "#000026"
            ],
            [
             0.6,
             "#000027"
            ],
            [
             0.7,
             "#000028"
            ],
            [
             0.8,
             "#000029"
            ],
            [
             0.9,
             "#000030"
            ],
            [
             1,
             "#000031"
            ]
           ],
           "sequential": [
            [
             0,
             "#000011"
            ],
            [
             0.1111111111111111,
             "#000012"
            ],
            [
             0.2222222222222222,
             "#000013"
            ],
            [
             0.3333333333333333,
             "#000014"
            ],
            [
             0.4444444444444444,
             "#000015"
            ],
            [
             0.5555555555555556,
             "#000016"
            ],
            [
             0.6666666666666666,
             "#000017"
            ],
            [
             0.7777777777777778,
             "#000018"
            ],
            [
             0.8888888888888888,
             "#000019"
            ],
            [
             1,
             "#000020"
            ]
           ],
           "sequentialminus": [
            [
             0,
             "#000011"
            ],
            [
             0.1111111111111111,
             "#000012"
            ],
            [
             0.2222222222222222,
             "#000013"
            ],
            [
             0.3333333333333333,
             "#000014"
            ],
            [
             0.4444444444444444,
             "#000015"
            ],
            [
             0.5555555555555556,
             "#000016"
            ],
            [
             0.6666666666666666,
             "#000017"
            ],
            [
             0.7777777777777778,
             "#000018"
            ],
            [
             0.8888888888888888,
             "#000019"
            ],
            [
             1,
             "#000020"
            ]
           ]
          },
          "colorway": [
           "#000001",
           "#000002",
           "#000003",
           "#000004",
           "#000005",
           "#000006",
           "#000007",
           "#000008",
           "#000009",
           "#000010"
          ]
         }
        },
        "title": {
         "text": "閩南語文音聲母對應比例 (二)"
        },
        "xaxis": {
         "title": {
          "text": "聲母"
         }
        },
        "yaxis": {
         "title": {
          "text": "比例"
         }
        }
       }
      }
     },
     "metadata": {},
     "output_type": "display_data"
    }
   ],
   "source": [
    "# 由於似乎沒找到甚麼有效的方法可以畫出三層以上的群組長條圖，所以以下只有最基本的中古音與閩南語聲韻調的對應關係會以圖呈現，等呼的差異只能以表格呈現\n",
    "# 每張圖的長條數量有限，長條太多字會跑不出來，所以我們將資料分成數張圖呈現\n",
    "def sfig(siann):\n",
    "    i = 0 # 長條數量修正值\n",
    "    j =0 # 圖片編號\n",
    "    per = 37 # 每張圖的長條數量\n",
    "    now = 0 # 現在的長條位置\n",
    "    order = ['一', '二', '三', '四', '五', '六', '七', '八', '九', '十', '十一', '十二', '十三', '十四', '十五', '十六', '十七', '十八', '十九']\n",
    "    all_figs = []\n",
    "    while now < siann.shape[0]:\n",
    "        # 不能讓圖片的長條數量超過資料的長條數量，不然會壞掉\n",
    "        if now+per-1 >= siann.shape[0]:\n",
    "            # 讓最後一張圖的累計長條數量等於資料的長條數量\n",
    "            i = siann.shape[0]-now-per\n",
    "        elif now+per == siann.shape[0]:\n",
    "            i = 0\n",
    "        else:\n",
    "            # 不要讓同一個項目拆成兩張圖\n",
    "            while siann.sort_values('聲母').iloc[now+per+i-1]['聲母'] == siann.sort_values('聲母').iloc[now+per+i]['聲母']:\n",
    "                i += 1\n",
    "                if now+per+i-1 == siann.shape[0]:\n",
    "                    break\n",
    "        x = [\n",
    "            siann.sort_values('聲母').iloc[now:now+per+i]['聲母'],\n",
    "            siann.sort_values('聲母').iloc[now:now+per+i]['閩南語聲母']\n",
    "        ]\n",
    "        figs = go.Figure()\n",
    "        figs.add_bar(x=x,y=siann.sort_values('聲母')[now:now+per+i]['比例'], text=siann.sort_values('聲母')[now:now+per+i]['例字']\n",
    "                    , textposition='outside', textfont=dict(size=9))\n",
    "\n",
    "        # 變更顏色、添加標題和座標軸名稱\n",
    "        figs.update_layout(\n",
    "            colorway=['#FFA15A', '#636EFA'],\n",
    "            title=f'閩南語{bp}音聲母對應比例 ({order[j]})',\n",
    "            xaxis_title='聲母',\n",
    "            yaxis_title='比例'\n",
    "        )    \n",
    "        # 把所有圖存在一起\n",
    "        all_figs.append(figs)\n",
    "        now += per+i\n",
    "        i = 0\n",
    "        j += 1\n",
    "        if now >= siann.shape[0]:\n",
    "            break\n",
    "    return all_figs\n",
    "\n",
    "''''''\n",
    "# %%\n",
    "im, siann = s1()\n",
    "for fig in sfig(siann):\n",
    "    fig.show()\n"
   ]
  },
  {
   "cell_type": "markdown",
   "metadata": {},
   "source": [
    "#### 細部對照"
   ]
  },
  {
   "cell_type": "markdown",
   "metadata": {},
   "source": [
    "##### 分析聲母與等"
   ]
  },
  {
   "cell_type": "code",
   "execution_count": 6,
   "metadata": {},
   "outputs": [
    {
     "name": "stderr",
     "output_type": "stream",
     "text": [
      "C:\\Users\\O\\AppData\\Local\\Temp\\ipykernel_24988\\3465589181.py:13: SettingWithCopyWarning:\n",
      "\n",
      "\n",
      "A value is trying to be set on a copy of a slice from a DataFrame.\n",
      "Try using .loc[row_indexer,col_indexer] = value instead\n",
      "\n",
      "See the caveats in the documentation: https://pandas.pydata.org/pandas-docs/stable/user_guide/indexing.html#returning-a-view-versus-a-copy\n",
      "\n",
      "C:\\Users\\O\\AppData\\Local\\Temp\\ipykernel_24988\\608827147.py:46: FutureWarning:\n",
      "\n",
      "Setting an item of incompatible dtype is deprecated and will raise in a future error of pandas. Value '0.21508085460351353' has dtype incompatible with int64, please explicitly cast to a compatible dtype first.\n",
      "\n"
     ]
    },
    {
     "data": {
      "text/html": [
       "<div>\n",
       "<style scoped>\n",
       "    .dataframe tbody tr th:only-of-type {\n",
       "        vertical-align: middle;\n",
       "    }\n",
       "\n",
       "    .dataframe tbody tr th {\n",
       "        vertical-align: top;\n",
       "    }\n",
       "\n",
       "    .dataframe thead th {\n",
       "        text-align: right;\n",
       "    }\n",
       "</style>\n",
       "<table border=\"1\" class=\"dataframe\">\n",
       "  <thead>\n",
       "    <tr style=\"text-align: right;\">\n",
       "      <th></th>\n",
       "      <th></th>\n",
       "      <th></th>\n",
       "      <th>比例</th>\n",
       "      <th>例字</th>\n",
       "    </tr>\n",
       "    <tr>\n",
       "      <th>聲母</th>\n",
       "      <th>等</th>\n",
       "      <th>閩南語聲母</th>\n",
       "      <th></th>\n",
       "      <th></th>\n",
       "    </tr>\n",
       "  </thead>\n",
       "  <tbody>\n",
       "    <tr>\n",
       "      <th rowspan=\"9\" valign=\"top\">並</th>\n",
       "      <th rowspan=\"3\" valign=\"top\">一</th>\n",
       "      <th>h</th>\n",
       "      <td>0.06</td>\n",
       "      <td>篷</td>\n",
       "    </tr>\n",
       "    <tr>\n",
       "      <th>p</th>\n",
       "      <td>0.56</td>\n",
       "      <td>盤</td>\n",
       "    </tr>\n",
       "    <tr>\n",
       "      <th>ph</th>\n",
       "      <td>0.38</td>\n",
       "      <td>磐</td>\n",
       "    </tr>\n",
       "    <tr>\n",
       "      <th rowspan=\"3\" valign=\"top\">三</th>\n",
       "      <th>h</th>\n",
       "      <td>0.58</td>\n",
       "      <td>縫</td>\n",
       "    </tr>\n",
       "    <tr>\n",
       "      <th>p</th>\n",
       "      <td>0.35</td>\n",
       "      <td>便</td>\n",
       "    </tr>\n",
       "    <tr>\n",
       "      <th>ph</th>\n",
       "      <td>0.06</td>\n",
       "      <td>皮</td>\n",
       "    </tr>\n",
       "    <tr>\n",
       "      <th rowspan=\"2\" valign=\"top\">二</th>\n",
       "      <th>p</th>\n",
       "      <td>0.86</td>\n",
       "      <td>琶</td>\n",
       "    </tr>\n",
       "    <tr>\n",
       "      <th>ph</th>\n",
       "      <td>0.14</td>\n",
       "      <td>彭</td>\n",
       "    </tr>\n",
       "    <tr>\n",
       "      <th>四</th>\n",
       "      <th>p</th>\n",
       "      <td>1.00</td>\n",
       "      <td>並</td>\n",
       "    </tr>\n",
       "    <tr>\n",
       "      <th rowspan=\"5\" valign=\"top\">幫</th>\n",
       "      <th>一</th>\n",
       "      <th>p</th>\n",
       "      <td>1.00</td>\n",
       "      <td>般</td>\n",
       "    </tr>\n",
       "    <tr>\n",
       "      <th rowspan=\"2\" valign=\"top\">三</th>\n",
       "      <th>h</th>\n",
       "      <td>0.69</td>\n",
       "      <td>楓</td>\n",
       "    </tr>\n",
       "    <tr>\n",
       "      <th>p</th>\n",
       "      <td>0.31</td>\n",
       "      <td>鞭</td>\n",
       "    </tr>\n",
       "    <tr>\n",
       "      <th>二</th>\n",
       "      <th>p</th>\n",
       "      <td>1.00</td>\n",
       "      <td>飽</td>\n",
       "    </tr>\n",
       "    <tr>\n",
       "      <th>四</th>\n",
       "      <th>p</th>\n",
       "      <td>1.00</td>\n",
       "      <td>邊</td>\n",
       "    </tr>\n",
       "    <tr>\n",
       "      <th rowspan=\"6\" valign=\"top\">明</th>\n",
       "      <th rowspan=\"2\" valign=\"top\">一</th>\n",
       "      <th>b</th>\n",
       "      <td>0.65</td>\n",
       "      <td>門</td>\n",
       "    </tr>\n",
       "    <tr>\n",
       "      <th>m</th>\n",
       "      <td>0.35</td>\n",
       "      <td>梅</td>\n",
       "    </tr>\n",
       "    <tr>\n",
       "      <th>三</th>\n",
       "      <th>b</th>\n",
       "      <td>1.00</td>\n",
       "      <td>夢</td>\n",
       "    </tr>\n",
       "    <tr>\n",
       "      <th rowspan=\"2\" valign=\"top\">二</th>\n",
       "      <th>b</th>\n",
       "      <td>0.11</td>\n",
       "      <td>猛</td>\n",
       "    </tr>\n",
       "    <tr>\n",
       "      <th>m</th>\n",
       "      <td>0.89</td>\n",
       "      <td>茅</td>\n",
       "    </tr>\n",
       "    <tr>\n",
       "      <th>四</th>\n",
       "      <th>b</th>\n",
       "      <td>1.00</td>\n",
       "      <td>眠</td>\n",
       "    </tr>\n",
       "    <tr>\n",
       "      <th rowspan=\"5\" valign=\"top\">滂</th>\n",
       "      <th>一</th>\n",
       "      <th>ph</th>\n",
       "      <td>1.00</td>\n",
       "      <td>潘</td>\n",
       "    </tr>\n",
       "    <tr>\n",
       "      <th rowspan=\"2\" valign=\"top\">三</th>\n",
       "      <th>h</th>\n",
       "      <td>0.62</td>\n",
       "      <td>豐</td>\n",
       "    </tr>\n",
       "    <tr>\n",
       "      <th>ph</th>\n",
       "      <td>0.38</td>\n",
       "      <td>篇</td>\n",
       "    </tr>\n",
       "    <tr>\n",
       "      <th>二</th>\n",
       "      <th>ph</th>\n",
       "      <td>1.00</td>\n",
       "      <td>樸</td>\n",
       "    </tr>\n",
       "    <tr>\n",
       "      <th>四</th>\n",
       "      <th>ph</th>\n",
       "      <td>1.00</td>\n",
       "      <td>批</td>\n",
       "    </tr>\n",
       "    <tr>\n",
       "      <th rowspan=\"7\" valign=\"top\">疑</th>\n",
       "      <th rowspan=\"2\" valign=\"top\">一</th>\n",
       "      <th>g</th>\n",
       "      <td>0.33</td>\n",
       "      <td>外</td>\n",
       "    </tr>\n",
       "    <tr>\n",
       "      <th>ng</th>\n",
       "      <td>0.67</td>\n",
       "      <td>鵝</td>\n",
       "    </tr>\n",
       "    <tr>\n",
       "      <th>三</th>\n",
       "      <th>g</th>\n",
       "      <td>1.00</td>\n",
       "      <td>魚</td>\n",
       "    </tr>\n",
       "    <tr>\n",
       "      <th rowspan=\"3\" valign=\"top\">二</th>\n",
       "      <th>-</th>\n",
       "      <td>0.25</td>\n",
       "      <td>瓦</td>\n",
       "    </tr>\n",
       "    <tr>\n",
       "      <th>g</th>\n",
       "      <td>0.62</td>\n",
       "      <td>牙</td>\n",
       "    </tr>\n",
       "    <tr>\n",
       "      <th>ng</th>\n",
       "      <td>0.12</td>\n",
       "      <td>雅</td>\n",
       "    </tr>\n",
       "    <tr>\n",
       "      <th>四</th>\n",
       "      <th>g</th>\n",
       "      <td>1.00</td>\n",
       "      <td>研</td>\n",
       "    </tr>\n",
       "  </tbody>\n",
       "</table>\n",
       "</div>"
      ],
      "text/plain": [
       "              比例 例字\n",
       "聲母 等 閩南語聲母         \n",
       "並  一 h      0.06  篷\n",
       "     p      0.56  盤\n",
       "     ph     0.38  磐\n",
       "   三 h      0.58  縫\n",
       "     p      0.35  便\n",
       "     ph     0.06  皮\n",
       "   二 p      0.86  琶\n",
       "     ph     0.14  彭\n",
       "   四 p      1.00  並\n",
       "幫  一 p      1.00  般\n",
       "   三 h      0.69  楓\n",
       "     p      0.31  鞭\n",
       "   二 p      1.00  飽\n",
       "   四 p      1.00  邊\n",
       "明  一 b      0.65  門\n",
       "     m      0.35  梅\n",
       "   三 b      1.00  夢\n",
       "   二 b      0.11  猛\n",
       "     m      0.89  茅\n",
       "   四 b      1.00  眠\n",
       "滂  一 ph     1.00  潘\n",
       "   三 h      0.62  豐\n",
       "     ph     0.38  篇\n",
       "   二 ph     1.00  樸\n",
       "   四 ph     1.00  批\n",
       "疑  一 g      0.33  外\n",
       "     ng     0.67  鵝\n",
       "   三 g      1.00  魚\n",
       "   二 -      0.25  瓦\n",
       "     g      0.62  牙\n",
       "     ng     0.12  雅\n",
       "   四 g      1.00  研"
      ]
     },
     "execution_count": 6,
     "metadata": {},
     "output_type": "execute_result"
    }
   ],
   "source": [
    "# 找出中古聲母對應閩南語聲母有分歧的聲母，分析看看是為甚麼\n",
    "# 先假設閩南語聲母的分歧是因為等的差異，所以我們先找出不同的等\n",
    "def s2(im, siann):\n",
    "    l = [i for i in siann['聲母'] if (siann[siann['聲母'] == i]['閩南語聲母'].count() != 1)]\n",
    "    l = list(set(l))\n",
    "    l = [i for i in l if (len(im[im['聲母'] == i]['等'].unique()) != 1)]\n",
    "    st0 = im.query('聲母 in @l')\n",
    "    st_ = st0.groupby(['聲母', '等', '閩南語聲母']).size().reset_index(name='字數')\n",
    "    st_['比例'] = st_['字數'] / st_.groupby(['聲母', '等'])['字數'].transform('sum')\n",
    "\n",
    "    ''''''\n",
    "    # 消除破音字，跟之前一樣\n",
    "    st_ = st_.sort_values(by='比例', ascending=False)\n",
    "    im['temp'] = False\n",
    "    for i, row in st_.iterrows():\n",
    "        s = row['聲母']\n",
    "        ms = row['閩南語聲母']\n",
    "        t = row['等']\n",
    "\n",
    "        for j in list(im[(im['聲母'] == s) & (im['閩南語聲母'] == ms) & (im['等'] == t)]['字']):\n",
    "                if im[im['字'] == j].sort_values(by='temp', ascending=False)['temp'].reset_index().loc[0,'temp']:\n",
    "                    im = im[~((im['字'] == j) & (~im['temp']))]\n",
    "                else:\n",
    "                    im.loc[((im['聲母'] == s) & (im['閩南語聲母'] == ms) & (im['等'] == t) & (im['字'] == j)),'temp'] = True\n",
    "            \n",
    "    del im['temp']\n",
    "\n",
    "    # 重新計算比例\n",
    "    st0 = im.query('聲母 in @l')\n",
    "    st_ = st0.groupby(['聲母', '等', '閩南語聲母']).size().reset_index(name='字數')\n",
    "    st_['比例'] = st_['字數'] / st_.groupby(['聲母', '等'])['字數'].transform('sum')\n",
    "    st_['比例'] = round(st_['比例'], 2)\n",
    "\n",
    "    ''''''\n",
    "    # 聲母的分歧不見得都與等相關，因此比較一個字對應到同樣的閩南語聲母，不同等的標準差，並將標準差大於0.2才的聲母挑出來，來粗略鑑驗其相關性\n",
    "    st_['temp'] = 0\n",
    "    for i in st_['聲母'].unique():\n",
    "        tnum = len(im[im['聲母'] == i]['等'].unique())\n",
    "        nstd = 0\n",
    "        for j in st_[st_['聲母'] == i]['閩南語聲母'].unique():\n",
    "            l = list(st_[(st_['聲母'] == i) & (st_['閩南語聲母'] == j)]['比例'])\n",
    "            while len(l) < tnum:\n",
    "                l.append(0)\n",
    "            nstd += np.std(l)*(st_[(st_['聲母'] == i) & (st_['閩南語聲母'] == j)].shape[0] / st_[st_['聲母'] == i].shape[0])\n",
    "        #print(i, nstd)\n",
    "        st_.loc[st_['聲母'] == i,'temp'] = nstd\n",
    "    # 若標準差未大於0.2，則認為分歧不夠，恐怕不是等的問題，刪除。以下皆以標準差大於0.2為準\n",
    "    st_ = st_[st_['temp'] > 0.2]\n",
    "    del st_['temp']\n",
    "\n",
    "    ''''''\n",
    "    # 例字\n",
    "    st_['例字'] = [list(st0[(st0['聲母'] == row['聲母']) & (st0['閩南語聲母'] == row['閩南語聲母']) & (st0['等'] == row['等'])]['字'])[0] for i, row in st_.iterrows()]\n",
    "    return st_\n",
    "\n",
    "''''''\n",
    "# %%\n",
    "im, siann = s1()\n",
    "st_ = s2(im, siann)\n",
    "gst = pd.DataFrame(st_.groupby(['聲母','等', '閩南語聲母'])[['比例', '例字']].apply(lambda x: x.iloc[0]))\n",
    "gst\n"
   ]
  },
  {
   "cell_type": "markdown",
   "metadata": {},
   "source": [
    "### 處理韻母"
   ]
  },
  {
   "cell_type": "markdown",
   "metadata": {},
   "source": [
    "#### 基本對照"
   ]
  },
  {
   "cell_type": "code",
   "execution_count": 7,
   "metadata": {},
   "outputs": [
    {
     "name": "stderr",
     "output_type": "stream",
     "text": [
      "C:\\Users\\O\\AppData\\Local\\Temp\\ipykernel_24988\\906882859.py:8: SettingWithCopyWarning:\n",
      "\n",
      "\n",
      "A value is trying to be set on a copy of a slice from a DataFrame.\n",
      "Try using .loc[row_indexer,col_indexer] = value instead\n",
      "\n",
      "See the caveats in the documentation: https://pandas.pydata.org/pandas-docs/stable/user_guide/indexing.html#returning-a-view-versus-a-copy\n",
      "\n"
     ]
    },
    {
     "data": {
      "text/html": [
       "<div>\n",
       "<style scoped>\n",
       "    .dataframe tbody tr th:only-of-type {\n",
       "        vertical-align: middle;\n",
       "    }\n",
       "\n",
       "    .dataframe tbody tr th {\n",
       "        vertical-align: top;\n",
       "    }\n",
       "\n",
       "    .dataframe thead th {\n",
       "        text-align: right;\n",
       "    }\n",
       "</style>\n",
       "<table border=\"1\" class=\"dataframe\">\n",
       "  <thead>\n",
       "    <tr style=\"text-align: right;\">\n",
       "      <th></th>\n",
       "      <th></th>\n",
       "      <th>比例</th>\n",
       "      <th>例字</th>\n",
       "    </tr>\n",
       "    <tr>\n",
       "      <th>韻目</th>\n",
       "      <th>閩南語韻母</th>\n",
       "      <th></th>\n",
       "      <th></th>\n",
       "    </tr>\n",
       "  </thead>\n",
       "  <tbody>\n",
       "    <tr>\n",
       "      <th rowspan=\"3\" valign=\"top\">之</th>\n",
       "      <th>i</th>\n",
       "      <td>0.15</td>\n",
       "      <td>基</td>\n",
       "    </tr>\n",
       "    <tr>\n",
       "      <th>it</th>\n",
       "      <td>0.04</td>\n",
       "      <td>值</td>\n",
       "    </tr>\n",
       "    <tr>\n",
       "      <th>u</th>\n",
       "      <td>0.81</td>\n",
       "      <td>思</td>\n",
       "    </tr>\n",
       "    <tr>\n",
       "      <th>乏</th>\n",
       "      <th>uat</th>\n",
       "      <td>1.00</td>\n",
       "      <td>乏</td>\n",
       "    </tr>\n",
       "    <tr>\n",
       "      <th rowspan=\"2\" valign=\"top\">仙</th>\n",
       "      <th>ian</th>\n",
       "      <td>0.68</td>\n",
       "      <td>鮮</td>\n",
       "    </tr>\n",
       "    <tr>\n",
       "      <th>uan</th>\n",
       "      <td>0.32</td>\n",
       "      <td>全</td>\n",
       "    </tr>\n",
       "    <tr>\n",
       "      <th rowspan=\"2\" valign=\"top\">佳</th>\n",
       "      <th>ai</th>\n",
       "      <td>0.90</td>\n",
       "      <td>鞋</td>\n",
       "    </tr>\n",
       "    <tr>\n",
       "      <th>ua</th>\n",
       "      <td>0.10</td>\n",
       "      <td>掛</td>\n",
       "    </tr>\n",
       "    <tr>\n",
       "      <th rowspan=\"3\" valign=\"top\">侯</th>\n",
       "      <th>io</th>\n",
       "      <td>0.22</td>\n",
       "      <td>歐</td>\n",
       "    </tr>\n",
       "    <tr>\n",
       "      <th>o</th>\n",
       "      <td>0.04</td>\n",
       "      <td>透</td>\n",
       "    </tr>\n",
       "    <tr>\n",
       "      <th>oo</th>\n",
       "      <td>0.74</td>\n",
       "      <td>侯</td>\n",
       "    </tr>\n",
       "    <tr>\n",
       "      <th>侵</th>\n",
       "      <th>im</th>\n",
       "      <td>1.00</td>\n",
       "      <td>尋</td>\n",
       "    </tr>\n",
       "    <tr>\n",
       "      <th rowspan=\"2\" valign=\"top\">元</th>\n",
       "      <th>ian</th>\n",
       "      <td>0.24</td>\n",
       "      <td>軒</td>\n",
       "    </tr>\n",
       "    <tr>\n",
       "      <th>uan</th>\n",
       "      <td>0.76</td>\n",
       "      <td>園</td>\n",
       "    </tr>\n",
       "    <tr>\n",
       "      <th>先</th>\n",
       "      <th>ian</th>\n",
       "      <td>1.00</td>\n",
       "      <td>先</td>\n",
       "    </tr>\n",
       "    <tr>\n",
       "      <th>冬</th>\n",
       "      <th>ong</th>\n",
       "      <td>1.00</td>\n",
       "      <td>冬</td>\n",
       "    </tr>\n",
       "    <tr>\n",
       "      <th>凡</th>\n",
       "      <th>uan</th>\n",
       "      <td>1.00</td>\n",
       "      <td>帆</td>\n",
       "    </tr>\n",
       "    <tr>\n",
       "      <th rowspan=\"2\" valign=\"top\">刪</th>\n",
       "      <th>an</th>\n",
       "      <td>0.20</td>\n",
       "      <td>般</td>\n",
       "    </tr>\n",
       "    <tr>\n",
       "      <th>uan</th>\n",
       "      <td>0.80</td>\n",
       "      <td>關</td>\n",
       "    </tr>\n",
       "    <tr>\n",
       "      <th>合</th>\n",
       "      <th>ap</th>\n",
       "      <td>1.00</td>\n",
       "      <td>合</td>\n",
       "    </tr>\n",
       "  </tbody>\n",
       "</table>\n",
       "</div>"
      ],
      "text/plain": [
       "            比例 例字\n",
       "韻目 閩南語韻母         \n",
       "之  i      0.15  基\n",
       "   it     0.04  值\n",
       "   u      0.81  思\n",
       "乏  uat    1.00  乏\n",
       "仙  ian    0.68  鮮\n",
       "   uan    0.32  全\n",
       "佳  ai     0.90  鞋\n",
       "   ua     0.10  掛\n",
       "侯  io     0.22  歐\n",
       "   o      0.04  透\n",
       "   oo     0.74  侯\n",
       "侵  im     1.00  尋\n",
       "元  ian    0.24  軒\n",
       "   uan    0.76  園\n",
       "先  ian    1.00  先\n",
       "冬  ong    1.00  冬\n",
       "凡  uan    1.00  帆\n",
       "刪  an     0.20  般\n",
       "   uan    0.80  關\n",
       "合  ap     1.00  合"
      ]
     },
     "execution_count": 7,
     "metadata": {},
     "output_type": "execute_result"
    }
   ],
   "source": [
    "def u1():\n",
    "    im = D[D['文白音'] == bp]\n",
    "    un = im.groupby(['韻目', '閩南語韻母']).size().reset_index(name='字數')\n",
    "\n",
    "    # 使用 transform 計算比例並新增一列 '比例'\n",
    "    un['比例'] = un['字數'] / un.groupby('韻目')['字數'].transform('sum')\n",
    "    un = un.sort_values(by='比例', ascending=False)\n",
    "    im['temp'] = False\n",
    "\n",
    "    # 消除破音字\n",
    "    for i, row in un.iterrows():\n",
    "        u = row['韻目']\n",
    "        mu = row['閩南語韻母']\n",
    "\n",
    "        for j in list(im[(im['韻目'] == u) & (im['閩南語韻母'] == mu)]['字']):\n",
    "                if im[im['字'] == j].sort_values(by='temp', ascending=False)['temp'].reset_index().loc[0,'temp']:\n",
    "                    im = im[~((im['字'] == j) & (~im['temp']))]\n",
    "                else:\n",
    "                    im.loc[((im['韻目'] == u) & (im['閩南語韻母'] == mu) & (im['字'] == j)),'temp'] = True\n",
    "            \n",
    "    del im['temp']\n",
    "\n",
    "    # 重新計算比例\n",
    "    un = im.groupby(['韻目', '閩南語韻母']).size().reset_index(name='字數')\n",
    "    un['比例'] = un['字數'] / un.groupby('韻目')['字數'].transform('sum')\n",
    "    un = un.sort_values(by='比例', ascending=False)\n",
    "    un['比例'] = round(un['比例'], 2)\n",
    "\n",
    "    # 例字\n",
    "    un['例字'] = [list(im[(im['韻目'] == row['韻目']) & (im['閩南語韻母'] == row['閩南語韻母'])]['字'])[0] for i, row in un.iterrows()]\n",
    "    return im, un\n",
    "\n",
    "''''''\n",
    "# %%\n",
    "im, un = u1()\n",
    "g_un = pd.DataFrame(un.groupby(['韻目', '閩南語韻母'])[['比例', '例字']].apply(lambda x: x.iloc[0]))\n",
    "g_un.head(20)\n"
   ]
  },
  {
   "cell_type": "markdown",
   "metadata": {},
   "source": [
    "#### 作圖"
   ]
  },
  {
   "cell_type": "code",
   "execution_count": 8,
   "metadata": {},
   "outputs": [
    {
     "name": "stderr",
     "output_type": "stream",
     "text": [
      "C:\\Users\\O\\AppData\\Local\\Temp\\ipykernel_24988\\906882859.py:8: SettingWithCopyWarning:\n",
      "\n",
      "\n",
      "A value is trying to be set on a copy of a slice from a DataFrame.\n",
      "Try using .loc[row_indexer,col_indexer] = value instead\n",
      "\n",
      "See the caveats in the documentation: https://pandas.pydata.org/pandas-docs/stable/user_guide/indexing.html#returning-a-view-versus-a-copy\n",
      "\n"
     ]
    },
    {
     "data": {
      "application/vnd.plotly.v1+json": {
       "config": {
        "plotlyServerURL": "https://plot.ly"
       },
       "data": [
        {
         "text": [
          "值",
          "基",
          "思",
          "乏",
          "全",
          "鮮",
          "鞋",
          "掛",
          "歐",
          "透",
          "侯",
          "尋",
          "園",
          "軒",
          "先",
          "冬",
          "帆",
          "般",
          "關",
          "合",
          "開",
          "斬",
          "映",
          "湯",
          "喝",
          "哨",
          "寒",
          "浮",
          "留",
          "曝",
          "畜",
          "結",
          "山",
          "平",
          "吠",
          "飛",
          "幾"
         ],
         "textfont": {
          "size": 9
         },
         "textposition": "outside",
         "type": "bar",
         "x": [
          [
           "之",
           "之",
           "之",
           "乏",
           "仙",
           "仙",
           "佳",
           "佳",
           "侯",
           "侯",
           "侯",
           "侵",
           "元",
           "元",
           "先",
           "冬",
           "凡",
           "刪",
           "刪",
           "合",
           "咍",
           "咸",
           "唐",
           "唐",
           "夬",
           "宵",
           "寒",
           "尤",
           "尤",
           "屋",
           "屋",
           "屑",
           "山",
           "庚",
           "廢",
           "微",
           "微"
          ],
          [
           "it",
           "i",
           "u",
           "uat",
           "uan",
           "ian",
           "ai",
           "ua",
           "io",
           "o",
           "oo",
           "im",
           "uan",
           "ian",
           "ian",
           "ong",
           "uan",
           "an",
           "uan",
           "ap",
           "ai",
           "am",
           "iong",
           "ong",
           "at",
           "iau",
           "an",
           "u",
           "iu",
           "ok",
           "iok",
           "iat",
           "an",
           "ing",
           "ui",
           "ui",
           "i"
          ]
         ],
         "y": [
          0.04,
          0.15,
          0.81,
          1,
          0.32,
          0.68,
          0.9,
          0.1,
          0.22,
          0.04,
          0.74,
          1,
          0.76,
          0.24,
          1,
          1,
          1,
          0.2,
          0.8,
          1,
          1,
          1,
          0.02,
          0.98,
          1,
          1,
          1,
          0.13,
          0.87,
          0.38,
          0.62,
          1,
          1,
          1,
          1,
          0.17,
          0.83
         ]
        }
       ],
       "layout": {
        "colorway": [
         "#D25350",
         "#636EFA"
        ],
        "template": {
         "data": {
          "candlestick": [
           {
            "decreasing": {
             "line": {
              "color": "#000033"
             }
            },
            "increasing": {
             "line": {
              "color": "#000032"
             }
            },
            "type": "candlestick"
           }
          ],
          "contour": [
           {
            "colorscale": [
             [
              0,
              "#000011"
             ],
             [
              0.1111111111111111,
              "#000012"
             ],
             [
              0.2222222222222222,
              "#000013"
             ],
             [
              0.3333333333333333,
              "#000014"
             ],
             [
              0.4444444444444444,
              "#000015"
             ],
             [
              0.5555555555555556,
              "#000016"
             ],
             [
              0.6666666666666666,
              "#000017"
             ],
             [
              0.7777777777777778,
              "#000018"
             ],
             [
              0.8888888888888888,
              "#000019"
             ],
             [
              1,
              "#000020"
             ]
            ],
            "type": "contour"
           }
          ],
          "contourcarpet": [
           {
            "colorscale": [
             [
              0,
              "#000011"
             ],
             [
              0.1111111111111111,
              "#000012"
             ],
             [
              0.2222222222222222,
              "#000013"
             ],
             [
              0.3333333333333333,
              "#000014"
             ],
             [
              0.4444444444444444,
              "#000015"
             ],
             [
              0.5555555555555556,
              "#000016"
             ],
             [
              0.6666666666666666,
              "#000017"
             ],
             [
              0.7777777777777778,
              "#000018"
             ],
             [
              0.8888888888888888,
              "#000019"
             ],
             [
              1,
              "#000020"
             ]
            ],
            "type": "contourcarpet"
           }
          ],
          "heatmap": [
           {
            "colorscale": [
             [
              0,
              "#000011"
             ],
             [
              0.1111111111111111,
              "#000012"
             ],
             [
              0.2222222222222222,
              "#000013"
             ],
             [
              0.3333333333333333,
              "#000014"
             ],
             [
              0.4444444444444444,
              "#000015"
             ],
             [
              0.5555555555555556,
              "#000016"
             ],
             [
              0.6666666666666666,
              "#000017"
             ],
             [
              0.7777777777777778,
              "#000018"
             ],
             [
              0.8888888888888888,
              "#000019"
             ],
             [
              1,
              "#000020"
             ]
            ],
            "type": "heatmap"
           }
          ],
          "histogram2d": [
           {
            "colorscale": [
             [
              0,
              "#000011"
             ],
             [
              0.1111111111111111,
              "#000012"
             ],
             [
              0.2222222222222222,
              "#000013"
             ],
             [
              0.3333333333333333,
              "#000014"
             ],
             [
              0.4444444444444444,
              "#000015"
             ],
             [
              0.5555555555555556,
              "#000016"
             ],
             [
              0.6666666666666666,
              "#000017"
             ],
             [
              0.7777777777777778,
              "#000018"
             ],
             [
              0.8888888888888888,
              "#000019"
             ],
             [
              1,
              "#000020"
             ]
            ],
            "type": "histogram2d"
           }
          ],
          "icicle": [
           {
            "textfont": {
             "color": "white"
            },
            "type": "icicle"
           }
          ],
          "sankey": [
           {
            "textfont": {
             "color": "#000036"
            },
            "type": "sankey"
           }
          ],
          "scatter": [
           {
            "marker": {
             "line": {
              "width": 0
             }
            },
            "type": "scatter"
           }
          ],
          "table": [
           {
            "cells": {
             "fill": {
              "color": "#000038"
             },
             "font": {
              "color": "#000037"
             },
             "line": {
              "color": "#000039"
             }
            },
            "header": {
             "fill": {
              "color": "#000040"
             },
             "font": {
              "color": "#000036"
             },
             "line": {
              "color": "#000039"
             }
            },
            "type": "table"
           }
          ],
          "waterfall": [
           {
            "connector": {
             "line": {
              "color": "#000036",
              "width": 2
             }
            },
            "decreasing": {
             "marker": {
              "color": "#000033"
             }
            },
            "increasing": {
             "marker": {
              "color": "#000032"
             }
            },
            "totals": {
             "marker": {
              "color": "#000034"
             }
            },
            "type": "waterfall"
           }
          ]
         },
         "layout": {
          "coloraxis": {
           "colorscale": [
            [
             0,
             "#000011"
            ],
            [
             0.1111111111111111,
             "#000012"
            ],
            [
             0.2222222222222222,
             "#000013"
            ],
            [
             0.3333333333333333,
             "#000014"
            ],
            [
             0.4444444444444444,
             "#000015"
            ],
            [
             0.5555555555555556,
             "#000016"
            ],
            [
             0.6666666666666666,
             "#000017"
            ],
            [
             0.7777777777777778,
             "#000018"
            ],
            [
             0.8888888888888888,
             "#000019"
            ],
            [
             1,
             "#000020"
            ]
           ]
          },
          "colorscale": {
           "diverging": [
            [
             0,
             "#000021"
            ],
            [
             0.1,
             "#000022"
            ],
            [
             0.2,
             "#000023"
            ],
            [
             0.3,
             "#000024"
            ],
            [
             0.4,
             "#000025"
            ],
            [
             0.5,
             "#000026"
            ],
            [
             0.6,
             "#000027"
            ],
            [
             0.7,
             "#000028"
            ],
            [
             0.8,
             "#000029"
            ],
            [
             0.9,
             "#000030"
            ],
            [
             1,
             "#000031"
            ]
           ],
           "sequential": [
            [
             0,
             "#000011"
            ],
            [
             0.1111111111111111,
             "#000012"
            ],
            [
             0.2222222222222222,
             "#000013"
            ],
            [
             0.3333333333333333,
             "#000014"
            ],
            [
             0.4444444444444444,
             "#000015"
            ],
            [
             0.5555555555555556,
             "#000016"
            ],
            [
             0.6666666666666666,
             "#000017"
            ],
            [
             0.7777777777777778,
             "#000018"
            ],
            [
             0.8888888888888888,
             "#000019"
            ],
            [
             1,
             "#000020"
            ]
           ],
           "sequentialminus": [
            [
             0,
             "#000011"
            ],
            [
             0.1111111111111111,
             "#000012"
            ],
            [
             0.2222222222222222,
             "#000013"
            ],
            [
             0.3333333333333333,
             "#000014"
            ],
            [
             0.4444444444444444,
             "#000015"
            ],
            [
             0.5555555555555556,
             "#000016"
            ],
            [
             0.6666666666666666,
             "#000017"
            ],
            [
             0.7777777777777778,
             "#000018"
            ],
            [
             0.8888888888888888,
             "#000019"
            ],
            [
             1,
             "#000020"
            ]
           ]
          },
          "colorway": [
           "#000001",
           "#000002",
           "#000003",
           "#000004",
           "#000005",
           "#000006",
           "#000007",
           "#000008",
           "#000009",
           "#000010"
          ]
         }
        },
        "title": {
         "text": "閩南語文音韻母對應比例 (一)"
        },
        "xaxis": {
         "title": {
          "text": "韻目"
         }
        },
        "yaxis": {
         "title": {
          "text": "比例"
         }
        }
       }
      }
     },
     "metadata": {},
     "output_type": "display_data"
    },
    {
     "data": {
      "application/vnd.plotly.v1+json": {
       "config": {
        "plotlyServerURL": "https://plot.ly"
       },
       "data": [
        {
         "text": [
          "北",
          "得",
          "貼",
          "過",
          "火",
          "螺",
          "垂",
          "支",
          "員",
          "墳",
          "脊",
          "渴",
          "月",
          "末",
          "中",
          "東",
          "端",
          "涂",
          "蟋",
          "殷",
          "鵝",
          "歌",
          "腔",
          "講",
          "扛",
          "毒",
          "蓋",
          "外",
          "狹",
          "插",
          "添",
          "瓊",
          "清",
          "推",
          "悔",
          "燭",
          "獄"
         ],
         "textfont": {
          "size": 9
         },
         "textposition": "outside",
         "type": "bar",
         "x": [
          [
           "德",
           "德",
           "怗",
           "戈",
           "戈",
           "戈",
           "支",
           "支",
           "文",
           "文",
           "昔",
           "曷",
           "月",
           "末",
           "東",
           "東",
           "桓",
           "模",
           "櫛",
           "欣",
           "歌",
           "歌",
           "江",
           "江",
           "江",
           "沃",
           "泰",
           "泰",
           "洽",
           "洽",
           "添",
           "清",
           "清",
           "灰",
           "灰",
           "燭",
           "燭"
          ],
          [
           "ok",
           "ik",
           "iap",
           "o",
           "onn",
           "oo",
           "ui",
           "i",
           "uan",
           "un",
           "ik",
           "at",
           "uat",
           "uat",
           "iong",
           "ong",
           "uan",
           "oo",
           "ik",
           "un",
           "oo",
           "o",
           "iong",
           "ang",
           "ong",
           "ok",
           "ai",
           "ue",
           "iap",
           "ap",
           "iam",
           "iong",
           "ing",
           "ui",
           "ue",
           "iok",
           "ik"
          ]
         ],
         "y": [
          0.25,
          0.75,
          1,
          0.89,
          0.06,
          0.06,
          0.4,
          0.6,
          0.12,
          0.88,
          1,
          1,
          1,
          1,
          0.19,
          0.81,
          1,
          1,
          1,
          1,
          0.3,
          0.7,
          0.25,
          0.25,
          0.5,
          1,
          0.86,
          0.14,
          0.5,
          0.5,
          1,
          0.03,
          0.97,
          0.67,
          0.33,
          0.89,
          0.11
         ]
        }
       ],
       "layout": {
        "colorway": [
         "#D25350",
         "#636EFA"
        ],
        "template": {
         "data": {
          "candlestick": [
           {
            "decreasing": {
             "line": {
              "color": "#000033"
             }
            },
            "increasing": {
             "line": {
              "color": "#000032"
             }
            },
            "type": "candlestick"
           }
          ],
          "contour": [
           {
            "colorscale": [
             [
              0,
              "#000011"
             ],
             [
              0.1111111111111111,
              "#000012"
             ],
             [
              0.2222222222222222,
              "#000013"
             ],
             [
              0.3333333333333333,
              "#000014"
             ],
             [
              0.4444444444444444,
              "#000015"
             ],
             [
              0.5555555555555556,
              "#000016"
             ],
             [
              0.6666666666666666,
              "#000017"
             ],
             [
              0.7777777777777778,
              "#000018"
             ],
             [
              0.8888888888888888,
              "#000019"
             ],
             [
              1,
              "#000020"
             ]
            ],
            "type": "contour"
           }
          ],
          "contourcarpet": [
           {
            "colorscale": [
             [
              0,
              "#000011"
             ],
             [
              0.1111111111111111,
              "#000012"
             ],
             [
              0.2222222222222222,
              "#000013"
             ],
             [
              0.3333333333333333,
              "#000014"
             ],
             [
              0.4444444444444444,
              "#000015"
             ],
             [
              0.5555555555555556,
              "#000016"
             ],
             [
              0.6666666666666666,
              "#000017"
             ],
             [
              0.7777777777777778,
              "#000018"
             ],
             [
              0.8888888888888888,
              "#000019"
             ],
             [
              1,
              "#000020"
             ]
            ],
            "type": "contourcarpet"
           }
          ],
          "heatmap": [
           {
            "colorscale": [
             [
              0,
              "#000011"
             ],
             [
              0.1111111111111111,
              "#000012"
             ],
             [
              0.2222222222222222,
              "#000013"
             ],
             [
              0.3333333333333333,
              "#000014"
             ],
             [
              0.4444444444444444,
              "#000015"
             ],
             [
              0.5555555555555556,
              "#000016"
             ],
             [
              0.6666666666666666,
              "#000017"
             ],
             [
              0.7777777777777778,
              "#000018"
             ],
             [
              0.8888888888888888,
              "#000019"
             ],
             [
              1,
              "#000020"
             ]
            ],
            "type": "heatmap"
           }
          ],
          "histogram2d": [
           {
            "colorscale": [
             [
              0,
              "#000011"
             ],
             [
              0.1111111111111111,
              "#000012"
             ],
             [
              0.2222222222222222,
              "#000013"
             ],
             [
              0.3333333333333333,
              "#000014"
             ],
             [
              0.4444444444444444,
              "#000015"
             ],
             [
              0.5555555555555556,
              "#000016"
             ],
             [
              0.6666666666666666,
              "#000017"
             ],
             [
              0.7777777777777778,
              "#000018"
             ],
             [
              0.8888888888888888,
              "#000019"
             ],
             [
              1,
              "#000020"
             ]
            ],
            "type": "histogram2d"
           }
          ],
          "icicle": [
           {
            "textfont": {
             "color": "white"
            },
            "type": "icicle"
           }
          ],
          "sankey": [
           {
            "textfont": {
             "color": "#000036"
            },
            "type": "sankey"
           }
          ],
          "scatter": [
           {
            "marker": {
             "line": {
              "width": 0
             }
            },
            "type": "scatter"
           }
          ],
          "table": [
           {
            "cells": {
             "fill": {
              "color": "#000038"
             },
             "font": {
              "color": "#000037"
             },
             "line": {
              "color": "#000039"
             }
            },
            "header": {
             "fill": {
              "color": "#000040"
             },
             "font": {
              "color": "#000036"
             },
             "line": {
              "color": "#000039"
             }
            },
            "type": "table"
           }
          ],
          "waterfall": [
           {
            "connector": {
             "line": {
              "color": "#000036",
              "width": 2
             }
            },
            "decreasing": {
             "marker": {
              "color": "#000033"
             }
            },
            "increasing": {
             "marker": {
              "color": "#000032"
             }
            },
            "totals": {
             "marker": {
              "color": "#000034"
             }
            },
            "type": "waterfall"
           }
          ]
         },
         "layout": {
          "coloraxis": {
           "colorscale": [
            [
             0,
             "#000011"
            ],
            [
             0.1111111111111111,
             "#000012"
            ],
            [
             0.2222222222222222,
             "#000013"
            ],
            [
             0.3333333333333333,
             "#000014"
            ],
            [
             0.4444444444444444,
             "#000015"
            ],
            [
             0.5555555555555556,
             "#000016"
            ],
            [
             0.6666666666666666,
             "#000017"
            ],
            [
             0.7777777777777778,
             "#000018"
            ],
            [
             0.8888888888888888,
             "#000019"
            ],
            [
             1,
             "#000020"
            ]
           ]
          },
          "colorscale": {
           "diverging": [
            [
             0,
             "#000021"
            ],
            [
             0.1,
             "#000022"
            ],
            [
             0.2,
             "#000023"
            ],
            [
             0.3,
             "#000024"
            ],
            [
             0.4,
             "#000025"
            ],
            [
             0.5,
             "#000026"
            ],
            [
             0.6,
             "#000027"
            ],
            [
             0.7,
             "#000028"
            ],
            [
             0.8,
             "#000029"
            ],
            [
             0.9,
             "#000030"
            ],
            [
             1,
             "#000031"
            ]
           ],
           "sequential": [
            [
             0,
             "#000011"
            ],
            [
             0.1111111111111111,
             "#000012"
            ],
            [
             0.2222222222222222,
             "#000013"
            ],
            [
             0.3333333333333333,
             "#000014"
            ],
            [
             0.4444444444444444,
             "#000015"
            ],
            [
             0.5555555555555556,
             "#000016"
            ],
            [
             0.6666666666666666,
             "#000017"
            ],
            [
             0.7777777777777778,
             "#000018"
            ],
            [
             0.8888888888888888,
             "#000019"
            ],
            [
             1,
             "#000020"
            ]
           ],
           "sequentialminus": [
            [
             0,
             "#000011"
            ],
            [
             0.1111111111111111,
             "#000012"
            ],
            [
             0.2222222222222222,
             "#000013"
            ],
            [
             0.3333333333333333,
             "#000014"
            ],
            [
             0.4444444444444444,
             "#000015"
            ],
            [
             0.5555555555555556,
             "#000016"
            ],
            [
             0.6666666666666666,
             "#000017"
            ],
            [
             0.7777777777777778,
             "#000018"
            ],
            [
             0.8888888888888888,
             "#000019"
            ],
            [
             1,
             "#000020"
            ]
           ]
          },
          "colorway": [
           "#000001",
           "#000002",
           "#000003",
           "#000004",
           "#000005",
           "#000006",
           "#000007",
           "#000008",
           "#000009",
           "#000010"
          ]
         }
        },
        "title": {
         "text": "閩南語文音韻母對應比例 (二)"
        },
        "xaxis": {
         "title": {
          "text": "韻目"
         }
        },
        "yaxis": {
         "title": {
          "text": "比例"
         }
        }
       }
      }
     },
     "metadata": {},
     "output_type": "display_data"
    },
    {
     "data": {
      "application/vnd.plotly.v1+json": {
       "config": {
        "plotlyServerURL": "https://plot.ly"
       },
       "data": [
        {
         "text": [
          "物",
          "壓",
          "恨",
          "崩",
          "齋",
          "怪",
          "臘",
          "蠟",
          "振",
          "陣",
          "忍",
          "誓",
          "脆",
          "歲",
          "緝",
          "棚",
          "力",
          "食",
          "咬",
          "眉",
          "龜",
          "師",
          "梨",
          "接",
          "矜",
          "承",
          "蕭",
          "說",
          "折",
          "著",
          "削",
          "芋",
          "率",
          "含",
          "數",
          "樸",
          "學"
         ],
         "textfont": {
          "size": 9
         },
         "textposition": "outside",
         "type": "bar",
         "x": [
          [
           "物",
           "狎",
           "痕",
           "登",
           "皆",
           "皆",
           "盍",
           "盍",
           "眞",
           "眞",
           "眞",
           "祭",
           "祭",
           "祭",
           "緝",
           "耕",
           "職",
           "職",
           "肴",
           "脂",
           "脂",
           "脂",
           "脂",
           "葉",
           "蒸",
           "蒸",
           "蕭",
           "薛",
           "薛",
           "藥",
           "藥",
           "虞",
           "術",
           "覃",
           "覺",
           "覺",
           "覺"
          ],
          [
           "ut",
           "ap",
           "un",
           "ing",
           "ai",
           "uai",
           "iap",
           "ap",
           "in",
           "un",
           "im",
           "e",
           "ui",
           "ue",
           "ip",
           "ing",
           "ik",
           "it",
           "au",
           "i",
           "ui",
           "u",
           "e",
           "iap",
           "im",
           "ing",
           "iau",
           "uat",
           "iat",
           "iok",
           "iat",
           "u",
           "ut",
           "am",
           "oo",
           "ok",
           "ak"
          ]
         ],
         "y": [
          1,
          1,
          1,
          1,
          0.75,
          0.25,
          0.25,
          0.75,
          0.8,
          0.07,
          0.13,
          0.6,
          0.2,
          0.2,
          1,
          1,
          0.89,
          0.11,
          1,
          0.29,
          0.21,
          0.43,
          0.07,
          1,
          0.09,
          0.91,
          1,
          0.46,
          0.54,
          0.92,
          0.08,
          1,
          1,
          1,
          0.14,
          0.71,
          0.14
         ]
        }
       ],
       "layout": {
        "colorway": [
         "#D25350",
         "#636EFA"
        ],
        "template": {
         "data": {
          "candlestick": [
           {
            "decreasing": {
             "line": {
              "color": "#000033"
             }
            },
            "increasing": {
             "line": {
              "color": "#000032"
             }
            },
            "type": "candlestick"
           }
          ],
          "contour": [
           {
            "colorscale": [
             [
              0,
              "#000011"
             ],
             [
              0.1111111111111111,
              "#000012"
             ],
             [
              0.2222222222222222,
              "#000013"
             ],
             [
              0.3333333333333333,
              "#000014"
             ],
             [
              0.4444444444444444,
              "#000015"
             ],
             [
              0.5555555555555556,
              "#000016"
             ],
             [
              0.6666666666666666,
              "#000017"
             ],
             [
              0.7777777777777778,
              "#000018"
             ],
             [
              0.8888888888888888,
              "#000019"
             ],
             [
              1,
              "#000020"
             ]
            ],
            "type": "contour"
           }
          ],
          "contourcarpet": [
           {
            "colorscale": [
             [
              0,
              "#000011"
             ],
             [
              0.1111111111111111,
              "#000012"
             ],
             [
              0.2222222222222222,
              "#000013"
             ],
             [
              0.3333333333333333,
              "#000014"
             ],
             [
              0.4444444444444444,
              "#000015"
             ],
             [
              0.5555555555555556,
              "#000016"
             ],
             [
              0.6666666666666666,
              "#000017"
             ],
             [
              0.7777777777777778,
              "#000018"
             ],
             [
              0.8888888888888888,
              "#000019"
             ],
             [
              1,
              "#000020"
             ]
            ],
            "type": "contourcarpet"
           }
          ],
          "heatmap": [
           {
            "colorscale": [
             [
              0,
              "#000011"
             ],
             [
              0.1111111111111111,
              "#000012"
             ],
             [
              0.2222222222222222,
              "#000013"
             ],
             [
              0.3333333333333333,
              "#000014"
             ],
             [
              0.4444444444444444,
              "#000015"
             ],
             [
              0.5555555555555556,
              "#000016"
             ],
             [
              0.6666666666666666,
              "#000017"
             ],
             [
              0.7777777777777778,
              "#000018"
             ],
             [
              0.8888888888888888,
              "#000019"
             ],
             [
              1,
              "#000020"
             ]
            ],
            "type": "heatmap"
           }
          ],
          "histogram2d": [
           {
            "colorscale": [
             [
              0,
              "#000011"
             ],
             [
              0.1111111111111111,
              "#000012"
             ],
             [
              0.2222222222222222,
              "#000013"
             ],
             [
              0.3333333333333333,
              "#000014"
             ],
             [
              0.4444444444444444,
              "#000015"
             ],
             [
              0.5555555555555556,
              "#000016"
             ],
             [
              0.6666666666666666,
              "#000017"
             ],
             [
              0.7777777777777778,
              "#000018"
             ],
             [
              0.8888888888888888,
              "#000019"
             ],
             [
              1,
              "#000020"
             ]
            ],
            "type": "histogram2d"
           }
          ],
          "icicle": [
           {
            "textfont": {
             "color": "white"
            },
            "type": "icicle"
           }
          ],
          "sankey": [
           {
            "textfont": {
             "color": "#000036"
            },
            "type": "sankey"
           }
          ],
          "scatter": [
           {
            "marker": {
             "line": {
              "width": 0
             }
            },
            "type": "scatter"
           }
          ],
          "table": [
           {
            "cells": {
             "fill": {
              "color": "#000038"
             },
             "font": {
              "color": "#000037"
             },
             "line": {
              "color": "#000039"
             }
            },
            "header": {
             "fill": {
              "color": "#000040"
             },
             "font": {
              "color": "#000036"
             },
             "line": {
              "color": "#000039"
             }
            },
            "type": "table"
           }
          ],
          "waterfall": [
           {
            "connector": {
             "line": {
              "color": "#000036",
              "width": 2
             }
            },
            "decreasing": {
             "marker": {
              "color": "#000033"
             }
            },
            "increasing": {
             "marker": {
              "color": "#000032"
             }
            },
            "totals": {
             "marker": {
              "color": "#000034"
             }
            },
            "type": "waterfall"
           }
          ]
         },
         "layout": {
          "coloraxis": {
           "colorscale": [
            [
             0,
             "#000011"
            ],
            [
             0.1111111111111111,
             "#000012"
            ],
            [
             0.2222222222222222,
             "#000013"
            ],
            [
             0.3333333333333333,
             "#000014"
            ],
            [
             0.4444444444444444,
             "#000015"
            ],
            [
             0.5555555555555556,
             "#000016"
            ],
            [
             0.6666666666666666,
             "#000017"
            ],
            [
             0.7777777777777778,
             "#000018"
            ],
            [
             0.8888888888888888,
             "#000019"
            ],
            [
             1,
             "#000020"
            ]
           ]
          },
          "colorscale": {
           "diverging": [
            [
             0,
             "#000021"
            ],
            [
             0.1,
             "#000022"
            ],
            [
             0.2,
             "#000023"
            ],
            [
             0.3,
             "#000024"
            ],
            [
             0.4,
             "#000025"
            ],
            [
             0.5,
             "#000026"
            ],
            [
             0.6,
             "#000027"
            ],
            [
             0.7,
             "#000028"
            ],
            [
             0.8,
             "#000029"
            ],
            [
             0.9,
             "#000030"
            ],
            [
             1,
             "#000031"
            ]
           ],
           "sequential": [
            [
             0,
             "#000011"
            ],
            [
             0.1111111111111111,
             "#000012"
            ],
            [
             0.2222222222222222,
             "#000013"
            ],
            [
             0.3333333333333333,
             "#000014"
            ],
            [
             0.4444444444444444,
             "#000015"
            ],
            [
             0.5555555555555556,
             "#000016"
            ],
            [
             0.6666666666666666,
             "#000017"
            ],
            [
             0.7777777777777778,
             "#000018"
            ],
            [
             0.8888888888888888,
             "#000019"
            ],
            [
             1,
             "#000020"
            ]
           ],
           "sequentialminus": [
            [
             0,
             "#000011"
            ],
            [
             0.1111111111111111,
             "#000012"
            ],
            [
             0.2222222222222222,
             "#000013"
            ],
            [
             0.3333333333333333,
             "#000014"
            ],
            [
             0.4444444444444444,
             "#000015"
            ],
            [
             0.5555555555555556,
             "#000016"
            ],
            [
             0.6666666666666666,
             "#000017"
            ],
            [
             0.7777777777777778,
             "#000018"
            ],
            [
             0.8888888888888888,
             "#000019"
            ],
            [
             1,
             "#000020"
            ]
           ]
          },
          "colorway": [
           "#000001",
           "#000002",
           "#000003",
           "#000004",
           "#000005",
           "#000006",
           "#000007",
           "#000008",
           "#000009",
           "#000010"
          ]
         }
        },
        "title": {
         "text": "閩南語文音韻母對應比例 (三)"
        },
        "xaxis": {
         "title": {
          "text": "韻目"
         }
        },
        "yaxis": {
         "title": {
          "text": "比例"
         }
        }
       }
      }
     },
     "metadata": {},
     "output_type": "display_data"
    },
    {
     "data": {
      "application/vnd.plotly.v1+json": {
       "config": {
        "plotlyServerURL": "https://plot.ly"
       },
       "data": [
        {
         "text": [
          "鶉",
          "淡",
          "毛",
          "好",
          "抱",
          "牢",
          "實",
          "栗",
          "監",
          "芟",
          "摘",
          "封",
          "鍾",
          "紮",
          "錯",
          "嚇",
          "陽",
          "坊",
          "涼",
          "零",
          "門",
          "初",
          "魚",
          "簷",
          "劃",
          "差",
          "花",
          "砂",
          "蛇",
          "舌",
          "批",
          "臍"
         ],
         "textfont": {
          "size": 9
         },
         "textposition": "outside",
         "type": "bar",
         "x": [
          [
           "諄",
           "談",
           "豪",
           "豪",
           "豪",
           "豪",
           "質",
           "質",
           "銜",
           "銜",
           "錫",
           "鍾",
           "鍾",
           "鎋",
           "鐸",
           "陌",
           "陽",
           "陽",
           "陽",
           "青",
           "魂",
           "魚",
           "魚",
           "鹽",
           "麥",
           "麻",
           "麻",
           "麻",
           "麻",
           "黠",
           "齊",
           "齊"
          ],
          [
           "un",
           "am",
           "oo",
           "onn",
           "au",
           "o",
           "it",
           "ik",
           "am",
           "an",
           "ik",
           "ong",
           "iong",
           "at",
           "ok",
           "ik",
           "iong",
           "ong",
           "iang",
           "ing",
           "un",
           "oo",
           "u",
           "iam",
           "ik",
           "a",
           "ua",
           "e",
           "ia",
           "iat",
           "i",
           "e"
          ]
         ],
         "y": [
          1,
          1,
          0.11,
          0.11,
          0.06,
          0.72,
          0.75,
          0.25,
          0.8,
          0.2,
          1,
          0.13,
          0.87,
          1,
          1,
          1,
          0.75,
          0.22,
          0.04,
          1,
          1,
          0.18,
          0.82,
          1,
          1,
          0.74,
          0.12,
          0.02,
          0.12,
          1,
          0.17,
          0.83
         ]
        }
       ],
       "layout": {
        "colorway": [
         "#D25350",
         "#636EFA"
        ],
        "template": {
         "data": {
          "candlestick": [
           {
            "decreasing": {
             "line": {
              "color": "#000033"
             }
            },
            "increasing": {
             "line": {
              "color": "#000032"
             }
            },
            "type": "candlestick"
           }
          ],
          "contour": [
           {
            "colorscale": [
             [
              0,
              "#000011"
             ],
             [
              0.1111111111111111,
              "#000012"
             ],
             [
              0.2222222222222222,
              "#000013"
             ],
             [
              0.3333333333333333,
              "#000014"
             ],
             [
              0.4444444444444444,
              "#000015"
             ],
             [
              0.5555555555555556,
              "#000016"
             ],
             [
              0.6666666666666666,
              "#000017"
             ],
             [
              0.7777777777777778,
              "#000018"
             ],
             [
              0.8888888888888888,
              "#000019"
             ],
             [
              1,
              "#000020"
             ]
            ],
            "type": "contour"
           }
          ],
          "contourcarpet": [
           {
            "colorscale": [
             [
              0,
              "#000011"
             ],
             [
              0.1111111111111111,
              "#000012"
             ],
             [
              0.2222222222222222,
              "#000013"
             ],
             [
              0.3333333333333333,
              "#000014"
             ],
             [
              0.4444444444444444,
              "#000015"
             ],
             [
              0.5555555555555556,
              "#000016"
             ],
             [
              0.6666666666666666,
              "#000017"
             ],
             [
              0.7777777777777778,
              "#000018"
             ],
             [
              0.8888888888888888,
              "#000019"
             ],
             [
              1,
              "#000020"
             ]
            ],
            "type": "contourcarpet"
           }
          ],
          "heatmap": [
           {
            "colorscale": [
             [
              0,
              "#000011"
             ],
             [
              0.1111111111111111,
              "#000012"
             ],
             [
              0.2222222222222222,
              "#000013"
             ],
             [
              0.3333333333333333,
              "#000014"
             ],
             [
              0.4444444444444444,
              "#000015"
             ],
             [
              0.5555555555555556,
              "#000016"
             ],
             [
              0.6666666666666666,
              "#000017"
             ],
             [
              0.7777777777777778,
              "#000018"
             ],
             [
              0.8888888888888888,
              "#000019"
             ],
             [
              1,
              "#000020"
             ]
            ],
            "type": "heatmap"
           }
          ],
          "histogram2d": [
           {
            "colorscale": [
             [
              0,
              "#000011"
             ],
             [
              0.1111111111111111,
              "#000012"
             ],
             [
              0.2222222222222222,
              "#000013"
             ],
             [
              0.3333333333333333,
              "#000014"
             ],
             [
              0.4444444444444444,
              "#000015"
             ],
             [
              0.5555555555555556,
              "#000016"
             ],
             [
              0.6666666666666666,
              "#000017"
             ],
             [
              0.7777777777777778,
              "#000018"
             ],
             [
              0.8888888888888888,
              "#000019"
             ],
             [
              1,
              "#000020"
             ]
            ],
            "type": "histogram2d"
           }
          ],
          "icicle": [
           {
            "textfont": {
             "color": "white"
            },
            "type": "icicle"
           }
          ],
          "sankey": [
           {
            "textfont": {
             "color": "#000036"
            },
            "type": "sankey"
           }
          ],
          "scatter": [
           {
            "marker": {
             "line": {
              "width": 0
             }
            },
            "type": "scatter"
           }
          ],
          "table": [
           {
            "cells": {
             "fill": {
              "color": "#000038"
             },
             "font": {
              "color": "#000037"
             },
             "line": {
              "color": "#000039"
             }
            },
            "header": {
             "fill": {
              "color": "#000040"
             },
             "font": {
              "color": "#000036"
             },
             "line": {
              "color": "#000039"
             }
            },
            "type": "table"
           }
          ],
          "waterfall": [
           {
            "connector": {
             "line": {
              "color": "#000036",
              "width": 2
             }
            },
            "decreasing": {
             "marker": {
              "color": "#000033"
             }
            },
            "increasing": {
             "marker": {
              "color": "#000032"
             }
            },
            "totals": {
             "marker": {
              "color": "#000034"
             }
            },
            "type": "waterfall"
           }
          ]
         },
         "layout": {
          "coloraxis": {
           "colorscale": [
            [
             0,
             "#000011"
            ],
            [
             0.1111111111111111,
             "#000012"
            ],
            [
             0.2222222222222222,
             "#000013"
            ],
            [
             0.3333333333333333,
             "#000014"
            ],
            [
             0.4444444444444444,
             "#000015"
            ],
            [
             0.5555555555555556,
             "#000016"
            ],
            [
             0.6666666666666666,
             "#000017"
            ],
            [
             0.7777777777777778,
             "#000018"
            ],
            [
             0.8888888888888888,
             "#000019"
            ],
            [
             1,
             "#000020"
            ]
           ]
          },
          "colorscale": {
           "diverging": [
            [
             0,
             "#000021"
            ],
            [
             0.1,
             "#000022"
            ],
            [
             0.2,
             "#000023"
            ],
            [
             0.3,
             "#000024"
            ],
            [
             0.4,
             "#000025"
            ],
            [
             0.5,
             "#000026"
            ],
            [
             0.6,
             "#000027"
            ],
            [
             0.7,
             "#000028"
            ],
            [
             0.8,
             "#000029"
            ],
            [
             0.9,
             "#000030"
            ],
            [
             1,
             "#000031"
            ]
           ],
           "sequential": [
            [
             0,
             "#000011"
            ],
            [
             0.1111111111111111,
             "#000012"
            ],
            [
             0.2222222222222222,
             "#000013"
            ],
            [
             0.3333333333333333,
             "#000014"
            ],
            [
             0.4444444444444444,
             "#000015"
            ],
            [
             0.5555555555555556,
             "#000016"
            ],
            [
             0.6666666666666666,
             "#000017"
            ],
            [
             0.7777777777777778,
             "#000018"
            ],
            [
             0.8888888888888888,
             "#000019"
            ],
            [
             1,
             "#000020"
            ]
           ],
           "sequentialminus": [
            [
             0,
             "#000011"
            ],
            [
             0.1111111111111111,
             "#000012"
            ],
            [
             0.2222222222222222,
             "#000013"
            ],
            [
             0.3333333333333333,
             "#000014"
            ],
            [
             0.4444444444444444,
             "#000015"
            ],
            [
             0.5555555555555556,
             "#000016"
            ],
            [
             0.6666666666666666,
             "#000017"
            ],
            [
             0.7777777777777778,
             "#000018"
            ],
            [
             0.8888888888888888,
             "#000019"
            ],
            [
             1,
             "#000020"
            ]
           ]
          },
          "colorway": [
           "#000001",
           "#000002",
           "#000003",
           "#000004",
           "#000005",
           "#000006",
           "#000007",
           "#000008",
           "#000009",
           "#000010"
          ]
         }
        },
        "title": {
         "text": "閩南語文音韻母對應比例 (四)"
        },
        "xaxis": {
         "title": {
          "text": "韻目"
         }
        },
        "yaxis": {
         "title": {
          "text": "比例"
         }
        }
       }
      }
     },
     "metadata": {},
     "output_type": "display_data"
    }
   ],
   "source": [
    "# 跟之前sfig()的作法一樣\n",
    "def ufig(un):\n",
    "    i = 0\n",
    "    j =0\n",
    "    per = 37\n",
    "    now = 0\n",
    "    order = ['一', '二', '三', '四', '五', '六', '七', '八', '九', '十', '十一', '十二', '十三', '十四', '十五', '十六', '十七', '十八', '十九']\n",
    "    all_figu = []\n",
    "    while now < un.shape[0]:\n",
    "        if now+per-1 >= un.shape[0]:\n",
    "            i = un.shape[0]-now-per\n",
    "        elif now+per == un.shape[0]:\n",
    "            i = 0\n",
    "        else:\n",
    "            while un.sort_values('韻目').iloc[now+per+i-1]['韻目'] == un.sort_values('韻目').iloc[now+per+i]['韻目']:\n",
    "                i += 1\n",
    "                if now+per+i-1 == un.shape[0]:\n",
    "                    break\n",
    "        x = [\n",
    "            un.sort_values('韻目').iloc[now:now+per+i]['韻目'],\n",
    "            un.sort_values('韻目').iloc[now:now+per+i]['閩南語韻母']\n",
    "        ]\n",
    "        figu = go.Figure()\n",
    "        figu.add_bar(x=x,y=un.sort_values('韻目')[now:now+per+i]['比例'], text=un.sort_values('韻目')[now:now+per+i]['例字']\n",
    "                    , textposition='outside', textfont=dict(size=9))\n",
    "\n",
    "        # 變更顏色、添加標題和座標軸名稱\n",
    "        figu.update_layout(\n",
    "            colorway=['#D25350', '#636EFA'],\n",
    "            title=f'閩南語{bp}音韻母對應比例 ({order[j]})',\n",
    "            xaxis_title='韻目',\n",
    "            yaxis_title='比例'\n",
    "        )    \n",
    "        all_figu.append(figu)\n",
    "        now += per+i\n",
    "        i = 0\n",
    "        j += 1\n",
    "        if now >= un.shape[0]:\n",
    "            break\n",
    "    return all_figu\n",
    "\n",
    "''''''\n",
    "# %%\n",
    "im, un = u1()\n",
    "for fig in ufig(un):\n",
    "    fig.show()\n",
    "        "
   ]
  },
  {
   "cell_type": "markdown",
   "metadata": {},
   "source": [
    "#### 細部對照"
   ]
  },
  {
   "cell_type": "markdown",
   "metadata": {},
   "source": [
    "##### 分析韻母與呼"
   ]
  },
  {
   "cell_type": "code",
   "execution_count": 10,
   "metadata": {},
   "outputs": [
    {
     "name": "stderr",
     "output_type": "stream",
     "text": [
      "C:\\Users\\O\\AppData\\Local\\Temp\\ipykernel_24988\\906882859.py:8: SettingWithCopyWarning:\n",
      "\n",
      "\n",
      "A value is trying to be set on a copy of a slice from a DataFrame.\n",
      "Try using .loc[row_indexer,col_indexer] = value instead\n",
      "\n",
      "See the caveats in the documentation: https://pandas.pydata.org/pandas-docs/stable/user_guide/indexing.html#returning-a-view-versus-a-copy\n",
      "\n"
     ]
    },
    {
     "name": "stdout",
     "output_type": "stream",
     "text": [
      "仙 0.5\n",
      "佳 0.5\n",
      "元 0.5\n",
      "刪 0.5\n",
      "唐 0.015000000000000008\n",
      "微 0.33499999999999996\n",
      "支 0.5\n",
      "泰 0.5\n",
      "清 0.25\n",
      "皆 0.5\n",
      "祭 0.3333333333333333\n",
      "職 0.05999999999999999\n",
      "脂 0.25\n",
      "薛 0.5\n",
      "陽 0.34125\n",
      "麻 0.25125\n"
     ]
    },
    {
     "name": "stderr",
     "output_type": "stream",
     "text": [
      "C:\\Users\\O\\AppData\\Local\\Temp\\ipykernel_24988\\1122924561.py:45: FutureWarning:\n",
      "\n",
      "Setting an item of incompatible dtype is deprecated and will raise in a future error of pandas. Value '0.5' has dtype incompatible with int64, please explicitly cast to a compatible dtype first.\n",
      "\n"
     ]
    },
    {
     "data": {
      "text/html": [
       "<div>\n",
       "<style scoped>\n",
       "    .dataframe tbody tr th:only-of-type {\n",
       "        vertical-align: middle;\n",
       "    }\n",
       "\n",
       "    .dataframe tbody tr th {\n",
       "        vertical-align: top;\n",
       "    }\n",
       "\n",
       "    .dataframe thead th {\n",
       "        text-align: right;\n",
       "    }\n",
       "</style>\n",
       "<table border=\"1\" class=\"dataframe\">\n",
       "  <thead>\n",
       "    <tr style=\"text-align: right;\">\n",
       "      <th></th>\n",
       "      <th></th>\n",
       "      <th></th>\n",
       "      <th>比例</th>\n",
       "      <th>例字</th>\n",
       "    </tr>\n",
       "    <tr>\n",
       "      <th>韻目</th>\n",
       "      <th>呼</th>\n",
       "      <th>閩南語韻母</th>\n",
       "      <th></th>\n",
       "      <th></th>\n",
       "    </tr>\n",
       "  </thead>\n",
       "  <tbody>\n",
       "    <tr>\n",
       "      <th rowspan=\"2\" valign=\"top\">仙</th>\n",
       "      <th>合</th>\n",
       "      <th>uan</th>\n",
       "      <td>1.00</td>\n",
       "      <td>全</td>\n",
       "    </tr>\n",
       "    <tr>\n",
       "      <th>開</th>\n",
       "      <th>ian</th>\n",
       "      <td>1.00</td>\n",
       "      <td>鮮</td>\n",
       "    </tr>\n",
       "    <tr>\n",
       "      <th rowspan=\"2\" valign=\"top\">佳</th>\n",
       "      <th>合</th>\n",
       "      <th>ua</th>\n",
       "      <td>1.00</td>\n",
       "      <td>掛</td>\n",
       "    </tr>\n",
       "    <tr>\n",
       "      <th>開</th>\n",
       "      <th>ai</th>\n",
       "      <td>1.00</td>\n",
       "      <td>鞋</td>\n",
       "    </tr>\n",
       "    <tr>\n",
       "      <th rowspan=\"2\" valign=\"top\">元</th>\n",
       "      <th>合</th>\n",
       "      <th>uan</th>\n",
       "      <td>1.00</td>\n",
       "      <td>園</td>\n",
       "    </tr>\n",
       "    <tr>\n",
       "      <th>開</th>\n",
       "      <th>ian</th>\n",
       "      <td>1.00</td>\n",
       "      <td>軒</td>\n",
       "    </tr>\n",
       "    <tr>\n",
       "      <th rowspan=\"2\" valign=\"top\">刪</th>\n",
       "      <th>合</th>\n",
       "      <th>uan</th>\n",
       "      <td>1.00</td>\n",
       "      <td>關</td>\n",
       "    </tr>\n",
       "    <tr>\n",
       "      <th>開</th>\n",
       "      <th>an</th>\n",
       "      <td>1.00</td>\n",
       "      <td>般</td>\n",
       "    </tr>\n",
       "    <tr>\n",
       "      <th rowspan=\"3\" valign=\"top\">微</th>\n",
       "      <th rowspan=\"2\" valign=\"top\">合</th>\n",
       "      <th>i</th>\n",
       "      <td>0.33</td>\n",
       "      <td>未</td>\n",
       "    </tr>\n",
       "    <tr>\n",
       "      <th>ui</th>\n",
       "      <td>0.67</td>\n",
       "      <td>飛</td>\n",
       "    </tr>\n",
       "    <tr>\n",
       "      <th>開</th>\n",
       "      <th>i</th>\n",
       "      <td>1.00</td>\n",
       "      <td>幾</td>\n",
       "    </tr>\n",
       "    <tr>\n",
       "      <th rowspan=\"2\" valign=\"top\">支</th>\n",
       "      <th>合</th>\n",
       "      <th>ui</th>\n",
       "      <td>1.00</td>\n",
       "      <td>垂</td>\n",
       "    </tr>\n",
       "    <tr>\n",
       "      <th>開</th>\n",
       "      <th>i</th>\n",
       "      <td>1.00</td>\n",
       "      <td>支</td>\n",
       "    </tr>\n",
       "    <tr>\n",
       "      <th rowspan=\"2\" valign=\"top\">泰</th>\n",
       "      <th>合</th>\n",
       "      <th>ue</th>\n",
       "      <td>1.00</td>\n",
       "      <td>外</td>\n",
       "    </tr>\n",
       "    <tr>\n",
       "      <th>開</th>\n",
       "      <th>ai</th>\n",
       "      <td>1.00</td>\n",
       "      <td>蓋</td>\n",
       "    </tr>\n",
       "    <tr>\n",
       "      <th rowspan=\"3\" valign=\"top\">清</th>\n",
       "      <th rowspan=\"2\" valign=\"top\">合</th>\n",
       "      <th>ing</th>\n",
       "      <td>0.50</td>\n",
       "      <td>營</td>\n",
       "    </tr>\n",
       "    <tr>\n",
       "      <th>iong</th>\n",
       "      <td>0.50</td>\n",
       "      <td>瓊</td>\n",
       "    </tr>\n",
       "    <tr>\n",
       "      <th>開</th>\n",
       "      <th>ing</th>\n",
       "      <td>1.00</td>\n",
       "      <td>清</td>\n",
       "    </tr>\n",
       "    <tr>\n",
       "      <th rowspan=\"2\" valign=\"top\">皆</th>\n",
       "      <th>合</th>\n",
       "      <th>uai</th>\n",
       "      <td>1.00</td>\n",
       "      <td>怪</td>\n",
       "    </tr>\n",
       "    <tr>\n",
       "      <th>開</th>\n",
       "      <th>ai</th>\n",
       "      <td>1.00</td>\n",
       "      <td>齋</td>\n",
       "    </tr>\n",
       "    <tr>\n",
       "      <th rowspan=\"3\" valign=\"top\">祭</th>\n",
       "      <th rowspan=\"2\" valign=\"top\">合</th>\n",
       "      <th>ue</th>\n",
       "      <td>0.50</td>\n",
       "      <td>歲</td>\n",
       "    </tr>\n",
       "    <tr>\n",
       "      <th>ui</th>\n",
       "      <td>0.50</td>\n",
       "      <td>脆</td>\n",
       "    </tr>\n",
       "    <tr>\n",
       "      <th>開</th>\n",
       "      <th>e</th>\n",
       "      <td>1.00</td>\n",
       "      <td>誓</td>\n",
       "    </tr>\n",
       "    <tr>\n",
       "      <th rowspan=\"4\" valign=\"top\">脂</th>\n",
       "      <th>合</th>\n",
       "      <th>ui</th>\n",
       "      <td>1.00</td>\n",
       "      <td>龜</td>\n",
       "    </tr>\n",
       "    <tr>\n",
       "      <th rowspan=\"3\" valign=\"top\">開</th>\n",
       "      <th>e</th>\n",
       "      <td>0.09</td>\n",
       "      <td>梨</td>\n",
       "    </tr>\n",
       "    <tr>\n",
       "      <th>i</th>\n",
       "      <td>0.36</td>\n",
       "      <td>眉</td>\n",
       "    </tr>\n",
       "    <tr>\n",
       "      <th>u</th>\n",
       "      <td>0.55</td>\n",
       "      <td>師</td>\n",
       "    </tr>\n",
       "    <tr>\n",
       "      <th rowspan=\"2\" valign=\"top\">薛</th>\n",
       "      <th>合</th>\n",
       "      <th>uat</th>\n",
       "      <td>1.00</td>\n",
       "      <td>說</td>\n",
       "    </tr>\n",
       "    <tr>\n",
       "      <th>開</th>\n",
       "      <th>iat</th>\n",
       "      <td>1.00</td>\n",
       "      <td>折</td>\n",
       "    </tr>\n",
       "    <tr>\n",
       "      <th rowspan=\"4\" valign=\"top\">陽</th>\n",
       "      <th>合</th>\n",
       "      <th>ong</th>\n",
       "      <td>1.00</td>\n",
       "      <td>坊</td>\n",
       "    </tr>\n",
       "    <tr>\n",
       "      <th rowspan=\"3\" valign=\"top\">開</th>\n",
       "      <th>iang</th>\n",
       "      <td>0.05</td>\n",
       "      <td>涼</td>\n",
       "    </tr>\n",
       "    <tr>\n",
       "      <th>iong</th>\n",
       "      <td>0.86</td>\n",
       "      <td>陽</td>\n",
       "    </tr>\n",
       "    <tr>\n",
       "      <th>ong</th>\n",
       "      <td>0.09</td>\n",
       "      <td>瘡</td>\n",
       "    </tr>\n",
       "    <tr>\n",
       "      <th rowspan=\"4\" valign=\"top\">麻</th>\n",
       "      <th>合</th>\n",
       "      <th>ua</th>\n",
       "      <td>1.00</td>\n",
       "      <td>花</td>\n",
       "    </tr>\n",
       "    <tr>\n",
       "      <th rowspan=\"3\" valign=\"top\">開</th>\n",
       "      <th>a</th>\n",
       "      <td>0.84</td>\n",
       "      <td>差</td>\n",
       "    </tr>\n",
       "    <tr>\n",
       "      <th>e</th>\n",
       "      <td>0.03</td>\n",
       "      <td>砂</td>\n",
       "    </tr>\n",
       "    <tr>\n",
       "      <th>ia</th>\n",
       "      <td>0.14</td>\n",
       "      <td>蛇</td>\n",
       "    </tr>\n",
       "  </tbody>\n",
       "</table>\n",
       "</div>"
      ],
      "text/plain": [
       "              比例 例字\n",
       "韻目 呼 閩南語韻母         \n",
       "仙  合 uan    1.00  全\n",
       "   開 ian    1.00  鮮\n",
       "佳  合 ua     1.00  掛\n",
       "   開 ai     1.00  鞋\n",
       "元  合 uan    1.00  園\n",
       "   開 ian    1.00  軒\n",
       "刪  合 uan    1.00  關\n",
       "   開 an     1.00  般\n",
       "微  合 i      0.33  未\n",
       "     ui     0.67  飛\n",
       "   開 i      1.00  幾\n",
       "支  合 ui     1.00  垂\n",
       "   開 i      1.00  支\n",
       "泰  合 ue     1.00  外\n",
       "   開 ai     1.00  蓋\n",
       "清  合 ing    0.50  營\n",
       "     iong   0.50  瓊\n",
       "   開 ing    1.00  清\n",
       "皆  合 uai    1.00  怪\n",
       "   開 ai     1.00  齋\n",
       "祭  合 ue     0.50  歲\n",
       "     ui     0.50  脆\n",
       "   開 e      1.00  誓\n",
       "脂  合 ui     1.00  龜\n",
       "   開 e      0.09  梨\n",
       "     i      0.36  眉\n",
       "     u      0.55  師\n",
       "薛  合 uat    1.00  說\n",
       "   開 iat    1.00  折\n",
       "陽  合 ong    1.00  坊\n",
       "   開 iang   0.05  涼\n",
       "     iong   0.86  陽\n",
       "     ong    0.09  瘡\n",
       "麻  合 ua     1.00  花\n",
       "   開 a      0.84  差\n",
       "     e      0.03  砂\n",
       "     ia     0.14  蛇"
      ]
     },
     "execution_count": 10,
     "metadata": {},
     "output_type": "execute_result"
    }
   ],
   "source": [
    "# 找出分歧韻母，分析開合口呼的因素\n",
    "def u2(im, un):\n",
    "    l = [i for i in un['韻目'] if (un[un['韻目'] == i]['閩南語韻母'].count() != 1)]\n",
    "    l = list(set(l))\n",
    "    l = [i for i in l if (len(im[im['韻目'] == i]['呼'].unique()) != 1)]\n",
    "    uh0 = im.query('韻目 in @l')\n",
    "    uh = uh0.groupby(['韻目', '呼', '閩南語韻母']).size().reset_index(name='字數')\n",
    "    uh['比例'] = uh['字數'] / uh.groupby(['韻目', '呼'])['字數'].transform('sum')\n",
    "    \n",
    "    ''''''\n",
    "    # 消除破音字\n",
    "    uh = uh.sort_values(by='比例', ascending=False)\n",
    "    im['temp'] = False\n",
    "    for i, row in uh.iterrows():\n",
    "        u = row['韻目']\n",
    "        mu = row['閩南語韻母']\n",
    "        h = row['呼']\n",
    "\n",
    "        for j in list(im[(im['韻目'] == u) & (im['閩南語韻母'] == mu) & (im['呼'] == h)]['字']):\n",
    "                if im[im['字'] == j].sort_values(by='temp', ascending=False)['temp'].reset_index().loc[0,'temp']:\n",
    "                    im = im[~((im['字'] == j) & (~im['temp']))]\n",
    "                else:\n",
    "                    im.loc[((im['韻目'] == u) & (im['閩南語韻母'] == mu) & (im['呼'] == h) & (im['字'] == j)),'temp'] = True\n",
    "            \n",
    "    del im['temp']\n",
    "\n",
    "    # 重新計算比例\n",
    "    uh0 = im.query('韻目 in @l')\n",
    "    uh = uh0.groupby(['韻目', '呼', '閩南語韻母']).size().reset_index(name='字數')\n",
    "    uh['比例'] = uh['字數'] / uh.groupby(['韻目', '呼'])['字數'].transform('sum')\n",
    "    uh['比例'] = round(uh['比例'], 2)\n",
    "\n",
    "    ''''''\n",
    "\n",
    "    # 鑑驗相關性\n",
    "    uh['temp'] = 0\n",
    "    for i in uh['韻目'].unique():\n",
    "        nstd = 0\n",
    "        for j in uh[uh['韻目'] == i]['閩南語韻母'].unique():\n",
    "            l = list(uh[(uh['韻目'] == i) & (uh['閩南語韻母'] == j)]['比例'])\n",
    "            while len(l) < 2:\n",
    "                l.append(0)\n",
    "            nstd += np.std(l)*(uh[(uh['韻目'] == i) & (uh['閩南語韻母'] == j)].shape[0] / uh[uh['韻目'] == i].shape[0])\n",
    "        print(i, nstd)\n",
    "        uh.loc[uh['韻目'] == i, 'temp'] = nstd\n",
    "    uh = uh[uh['temp'] > 0.2]\n",
    "    del uh['temp']\n",
    "\n",
    "    ''''''\n",
    "    # 例字\n",
    "    uh['例字'] = [list(uh0[(uh0['韻目'] == row['韻目']) & (uh0['閩南語韻母'] == row['閩南語韻母']) & (uh0['呼'] == row['呼'])]['字'])[0] for i, row in uh.iterrows()]\n",
    "    return uh\n",
    "\n",
    "''''''\n",
    "# %%\n",
    "im, un = u1()\n",
    "uh = u2(im, un)\n",
    "guh = pd.DataFrame(uh.groupby(['韻目','呼', '閩南語韻母'])[['比例', '例字']].apply(lambda x: x.iloc[0]))\n",
    "guh\n"
   ]
  },
  {
   "cell_type": "markdown",
   "metadata": {},
   "source": [
    "##### 分析韻母與呼、等"
   ]
  },
  {
   "cell_type": "code",
   "execution_count": 12,
   "metadata": {},
   "outputs": [
    {
     "name": "stderr",
     "output_type": "stream",
     "text": [
      "C:\\Users\\O\\AppData\\Local\\Temp\\ipykernel_24988\\906882859.py:8: SettingWithCopyWarning:\n",
      "\n",
      "\n",
      "A value is trying to be set on a copy of a slice from a DataFrame.\n",
      "Try using .loc[row_indexer,col_indexer] = value instead\n",
      "\n",
      "See the caveats in the documentation: https://pandas.pydata.org/pandas-docs/stable/user_guide/indexing.html#returning-a-view-versus-a-copy\n",
      "\n"
     ]
    },
    {
     "name": "stdout",
     "output_type": "stream",
     "text": [
      "仙 0.5\n",
      "佳 0.5\n",
      "元 0.5\n",
      "刪 0.5\n",
      "唐 0.015000000000000008\n",
      "微 0.33499999999999996\n",
      "支 0.5\n",
      "泰 0.5\n",
      "清 0.25\n",
      "皆 0.5\n",
      "祭 0.3333333333333333\n",
      "職 0.05999999999999999\n",
      "脂 0.25\n",
      "薛 0.5\n",
      "陽 0.34125\n",
      "麻 0.25125\n"
     ]
    },
    {
     "name": "stderr",
     "output_type": "stream",
     "text": [
      "C:\\Users\\O\\AppData\\Local\\Temp\\ipykernel_24988\\1122924561.py:45: FutureWarning:\n",
      "\n",
      "Setting an item of incompatible dtype is deprecated and will raise in a future error of pandas. Value '0.5' has dtype incompatible with int64, please explicitly cast to a compatible dtype first.\n",
      "\n",
      "C:\\Users\\O\\AppData\\Local\\Temp\\ipykernel_24988\\2436173856.py:47: FutureWarning:\n",
      "\n",
      "Setting an item of incompatible dtype is deprecated and will raise in a future error of pandas. Value '0.37499999999999994' has dtype incompatible with int64, please explicitly cast to a compatible dtype first.\n",
      "\n"
     ]
    },
    {
     "name": "stdout",
     "output_type": "stream",
     "text": [
      "麻 0.37499999999999994\n"
     ]
    },
    {
     "data": {
      "text/html": [
       "<div>\n",
       "<style scoped>\n",
       "    .dataframe tbody tr th:only-of-type {\n",
       "        vertical-align: middle;\n",
       "    }\n",
       "\n",
       "    .dataframe tbody tr th {\n",
       "        vertical-align: top;\n",
       "    }\n",
       "\n",
       "    .dataframe thead th {\n",
       "        text-align: right;\n",
       "    }\n",
       "</style>\n",
       "<table border=\"1\" class=\"dataframe\">\n",
       "  <thead>\n",
       "    <tr style=\"text-align: right;\">\n",
       "      <th></th>\n",
       "      <th></th>\n",
       "      <th></th>\n",
       "      <th></th>\n",
       "      <th>比例</th>\n",
       "      <th>例字</th>\n",
       "    </tr>\n",
       "    <tr>\n",
       "      <th>韻目</th>\n",
       "      <th>等</th>\n",
       "      <th>呼</th>\n",
       "      <th>閩南語韻母</th>\n",
       "      <th></th>\n",
       "      <th></th>\n",
       "    </tr>\n",
       "  </thead>\n",
       "  <tbody>\n",
       "    <tr>\n",
       "      <th rowspan=\"4\" valign=\"top\">麻</th>\n",
       "      <th>三</th>\n",
       "      <th>開</th>\n",
       "      <th>ia</th>\n",
       "      <td>1.00</td>\n",
       "      <td>蛇</td>\n",
       "    </tr>\n",
       "    <tr>\n",
       "      <th rowspan=\"3\" valign=\"top\">二</th>\n",
       "      <th>合</th>\n",
       "      <th>ua</th>\n",
       "      <td>1.00</td>\n",
       "      <td>花</td>\n",
       "    </tr>\n",
       "    <tr>\n",
       "      <th rowspan=\"2\" valign=\"top\">開</th>\n",
       "      <th>a</th>\n",
       "      <td>0.97</td>\n",
       "      <td>差</td>\n",
       "    </tr>\n",
       "    <tr>\n",
       "      <th>e</th>\n",
       "      <td>0.03</td>\n",
       "      <td>砂</td>\n",
       "    </tr>\n",
       "  </tbody>\n",
       "</table>\n",
       "</div>"
      ],
      "text/plain": [
       "                比例 例字\n",
       "韻目 等 呼 閩南語韻母         \n",
       "麻  三 開 ia     1.00  蛇\n",
       "   二 合 ua     1.00  花\n",
       "     開 a      0.97  差\n",
       "       e      0.03  砂"
      ]
     },
     "execution_count": 12,
     "metadata": {},
     "output_type": "execute_result"
    }
   ],
   "source": [
    "# 找出分析開合口呼後還有分歧的韻母，分析等的因素\n",
    "def u3(im, uh):\n",
    "    l = [i for i in uh['韻目'] if (uh[(uh['韻目'] == i)]['比例'].count() != 1)]\n",
    "    l = list(set(l))\n",
    "    l = [i for i in l if (len(im[im['韻目'] == i]['等'].unique()) != 1)]\n",
    "    uth0 = im.query('韻目 in @l')\n",
    "    uth = uth0.groupby(['韻目', '等', '呼', '閩南語韻母']).size().reset_index(name='字數')\n",
    "    uth['比例'] = uth['字數'] / uth.groupby(['韻目', '等', '呼'])['字數'].transform('sum')\n",
    "    ''''''\n",
    "\n",
    "    # 消除破音字\n",
    "    uth = uth.sort_values(by='比例', ascending=False)\n",
    "    im['temp'] = False\n",
    "    for i, row in uth.iterrows():\n",
    "        u = row['韻目']\n",
    "        mu = row['閩南語韻母']\n",
    "        t = row['等']\n",
    "        h = row['呼']\n",
    "\n",
    "        for j in list(im[(im['韻目'] == u) & (im['閩南語韻母'] == mu) & (im['呼'] == h) & (im['等'] == t)]['字']):\n",
    "                if im[im['字'] == j].sort_values(by='temp', ascending=False)['temp'].reset_index().loc[0,'temp']:\n",
    "                    im = im[~((im['字'] == j) & (~im['temp']))]\n",
    "                else:\n",
    "                    im.loc[((im['韻目'] == u) & (im['閩南語韻母'] == mu) & (im['呼'] == h) & (im['等'] == t) & (im['字'] == j)),'temp'] = True\n",
    "            \n",
    "    del im['temp']\n",
    "\n",
    "    # 重新計算比例\n",
    "    uth0 = im.query('韻目 in @l')\n",
    "    uth = uth0.groupby(['韻目', '等', '呼', '閩南語韻母']).size().reset_index(name='字數')\n",
    "    uth['比例'] = uth['字數'] / uth.groupby(['韻目', '等', '呼'])['字數'].transform('sum')\n",
    "    uth['比例'] = round(uth['比例'], 2)\n",
    "\n",
    "    ''''''\n",
    "\n",
    "    # 鑑驗相關性\n",
    "    uth['temp'] = 0\n",
    "    for i in uth['韻目'].unique():\n",
    "        tnum = len(im[im['韻目'] == i]['等'].unique())\n",
    "        nstd = 0\n",
    "        for j in uth[uth['韻目'] == i]['閩南語韻母'].unique():\n",
    "            l = list(uth[(uth['韻目'] == i) & (uth['閩南語韻母'] == j)]['比例'])\n",
    "            while len(l) < tnum:\n",
    "                l.append(0)\n",
    "            nstd += np.std(l)*(uth[(uth['韻目'] == i) & (uth['閩南語韻母'] == j)].shape[0] / uth[uth['韻目'] == i].shape[0])\n",
    "        print(i, nstd)\n",
    "        uth.loc[uth['韻目'] == i, 'temp'] = nstd\n",
    "    uth = uth[uth['temp'] > 0.2]\n",
    "    del uth['temp']\n",
    "\n",
    "    ''''''\n",
    "    # 例字\n",
    "    uth['例字'] = [list(uth0[(uth0['韻目'] == row['韻目']) & (uth0['閩南語韻母'] == row['閩南語韻母']) & (uth0['等'] == row['等']) & (uth0['呼'] == row['呼'])]['字'])[0] for i, row in uth.iterrows()]\n",
    "    return uth\n",
    "\n",
    "''''''\n",
    "# %%\n",
    "im, un = u1()\n",
    "uh = u2(im, un)\n",
    "uth = u3(im, uh)\n",
    "guth = pd.DataFrame(uth.groupby(['韻目','等', '呼', '閩南語韻母'])[['比例', '例字']].apply(lambda x: x.iloc[0]))\n",
    "guth\n"
   ]
  },
  {
   "cell_type": "markdown",
   "metadata": {},
   "source": [
    "##### 分析韻母、等、呼之對應聲母"
   ]
  },
  {
   "cell_type": "code",
   "execution_count": 13,
   "metadata": {},
   "outputs": [
    {
     "name": "stderr",
     "output_type": "stream",
     "text": [
      "C:\\Users\\O\\AppData\\Local\\Temp\\ipykernel_24988\\906882859.py:8: SettingWithCopyWarning:\n",
      "\n",
      "\n",
      "A value is trying to be set on a copy of a slice from a DataFrame.\n",
      "Try using .loc[row_indexer,col_indexer] = value instead\n",
      "\n",
      "See the caveats in the documentation: https://pandas.pydata.org/pandas-docs/stable/user_guide/indexing.html#returning-a-view-versus-a-copy\n",
      "\n"
     ]
    },
    {
     "name": "stdout",
     "output_type": "stream",
     "text": [
      "仙 0.5\n",
      "佳 0.5\n",
      "元 0.5\n",
      "刪 0.5\n",
      "唐 0.015000000000000008\n",
      "微 0.33499999999999996\n",
      "支 0.5\n",
      "泰 0.5\n",
      "清 0.25\n",
      "皆 0.5\n",
      "祭 0.3333333333333333\n",
      "職 0.05999999999999999\n",
      "脂 0.25\n",
      "薛 0.5\n",
      "陽 0.34125\n",
      "麻 0.25125\n",
      "麻 0.37499999999999994\n"
     ]
    },
    {
     "name": "stderr",
     "output_type": "stream",
     "text": [
      "C:\\Users\\O\\AppData\\Local\\Temp\\ipykernel_24988\\1122924561.py:45: FutureWarning:\n",
      "\n",
      "Setting an item of incompatible dtype is deprecated and will raise in a future error of pandas. Value '0.5' has dtype incompatible with int64, please explicitly cast to a compatible dtype first.\n",
      "\n",
      "C:\\Users\\O\\AppData\\Local\\Temp\\ipykernel_24988\\2436173856.py:47: FutureWarning:\n",
      "\n",
      "Setting an item of incompatible dtype is deprecated and will raise in a future error of pandas. Value '0.37499999999999994' has dtype incompatible with int64, please explicitly cast to a compatible dtype first.\n",
      "\n"
     ]
    },
    {
     "data": {
      "text/html": [
       "<div>\n",
       "<style scoped>\n",
       "    .dataframe tbody tr th:only-of-type {\n",
       "        vertical-align: middle;\n",
       "    }\n",
       "\n",
       "    .dataframe tbody tr th {\n",
       "        vertical-align: top;\n",
       "    }\n",
       "\n",
       "    .dataframe thead th {\n",
       "        text-align: right;\n",
       "    }\n",
       "</style>\n",
       "<table border=\"1\" class=\"dataframe\">\n",
       "  <thead>\n",
       "    <tr style=\"text-align: right;\">\n",
       "      <th></th>\n",
       "      <th></th>\n",
       "      <th></th>\n",
       "      <th></th>\n",
       "      <th>比例</th>\n",
       "      <th>例字</th>\n",
       "    </tr>\n",
       "    <tr>\n",
       "      <th>韻目</th>\n",
       "      <th>等</th>\n",
       "      <th>呼</th>\n",
       "      <th>閩南語韻母</th>\n",
       "      <th></th>\n",
       "      <th></th>\n",
       "    </tr>\n",
       "  </thead>\n",
       "  <tbody>\n",
       "    <tr>\n",
       "      <th rowspan=\"2\" valign=\"top\">麻</th>\n",
       "      <th rowspan=\"2\" valign=\"top\">二</th>\n",
       "      <th rowspan=\"2\" valign=\"top\">開</th>\n",
       "      <th>a</th>\n",
       "      <td>0.95</td>\n",
       "      <td>差</td>\n",
       "    </tr>\n",
       "    <tr>\n",
       "      <th>e</th>\n",
       "      <td>0.05</td>\n",
       "      <td>砂</td>\n",
       "    </tr>\n",
       "  </tbody>\n",
       "</table>\n",
       "</div>"
      ],
      "text/plain": [
       "                比例 例字\n",
       "韻目 等 呼 閩南語韻母         \n",
       "麻  二 開 a      0.95  差\n",
       "       e      0.05  砂"
      ]
     },
     "execution_count": 13,
     "metadata": {},
     "output_type": "execute_result"
    }
   ],
   "source": [
    "# 找出分析等呼後還有分歧的韻母，分析聲母的因素\n",
    "def u4(im, uth):\n",
    "    l = [i for i in uth['韻目'] if (uth[(uth['韻目'] == i)]['比例'].count() != 1)]\n",
    "    l = list(set(l))\n",
    "    l = [i for i in l if (len(im[im['韻目'] == i]['等'].unique()) != 1)]\n",
    "    uths0 = im.query('韻目 in @l')\n",
    "    uths = uths0.groupby(['韻目', '等', '呼', '聲母', '閩南語韻母']).size().reset_index(name='字數')\n",
    "    uths['比例'] = uths['字數'] / uths.groupby(['韻目', '等', '呼', '閩南語韻母'])['字數'].transform('sum')\n",
    "\n",
    "    ''''''\n",
    "    # 消除破音字\n",
    "    uths = uths.sort_values(by='比例', ascending=False)\n",
    "    im['temp'] = False\n",
    "    for i, row in uths.iterrows():\n",
    "        u = row['韻目']\n",
    "        mu = row['閩南語韻母']\n",
    "        t = row['等']\n",
    "        h = row['呼']\n",
    "        s = row['聲母']\n",
    "\n",
    "        for j in list(im[(im['韻目'] == u) & (im['閩南語韻母'] == mu) & (im['呼'] == h) & (im['等'] == t) & (im['聲母'] == s)]['字']):\n",
    "                if im[im['字'] == j].sort_values(by='temp', ascending=False)['temp'].reset_index().loc[0,'temp']:\n",
    "                    im = im[~((im['字'] == j) & (~im['temp']))]\n",
    "                else:\n",
    "                    im.loc[((im['韻目'] == u) & (im['閩南語韻母'] == mu) & (im['呼'] == h) & (im['等'] == t) & (im['聲母'] == s) & (im['字'] == j)),'temp'] = True\n",
    "            \n",
    "    del im['temp']\n",
    "\n",
    "    # 重新計算比例\n",
    "    uths0 = im.query('韻目 in @l')\n",
    "    uths = uths0.groupby(['韻目', '等', '呼', '聲母', '閩南語韻母']).size().reset_index(name='字數')\n",
    "\n",
    "    # 這裡在做的事是將同一個韻目、閩南語韻母組合對應的聲母合併\n",
    "    # 先是把聲母組用list統整起來，套到每一個字的聲母欄位\n",
    "    uths['聲母'] = [list(uths0[(uths0['韻目'] == row['韻目']) & (uths0['閩南語韻母'] == row['閩南語韻母']) & (uths0['呼'] == row['呼']) & (uths0['等'] == row['等'])]['聲母']) for i, row in uths.iterrows()]\n",
    "    # 接著要把list裡的聲母拆成一個字串\n",
    "    def O(x):\n",
    "        o = ''\n",
    "        x = list(set(x))\n",
    "        for i in list(x):\n",
    "            o += str(i)\n",
    "        return o\n",
    "    uths['聲母'] = uths['聲母'].apply(O)\n",
    "    uths = uths.drop_duplicates()\n",
    "    # 重新計算比例\n",
    "    uths['比例'] = uths.groupby(['韻目', '閩南語韻母','呼', '等'])['字數'].transform('sum') / uths.groupby(['韻目','呼', '等'])['字數'].transform('sum')\n",
    "    uths['比例'] = round(uths['比例'], 2)\n",
    "    \n",
    "    ''''''\n",
    "    # 例字\n",
    "    uths['例字'] = [list(uths0[(uths0['韻目'] == row['韻目']) & (uths0['閩南語韻母'] == row['閩南語韻母']) & (uths0['等'] == row['等']) & (uths0['呼'] == row['呼'])]['字'])[0] for i, row in uths.iterrows()]\n",
    "    # 沒有分歧的部分挑出來\n",
    "    uths = uths[uths['比例'] != 1]\n",
    "    return uths\n",
    "\n",
    "''''''\n",
    "# %%\n",
    "im, un = u1()\n",
    "uh = u2(im, un)\n",
    "uth = u3(im, uh)\n",
    "uths = u4(im, uth)\n",
    "guths = pd.DataFrame(uths.groupby(['韻目','等', '呼', '閩南語韻母'])[['比例', '例字']].apply(lambda x: x.iloc[0]))\n",
    "guths"
   ]
  },
  {
   "cell_type": "markdown",
   "metadata": {},
   "source": [
    "##### 分析韻母與等"
   ]
  },
  {
   "cell_type": "code",
   "execution_count": 14,
   "metadata": {},
   "outputs": [
    {
     "name": "stderr",
     "output_type": "stream",
     "text": [
      "C:\\Users\\O\\AppData\\Local\\Temp\\ipykernel_24988\\906882859.py:8: SettingWithCopyWarning:\n",
      "\n",
      "\n",
      "A value is trying to be set on a copy of a slice from a DataFrame.\n",
      "Try using .loc[row_indexer,col_indexer] = value instead\n",
      "\n",
      "See the caveats in the documentation: https://pandas.pydata.org/pandas-docs/stable/user_guide/indexing.html#returning-a-view-versus-a-copy\n",
      "\n"
     ]
    },
    {
     "name": "stdout",
     "output_type": "stream",
     "text": [
      "仙 0.5\n",
      "佳 0.5\n",
      "元 0.5\n",
      "刪 0.5\n",
      "唐 0.015000000000000008\n",
      "微 0.33499999999999996\n",
      "支 0.5\n",
      "泰 0.5\n",
      "清 0.25\n",
      "皆 0.5\n",
      "祭 0.3333333333333333\n",
      "職 0.05999999999999999\n",
      "脂 0.25\n",
      "薛 0.5\n",
      "陽 0.34125\n",
      "麻 0.25125\n",
      "麻 0.37499999999999994\n"
     ]
    },
    {
     "name": "stderr",
     "output_type": "stream",
     "text": [
      "C:\\Users\\O\\AppData\\Local\\Temp\\ipykernel_24988\\1122924561.py:45: FutureWarning:\n",
      "\n",
      "Setting an item of incompatible dtype is deprecated and will raise in a future error of pandas. Value '0.5' has dtype incompatible with int64, please explicitly cast to a compatible dtype first.\n",
      "\n",
      "C:\\Users\\O\\AppData\\Local\\Temp\\ipykernel_24988\\2436173856.py:47: FutureWarning:\n",
      "\n",
      "Setting an item of incompatible dtype is deprecated and will raise in a future error of pandas. Value '0.37499999999999994' has dtype incompatible with int64, please explicitly cast to a compatible dtype first.\n",
      "\n"
     ]
    },
    {
     "name": "stdout",
     "output_type": "stream",
     "text": [
      "屋 0.39499999999999996\n",
      "東 0.355\n"
     ]
    },
    {
     "name": "stderr",
     "output_type": "stream",
     "text": [
      "C:\\Users\\O\\AppData\\Local\\Temp\\ipykernel_24988\\168978402.py:45: FutureWarning:\n",
      "\n",
      "Setting an item of incompatible dtype is deprecated and will raise in a future error of pandas. Value '0.39499999999999996' has dtype incompatible with int64, please explicitly cast to a compatible dtype first.\n",
      "\n"
     ]
    },
    {
     "data": {
      "text/html": [
       "<div>\n",
       "<style scoped>\n",
       "    .dataframe tbody tr th:only-of-type {\n",
       "        vertical-align: middle;\n",
       "    }\n",
       "\n",
       "    .dataframe tbody tr th {\n",
       "        vertical-align: top;\n",
       "    }\n",
       "\n",
       "    .dataframe thead th {\n",
       "        text-align: right;\n",
       "    }\n",
       "</style>\n",
       "<table border=\"1\" class=\"dataframe\">\n",
       "  <thead>\n",
       "    <tr style=\"text-align: right;\">\n",
       "      <th></th>\n",
       "      <th></th>\n",
       "      <th></th>\n",
       "      <th>比例</th>\n",
       "      <th>例字</th>\n",
       "    </tr>\n",
       "    <tr>\n",
       "      <th>韻目</th>\n",
       "      <th>等</th>\n",
       "      <th>閩南語韻母</th>\n",
       "      <th></th>\n",
       "      <th></th>\n",
       "    </tr>\n",
       "  </thead>\n",
       "  <tbody>\n",
       "    <tr>\n",
       "      <th rowspan=\"3\" valign=\"top\">屋</th>\n",
       "      <th>一</th>\n",
       "      <th>ok</th>\n",
       "      <td>1.00</td>\n",
       "      <td>曝</td>\n",
       "    </tr>\n",
       "    <tr>\n",
       "      <th rowspan=\"2\" valign=\"top\">三</th>\n",
       "      <th>iok</th>\n",
       "      <td>0.79</td>\n",
       "      <td>畜</td>\n",
       "    </tr>\n",
       "    <tr>\n",
       "      <th>ok</th>\n",
       "      <td>0.21</td>\n",
       "      <td>覆</td>\n",
       "    </tr>\n",
       "    <tr>\n",
       "      <th rowspan=\"3\" valign=\"top\">東</th>\n",
       "      <th>一</th>\n",
       "      <th>ong</th>\n",
       "      <td>1.00</td>\n",
       "      <td>東</td>\n",
       "    </tr>\n",
       "    <tr>\n",
       "      <th rowspan=\"2\" valign=\"top\">三</th>\n",
       "      <th>iong</th>\n",
       "      <td>0.71</td>\n",
       "      <td>中</td>\n",
       "    </tr>\n",
       "    <tr>\n",
       "      <th>ong</th>\n",
       "      <td>0.29</td>\n",
       "      <td>夢</td>\n",
       "    </tr>\n",
       "  </tbody>\n",
       "</table>\n",
       "</div>"
      ],
      "text/plain": [
       "              比例 例字\n",
       "韻目 等 閩南語韻母         \n",
       "屋  一 ok     1.00  曝\n",
       "   三 iok    0.79  畜\n",
       "     ok     0.21  覆\n",
       "東  一 ong    1.00  東\n",
       "   三 iong   0.71  中\n",
       "     ong    0.29  夢"
      ]
     },
     "execution_count": 14,
     "metadata": {},
     "output_type": "execute_result"
    }
   ],
   "source": [
    "# 找出分析與呼無關的韻母，分析等的因素\n",
    "def u5(im, un, uh):\n",
    "    l = [i for i in un['韻目'] if (un[(un['韻目'] == i)]['比例'].count() != 1)]\n",
    "    l = list(set(l))\n",
    "    l = [i for i in l if (len(im[im['韻目'] == i]['等'].unique()) != 1)]\n",
    "    ut0 = im.query('(韻目 in @l) & ~(韻目 in @uh[\"韻目\"])')\n",
    "    ut = ut0.groupby(['韻目', '等', '閩南語韻母']).size().reset_index(name='字數')\n",
    "    ut['比例'] = ut['字數'] / ut.groupby(['韻目', '等', '閩南語韻母'])['字數'].transform('sum')\n",
    "\n",
    "    ''''''\n",
    "    # 消除破音字\n",
    "    ut = ut.sort_values(by='比例', ascending=False)\n",
    "    im['temp'] = False\n",
    "    for i, row in ut.iterrows():\n",
    "        u = row['韻目']\n",
    "        mu = row['閩南語韻母']\n",
    "        t = row['等']\n",
    "\n",
    "        for j in list(im[(im['韻目'] == u) & (im['閩南語韻母'] == mu) & (im['等'] == t)]['字']):\n",
    "                if im[im['字'] == j].sort_values(by='temp', ascending=False)['temp'].reset_index().loc[0,'temp']:\n",
    "                    im = im[~((im['字'] == j) & (~im['temp']))]\n",
    "                else:\n",
    "                    im.loc[((im['韻目'] == u) & (im['閩南語韻母'] == mu) & (im['等'] == t) & (im['字'] == j)),'temp'] = True\n",
    "            \n",
    "    del im['temp']\n",
    "\n",
    "    # 重新計算比例\n",
    "    ut0 = im.query('韻目 in @l & ~(韻目 in @uh[\"韻目\"])')\n",
    "    ut = ut0.groupby(['韻目', '等', '閩南語韻母']).size().reset_index(name='字數')\n",
    "    ut['比例'] = ut['字數'] / ut.groupby(['韻目', '等'])['字數'].transform('sum')\n",
    "    ut['比例'] = round(ut['比例'], 2)\n",
    "\n",
    "    ''''''\n",
    "    # 鑑驗相關性\n",
    "    ut['temp'] = 0\n",
    "    for i in ut['韻目'].unique():\n",
    "        tnum = len(im[im['韻目'] == i]['等'].unique())\n",
    "        nstd = 0\n",
    "        for j in ut[ut['韻目'] == i]['閩南語韻母'].unique():\n",
    "            l = list(ut[(ut['韻目'] == i) & (ut['閩南語韻母'] == j)]['比例'])\n",
    "            while len(l) < tnum:\n",
    "                l.append(0)\n",
    "            nstd += np.std(l)*(ut[(ut['韻目'] == i) & (ut['閩南語韻母'] == j)].shape[0] / ut[ut['韻目'] == i].shape[0])\n",
    "        print(i, nstd)\n",
    "        ut.loc[ut['韻目'] == i, 'temp'] = nstd\n",
    "    ut = ut[ut['temp'] > 0.2]\n",
    "    del ut['temp']\n",
    "\n",
    "    ''''''\n",
    "    # 例字\n",
    "    ut['例字'] = [list(ut0[(ut0['韻目'] == row['韻目']) & (ut0['閩南語韻母'] == row['閩南語韻母']) & (ut0['等'] == row['等'])]['字'])[0] for i, row in ut.iterrows()]\n",
    "    return ut\n",
    "\n",
    "''''''\n",
    "# %%\n",
    "im, un = u1()\n",
    "uh = u2(im, un)\n",
    "uth = u3(im, uh)\n",
    "uths = u4(im, uth)\n",
    "ut = u5(im, un, uh)\n",
    "gut = pd.DataFrame(ut.groupby(['韻目','等', '閩南語韻母'])[['比例', '例字']].apply(lambda x: x.iloc[0]))\n",
    "gut\n"
   ]
  },
  {
   "cell_type": "markdown",
   "metadata": {},
   "source": [
    "##### 分析韻母與呼之對應聲母"
   ]
  },
  {
   "cell_type": "code",
   "execution_count": 15,
   "metadata": {},
   "outputs": [
    {
     "name": "stderr",
     "output_type": "stream",
     "text": [
      "C:\\Users\\O\\AppData\\Local\\Temp\\ipykernel_24988\\906882859.py:8: SettingWithCopyWarning:\n",
      "\n",
      "\n",
      "A value is trying to be set on a copy of a slice from a DataFrame.\n",
      "Try using .loc[row_indexer,col_indexer] = value instead\n",
      "\n",
      "See the caveats in the documentation: https://pandas.pydata.org/pandas-docs/stable/user_guide/indexing.html#returning-a-view-versus-a-copy\n",
      "\n"
     ]
    },
    {
     "name": "stdout",
     "output_type": "stream",
     "text": [
      "仙 0.5\n",
      "佳 0.5\n",
      "元 0.5\n",
      "刪 0.5\n",
      "唐 0.015000000000000008\n",
      "微 0.33499999999999996\n",
      "支 0.5\n",
      "泰 0.5\n",
      "清 0.25\n",
      "皆 0.5\n",
      "祭 0.3333333333333333\n",
      "職 0.05999999999999999\n",
      "脂 0.25\n",
      "薛 0.5\n",
      "陽 0.34125\n",
      "麻 0.25125\n",
      "麻 0.37499999999999994\n"
     ]
    },
    {
     "name": "stderr",
     "output_type": "stream",
     "text": [
      "C:\\Users\\O\\AppData\\Local\\Temp\\ipykernel_24988\\1122924561.py:45: FutureWarning:\n",
      "\n",
      "Setting an item of incompatible dtype is deprecated and will raise in a future error of pandas. Value '0.5' has dtype incompatible with int64, please explicitly cast to a compatible dtype first.\n",
      "\n",
      "C:\\Users\\O\\AppData\\Local\\Temp\\ipykernel_24988\\2436173856.py:47: FutureWarning:\n",
      "\n",
      "Setting an item of incompatible dtype is deprecated and will raise in a future error of pandas. Value '0.37499999999999994' has dtype incompatible with int64, please explicitly cast to a compatible dtype first.\n",
      "\n"
     ]
    },
    {
     "name": "stdout",
     "output_type": "stream",
     "text": [
      "屋 0.39499999999999996\n",
      "東 0.355\n"
     ]
    },
    {
     "name": "stderr",
     "output_type": "stream",
     "text": [
      "C:\\Users\\O\\AppData\\Local\\Temp\\ipykernel_24988\\168978402.py:45: FutureWarning:\n",
      "\n",
      "Setting an item of incompatible dtype is deprecated and will raise in a future error of pandas. Value '0.39499999999999996' has dtype incompatible with int64, please explicitly cast to a compatible dtype first.\n",
      "\n"
     ]
    },
    {
     "data": {
      "text/html": [
       "<div>\n",
       "<style scoped>\n",
       "    .dataframe tbody tr th:only-of-type {\n",
       "        vertical-align: middle;\n",
       "    }\n",
       "\n",
       "    .dataframe tbody tr th {\n",
       "        vertical-align: top;\n",
       "    }\n",
       "\n",
       "    .dataframe thead th {\n",
       "        text-align: right;\n",
       "    }\n",
       "</style>\n",
       "<table border=\"1\" class=\"dataframe\">\n",
       "  <thead>\n",
       "    <tr style=\"text-align: right;\">\n",
       "      <th></th>\n",
       "      <th></th>\n",
       "      <th></th>\n",
       "      <th></th>\n",
       "      <th>比例</th>\n",
       "      <th>例字</th>\n",
       "    </tr>\n",
       "    <tr>\n",
       "      <th>韻目</th>\n",
       "      <th>呼</th>\n",
       "      <th>閩南語韻母</th>\n",
       "      <th>聲母</th>\n",
       "      <th></th>\n",
       "      <th></th>\n",
       "    </tr>\n",
       "  </thead>\n",
       "  <tbody>\n",
       "    <tr>\n",
       "      <th rowspan=\"2\" valign=\"top\">微</th>\n",
       "      <th rowspan=\"2\" valign=\"top\">合</th>\n",
       "      <th>i</th>\n",
       "      <th>明</th>\n",
       "      <td>0.50</td>\n",
       "      <td>未</td>\n",
       "    </tr>\n",
       "    <tr>\n",
       "      <th>ui</th>\n",
       "      <th>並幫</th>\n",
       "      <td>0.50</td>\n",
       "      <td>飛</td>\n",
       "    </tr>\n",
       "    <tr>\n",
       "      <th rowspan=\"2\" valign=\"top\">清</th>\n",
       "      <th rowspan=\"2\" valign=\"top\">合</th>\n",
       "      <th>ing</th>\n",
       "      <th>以</th>\n",
       "      <td>0.50</td>\n",
       "      <td>營</td>\n",
       "    </tr>\n",
       "    <tr>\n",
       "      <th>iong</th>\n",
       "      <th>羣</th>\n",
       "      <td>0.50</td>\n",
       "      <td>瓊</td>\n",
       "    </tr>\n",
       "    <tr>\n",
       "      <th rowspan=\"2\" valign=\"top\">祭</th>\n",
       "      <th rowspan=\"2\" valign=\"top\">合</th>\n",
       "      <th>ue</th>\n",
       "      <th>心</th>\n",
       "      <td>0.50</td>\n",
       "      <td>歲</td>\n",
       "    </tr>\n",
       "    <tr>\n",
       "      <th>ui</th>\n",
       "      <th>清</th>\n",
       "      <td>0.50</td>\n",
       "      <td>脆</td>\n",
       "    </tr>\n",
       "    <tr>\n",
       "      <th rowspan=\"3\" valign=\"top\">脂</th>\n",
       "      <th rowspan=\"3\" valign=\"top\">開</th>\n",
       "      <th>e</th>\n",
       "      <th>來</th>\n",
       "      <td>0.17</td>\n",
       "      <td>梨</td>\n",
       "    </tr>\n",
       "    <tr>\n",
       "      <th>i</th>\n",
       "      <th>章來明定</th>\n",
       "      <td>0.17</td>\n",
       "      <td>眉</td>\n",
       "    </tr>\n",
       "    <tr>\n",
       "      <th>u</th>\n",
       "      <th>心書生</th>\n",
       "      <td>0.67</td>\n",
       "      <td>師</td>\n",
       "    </tr>\n",
       "    <tr>\n",
       "      <th rowspan=\"3\" valign=\"top\">陽</th>\n",
       "      <th rowspan=\"3\" valign=\"top\">開</th>\n",
       "      <th>iang</th>\n",
       "      <th>來澄</th>\n",
       "      <td>0.08</td>\n",
       "      <td>涼</td>\n",
       "    </tr>\n",
       "    <tr>\n",
       "      <th>iong</th>\n",
       "      <th>來見精崇日影孃澄章昌清書曉邪知常心以</th>\n",
       "      <td>0.72</td>\n",
       "      <td>陽</td>\n",
       "    </tr>\n",
       "    <tr>\n",
       "      <th>ong</th>\n",
       "      <th>初莊生崇</th>\n",
       "      <td>0.19</td>\n",
       "      <td>瘡</td>\n",
       "    </tr>\n",
       "  </tbody>\n",
       "</table>\n",
       "</div>"
      ],
      "text/plain": [
       "                                 比例 例字\n",
       "韻目 呼 閩南語韻母 聲母                         \n",
       "微  合 i     明                   0.50  未\n",
       "     ui    並幫                  0.50  飛\n",
       "清  合 ing   以                   0.50  營\n",
       "     iong  羣                   0.50  瓊\n",
       "祭  合 ue    心                   0.50  歲\n",
       "     ui    清                   0.50  脆\n",
       "脂  開 e     來                   0.17  梨\n",
       "     i     章來明定                0.17  眉\n",
       "     u     心書生                 0.67  師\n",
       "陽  開 iang  來澄                  0.08  涼\n",
       "     iong  來見精崇日影孃澄章昌清書曉邪知常心以  0.72  陽\n",
       "     ong   初莊生崇                0.19  瘡"
      ]
     },
     "execution_count": 15,
     "metadata": {},
     "output_type": "execute_result"
    }
   ],
   "source": [
    "# 找出分析呼後還有分歧且與等無關的韻母，看看其對應的聲母有哪些\n",
    "def u6(im, un, uh, uth, ut):\n",
    "    l = [i for i in un['韻目'] if (uh[(uh['韻目'] == i)]['比例'].count() != 1)]\n",
    "    l = list(set(l))\n",
    "    l = [i for i in l if (len(im[im['韻目'] == i]['聲母'].unique()) != 1)]\n",
    "    uhs0 = im.query('(韻目 in @l) & (韻目 in @uh[\"韻目\"]) & ~(韻目 in @uth[\"韻目\"]) & ~(韻目 in @ut[\"韻目\"])')\n",
    "    uhs = uhs0.groupby(['韻目', '呼', '聲母', '閩南語韻母']).size().reset_index(name='字數')\n",
    "    uhs['比例'] = uhs.groupby(['韻目', '閩南語韻母', '呼'])['字數'].transform('sum') / uhs.groupby(['韻目', '呼'])['字數'].transform('sum')\n",
    "\n",
    "    ''''''\n",
    "\n",
    "    # 消除破音字\n",
    "    uhs = uhs.sort_values(by='比例', ascending=False)\n",
    "    im['temp'] = False\n",
    "    for i, row in uhs.iterrows():\n",
    "        u = row['韻目']\n",
    "        mu = row['閩南語韻母']\n",
    "        h = row['呼']\n",
    "        s = row['聲母']\n",
    "\n",
    "        for j in list(im[(im['韻目'] == u) & (im['閩南語韻母'] == mu) & (im['呼'] == h) & (im['聲母'] == s)]['字']):\n",
    "                if im[im['字'] == j].sort_values(by='temp', ascending=False)['temp'].reset_index().loc[0,'temp']:\n",
    "                    im = im[~((im['字'] == j) & (~im['temp']))]\n",
    "                else:\n",
    "                    im.loc[((im['韻目'] == u) & (im['閩南語韻母'] == mu) & (im['呼'] == h) & (im['聲母'] == s) & (im['字'] == j)),'temp'] = True\n",
    "            \n",
    "    del im['temp']\n",
    "\n",
    "    # 重新計算比例\n",
    "    uhs0 = im.query('(韻目 in @l) & (韻目 in @uh[\"韻目\"]) & ~(韻目 in @uth[\"韻目\"]) & ~(韻目 in @ut[\"韻目\"])')\n",
    "    uhs = uhs0.groupby(['韻目', '呼', '聲母', '閩南語韻母']).size().reset_index(name='字數')\n",
    "\n",
    "    # 統整聲母\n",
    "    uhs['聲母'] = [list(uhs0[(uhs0['韻目'] == row['韻目']) & (uhs0['閩南語韻母'] == row['閩南語韻母']) & (uhs0['呼'] == row['呼'])]['聲母']) for i, row in uhs.iterrows()]\n",
    "    # 把list拆成str\n",
    "    def O(x):\n",
    "        o = ''\n",
    "        x = list(set(x))\n",
    "        for i in list(x):\n",
    "            o += str(i)\n",
    "        return o\n",
    "    uhs['聲母'] = uhs['聲母'].apply(O)\n",
    "    uhs = uhs.drop_duplicates()\n",
    "    # 重新計算比例\n",
    "    uhs['比例'] = uhs.groupby(['韻目', '閩南語韻母', '呼'])['字數'].transform('sum') / uhs.groupby(['韻目', '呼'])['字數'].transform('sum')\n",
    "    uhs['比例'] = round(uhs['比例'], 2)\n",
    "\n",
    "    ''''''\n",
    "\n",
    "    # 例字\n",
    "    uhs['例字'] = [list(uhs0[(uhs0['韻目'] == row['韻目']) & (uhs0['閩南語韻母'] == row['閩南語韻母']) & (uhs0['呼'] == row['呼'])]['字'])[0] for i, row in uhs.iterrows()]\n",
    "    # 沒有分歧的部分挑出來\n",
    "    uhs = uhs[uhs['比例'] != 1]\n",
    "    guhs = pd.DataFrame(uhs.groupby(['韻目','呼', '閩南語韻母', '聲母'])[['比例', '例字']].apply(lambda x: x.iloc[0]))\n",
    "    return uhs\n",
    "\n",
    "''''''\n",
    "# %%\n",
    "im, un = u1()\n",
    "uh = u2(im, un)\n",
    "uth = u3(im, uh)\n",
    "uths = u4(im, uth)\n",
    "ut = u5(im, un, uh)\n",
    "uhs = u6(im, un, uh, uth, ut)\n",
    "guhs = pd.DataFrame(uhs.groupby(['韻目','呼', '閩南語韻母', '聲母'])[['比例', '例字']].apply(lambda x: x.iloc[0]))\n",
    "guhs\n"
   ]
  },
  {
   "cell_type": "markdown",
   "metadata": {},
   "source": [
    "##### 分析韻母與等之對應聲母"
   ]
  },
  {
   "cell_type": "code",
   "execution_count": 16,
   "metadata": {},
   "outputs": [
    {
     "name": "stderr",
     "output_type": "stream",
     "text": [
      "C:\\Users\\O\\AppData\\Local\\Temp\\ipykernel_24988\\906882859.py:8: SettingWithCopyWarning:\n",
      "\n",
      "\n",
      "A value is trying to be set on a copy of a slice from a DataFrame.\n",
      "Try using .loc[row_indexer,col_indexer] = value instead\n",
      "\n",
      "See the caveats in the documentation: https://pandas.pydata.org/pandas-docs/stable/user_guide/indexing.html#returning-a-view-versus-a-copy\n",
      "\n"
     ]
    },
    {
     "name": "stdout",
     "output_type": "stream",
     "text": [
      "仙 0.5\n",
      "佳 0.5\n",
      "元 0.5\n",
      "刪 0.5\n",
      "唐 0.015000000000000008\n",
      "微 0.33499999999999996\n",
      "支 0.5\n",
      "泰 0.5\n",
      "清 0.25\n",
      "皆 0.5\n",
      "祭 0.3333333333333333\n",
      "職 0.05999999999999999\n",
      "脂 0.25\n",
      "薛 0.5\n",
      "陽 0.34125\n",
      "麻 0.25125\n",
      "麻 0.37499999999999994\n"
     ]
    },
    {
     "name": "stderr",
     "output_type": "stream",
     "text": [
      "C:\\Users\\O\\AppData\\Local\\Temp\\ipykernel_24988\\1122924561.py:45: FutureWarning:\n",
      "\n",
      "Setting an item of incompatible dtype is deprecated and will raise in a future error of pandas. Value '0.5' has dtype incompatible with int64, please explicitly cast to a compatible dtype first.\n",
      "\n",
      "C:\\Users\\O\\AppData\\Local\\Temp\\ipykernel_24988\\2436173856.py:47: FutureWarning:\n",
      "\n",
      "Setting an item of incompatible dtype is deprecated and will raise in a future error of pandas. Value '0.37499999999999994' has dtype incompatible with int64, please explicitly cast to a compatible dtype first.\n",
      "\n"
     ]
    },
    {
     "name": "stdout",
     "output_type": "stream",
     "text": [
      "屋 0.39499999999999996\n",
      "東 0.355\n"
     ]
    },
    {
     "name": "stderr",
     "output_type": "stream",
     "text": [
      "C:\\Users\\O\\AppData\\Local\\Temp\\ipykernel_24988\\168978402.py:45: FutureWarning:\n",
      "\n",
      "Setting an item of incompatible dtype is deprecated and will raise in a future error of pandas. Value '0.39499999999999996' has dtype incompatible with int64, please explicitly cast to a compatible dtype first.\n",
      "\n"
     ]
    },
    {
     "data": {
      "text/html": [
       "<div>\n",
       "<style scoped>\n",
       "    .dataframe tbody tr th:only-of-type {\n",
       "        vertical-align: middle;\n",
       "    }\n",
       "\n",
       "    .dataframe tbody tr th {\n",
       "        vertical-align: top;\n",
       "    }\n",
       "\n",
       "    .dataframe thead th {\n",
       "        text-align: right;\n",
       "    }\n",
       "</style>\n",
       "<table border=\"1\" class=\"dataframe\">\n",
       "  <thead>\n",
       "    <tr style=\"text-align: right;\">\n",
       "      <th></th>\n",
       "      <th></th>\n",
       "      <th></th>\n",
       "      <th></th>\n",
       "      <th>比例</th>\n",
       "      <th>例字</th>\n",
       "    </tr>\n",
       "    <tr>\n",
       "      <th>韻目</th>\n",
       "      <th>等</th>\n",
       "      <th>閩南語韻母</th>\n",
       "      <th>聲母</th>\n",
       "      <th></th>\n",
       "      <th></th>\n",
       "    </tr>\n",
       "  </thead>\n",
       "  <tbody>\n",
       "    <tr>\n",
       "      <th rowspan=\"2\" valign=\"top\">屋</th>\n",
       "      <th rowspan=\"2\" valign=\"top\">三</th>\n",
       "      <th>iok</th>\n",
       "      <th>來見日澄徹生書知常心</th>\n",
       "      <td>0.5</td>\n",
       "      <td>畜</td>\n",
       "    </tr>\n",
       "    <tr>\n",
       "      <th>ok</th>\n",
       "      <th>明滂幫</th>\n",
       "      <td>0.5</td>\n",
       "      <td>覆</td>\n",
       "    </tr>\n",
       "    <tr>\n",
       "      <th rowspan=\"2\" valign=\"top\">東</th>\n",
       "      <th rowspan=\"2\" valign=\"top\">三</th>\n",
       "      <th>iong</th>\n",
       "      <th>羣見云澄知</th>\n",
       "      <td>0.7</td>\n",
       "      <td>中</td>\n",
       "    </tr>\n",
       "    <tr>\n",
       "      <th>ong</th>\n",
       "      <th>明滂幫</th>\n",
       "      <td>0.3</td>\n",
       "      <td>夢</td>\n",
       "    </tr>\n",
       "  </tbody>\n",
       "</table>\n",
       "</div>"
      ],
      "text/plain": [
       "                        比例 例字\n",
       "韻目 等 閩南語韻母 聲母                \n",
       "屋  三 iok   來見日澄徹生書知常心  0.5  畜\n",
       "     ok    明滂幫         0.5  覆\n",
       "東  三 iong  羣見云澄知       0.7  中\n",
       "     ong   明滂幫         0.3  夢"
      ]
     },
     "execution_count": 16,
     "metadata": {},
     "output_type": "execute_result"
    }
   ],
   "source": [
    "# 找出分析等後還有分歧且與呼無關的韻母，看看其對應的聲母有哪些\n",
    "def u7(im, un, ut, uh):\n",
    "    l = [i for i in un['韻目'] if (ut[(ut['韻目'] == i)]['比例'].count() != 1)]\n",
    "    l = list(set(l))\n",
    "    l = [i for i in l if (len(im[im['韻目'] == i]['聲母'].unique()) != 1)]\n",
    "    uts0 = im.query('(韻目 in @l) & (韻目 in @ut[\"韻目\"]) & ~(韻目 in @uh[\"韻目\"])')\n",
    "    uts = uts0.groupby(['韻目', '等', '聲母', '閩南語韻母']).size().reset_index(name='字數')\n",
    "    uts['比例'] = uts.groupby(['韻目', '閩南語韻母', '等'])['字數'].transform('sum') / uts.groupby(['韻目', '等'])['字數'].transform('sum')\n",
    "\n",
    "    ''''''\n",
    "    # 消除破音字\n",
    "    uts = uts.sort_values(by='比例', ascending=False)\n",
    "    im['temp'] = False\n",
    "    for i, row in uts.iterrows():\n",
    "        u = row['韻目']\n",
    "        mu = row['閩南語韻母']\n",
    "        t = row['等']\n",
    "        s = row['聲母']\n",
    "\n",
    "        for j in list(im[(im['韻目'] == u) & (im['閩南語韻母'] == mu) & (im['等'] == t) & (im['聲母'] == s)]['字']):\n",
    "                if im[im['字'] == j].sort_values(by='temp', ascending=False)['temp'].reset_index().loc[0,'temp']:\n",
    "                    im = im[~((im['字'] == j) & (~im['temp']))]\n",
    "                else:\n",
    "                    im.loc[((im['韻目'] == u) & (im['閩南語韻母'] == mu) & (im['等'] == t) & (im['聲母'] == s) & (im['字'] == j)),'temp'] = True\n",
    "            \n",
    "    del im['temp']\n",
    "\n",
    "    # 重新計算比例\n",
    "    uts0 = im.query('韻目 in @l & (韻目 in @ut[\"韻目\"])  & ~(韻目 in @uh[\"韻目\"])')\n",
    "    uts = uts0.groupby(['韻目', '等', '聲母', '閩南語韻母']).size().reset_index(name='字數')\n",
    "\n",
    "    # 統整聲母\n",
    "    uts['聲母'] = [list(uts0[(uts0['韻目'] == row['韻目']) & (uts0['閩南語韻母'] == row['閩南語韻母']) & (uts0['等'] == row['等'])]['聲母']) for i, row in uts.iterrows()]\n",
    "    # 把list拆成str\n",
    "    def O(x):\n",
    "        o = ''\n",
    "        x = list(set(x))\n",
    "        for i in list(x):\n",
    "            o += str(i)\n",
    "        return o\n",
    "    uts['聲母'] = uts['聲母'].apply(O)\n",
    "    uts = uts.drop_duplicates()\n",
    "    # 重新計算比例\n",
    "    uts['比例'] = uts.groupby(['韻目', '閩南語韻母', '等'])['字數'].transform('sum') / uts.groupby(['韻目', '等'])['字數'].transform('sum')\n",
    "    uts['比例'] = round(uts['比例'], 2)\n",
    "\n",
    "    ''''''\n",
    "    # 例字\n",
    "    uts['例字'] = [list(uts0[(uts0['韻目'] == row['韻目']) & (uts0['閩南語韻母'] == row['閩南語韻母']) & (uts0['等'] == row['等'])]['字'])[0] for i, row in uts.iterrows()]\n",
    "    # 沒有分歧的部分挑出來\n",
    "    uts = uts[uts['比例'] != 1]\n",
    "    return uts\n",
    "\n",
    "''''''\n",
    "# %%\n",
    "im, un = u1()\n",
    "uh = u2(im, un)\n",
    "uth = u3(im, uh)\n",
    "uths = u4(im, uth)\n",
    "ut = u5(im, un, uh)\n",
    "uhs = u6(im, un, uh, uth, ut)\n",
    "uts = u7(im, un, ut, uh)\n",
    "guts = pd.DataFrame(uts.groupby(['韻目','等', '閩南語韻母', '聲母'])[['比例', '例字']].apply(lambda x: x.iloc[0]))\n",
    "guts\n"
   ]
  },
  {
   "cell_type": "markdown",
   "metadata": {},
   "source": [
    "##### 分析韻母之對應聲母"
   ]
  },
  {
   "cell_type": "code",
   "execution_count": 17,
   "metadata": {},
   "outputs": [
    {
     "name": "stderr",
     "output_type": "stream",
     "text": [
      "C:\\Users\\O\\AppData\\Local\\Temp\\ipykernel_24988\\906882859.py:8: SettingWithCopyWarning:\n",
      "\n",
      "\n",
      "A value is trying to be set on a copy of a slice from a DataFrame.\n",
      "Try using .loc[row_indexer,col_indexer] = value instead\n",
      "\n",
      "See the caveats in the documentation: https://pandas.pydata.org/pandas-docs/stable/user_guide/indexing.html#returning-a-view-versus-a-copy\n",
      "\n"
     ]
    },
    {
     "name": "stdout",
     "output_type": "stream",
     "text": [
      "仙 0.5\n",
      "佳 0.5\n",
      "元 0.5\n",
      "刪 0.5\n",
      "唐 0.015000000000000008\n",
      "微 0.33499999999999996\n",
      "支 0.5\n",
      "泰 0.5\n",
      "清 0.25\n",
      "皆 0.5\n",
      "祭 0.3333333333333333\n",
      "職 0.05999999999999999\n",
      "脂 0.25\n",
      "薛 0.5\n",
      "陽 0.34125\n",
      "麻 0.25125\n",
      "麻 0.37499999999999994\n"
     ]
    },
    {
     "name": "stderr",
     "output_type": "stream",
     "text": [
      "C:\\Users\\O\\AppData\\Local\\Temp\\ipykernel_24988\\1122924561.py:45: FutureWarning:\n",
      "\n",
      "Setting an item of incompatible dtype is deprecated and will raise in a future error of pandas. Value '0.5' has dtype incompatible with int64, please explicitly cast to a compatible dtype first.\n",
      "\n",
      "C:\\Users\\O\\AppData\\Local\\Temp\\ipykernel_24988\\2436173856.py:47: FutureWarning:\n",
      "\n",
      "Setting an item of incompatible dtype is deprecated and will raise in a future error of pandas. Value '0.37499999999999994' has dtype incompatible with int64, please explicitly cast to a compatible dtype first.\n",
      "\n"
     ]
    },
    {
     "name": "stdout",
     "output_type": "stream",
     "text": [
      "屋 0.39499999999999996\n",
      "東 0.355\n"
     ]
    },
    {
     "name": "stderr",
     "output_type": "stream",
     "text": [
      "C:\\Users\\O\\AppData\\Local\\Temp\\ipykernel_24988\\168978402.py:45: FutureWarning:\n",
      "\n",
      "Setting an item of incompatible dtype is deprecated and will raise in a future error of pandas. Value '0.39499999999999996' has dtype incompatible with int64, please explicitly cast to a compatible dtype first.\n",
      "\n"
     ]
    },
    {
     "data": {
      "text/html": [
       "<div>\n",
       "<style scoped>\n",
       "    .dataframe tbody tr th:only-of-type {\n",
       "        vertical-align: middle;\n",
       "    }\n",
       "\n",
       "    .dataframe tbody tr th {\n",
       "        vertical-align: top;\n",
       "    }\n",
       "\n",
       "    .dataframe thead th {\n",
       "        text-align: right;\n",
       "    }\n",
       "</style>\n",
       "<table border=\"1\" class=\"dataframe\">\n",
       "  <thead>\n",
       "    <tr style=\"text-align: right;\">\n",
       "      <th></th>\n",
       "      <th></th>\n",
       "      <th></th>\n",
       "      <th>比例</th>\n",
       "      <th>例字</th>\n",
       "    </tr>\n",
       "    <tr>\n",
       "      <th>韻目</th>\n",
       "      <th>閩南語韻母</th>\n",
       "      <th>聲母</th>\n",
       "      <th></th>\n",
       "      <th></th>\n",
       "    </tr>\n",
       "  </thead>\n",
       "  <tbody>\n",
       "    <tr>\n",
       "      <th rowspan=\"3\" valign=\"top\">之</th>\n",
       "      <th>i</th>\n",
       "      <th>日見澄</th>\n",
       "      <td>0.16</td>\n",
       "      <td>基</td>\n",
       "    </tr>\n",
       "    <tr>\n",
       "      <th>it</th>\n",
       "      <th>澄</th>\n",
       "      <td>0.05</td>\n",
       "      <td>值</td>\n",
       "    </tr>\n",
       "    <tr>\n",
       "      <th>u</th>\n",
       "      <th>精崇書生邪常心</th>\n",
       "      <td>0.79</td>\n",
       "      <td>思</td>\n",
       "    </tr>\n",
       "    <tr>\n",
       "      <th rowspan=\"3\" valign=\"top\">侯</th>\n",
       "      <th>io</th>\n",
       "      <th>溪影明</th>\n",
       "      <td>0.21</td>\n",
       "      <td>歐</td>\n",
       "    </tr>\n",
       "    <tr>\n",
       "      <th>o</th>\n",
       "      <th>透</th>\n",
       "      <td>0.07</td>\n",
       "      <td>透</td>\n",
       "    </tr>\n",
       "    <tr>\n",
       "      <th>oo</th>\n",
       "      <th>來見精端影匣定</th>\n",
       "      <td>0.71</td>\n",
       "      <td>侯</td>\n",
       "    </tr>\n",
       "    <tr>\n",
       "      <th rowspan=\"2\" valign=\"top\">唐</th>\n",
       "      <th>iong</th>\n",
       "      <th>影</th>\n",
       "      <td>0.04</td>\n",
       "      <td>映</td>\n",
       "    </tr>\n",
       "    <tr>\n",
       "      <th>ong</th>\n",
       "      <th>來見透精並端幫明清曉匣定心溪</th>\n",
       "      <td>0.96</td>\n",
       "      <td>湯</td>\n",
       "    </tr>\n",
       "    <tr>\n",
       "      <th rowspan=\"2\" valign=\"top\">尤</th>\n",
       "      <th>iu</th>\n",
       "      <th>羣來見云孃書知疑溪</th>\n",
       "      <td>0.67</td>\n",
       "      <td>留</td>\n",
       "    </tr>\n",
       "    <tr>\n",
       "      <th>u</th>\n",
       "      <th>幫並</th>\n",
       "      <td>0.33</td>\n",
       "      <td>浮</td>\n",
       "    </tr>\n",
       "    <tr>\n",
       "      <th rowspan=\"2\" valign=\"top\">德</th>\n",
       "      <th>ik</th>\n",
       "      <th>端明從</th>\n",
       "      <td>0.50</td>\n",
       "      <td>得</td>\n",
       "    </tr>\n",
       "    <tr>\n",
       "      <th>ok</th>\n",
       "      <th>幫</th>\n",
       "      <td>0.50</td>\n",
       "      <td>北</td>\n",
       "    </tr>\n",
       "    <tr>\n",
       "      <th rowspan=\"3\" valign=\"top\">戈</th>\n",
       "      <th>o</th>\n",
       "      <th>從見明匣曉定溪滂</th>\n",
       "      <td>0.75</td>\n",
       "      <td>過</td>\n",
       "    </tr>\n",
       "    <tr>\n",
       "      <th>onn</th>\n",
       "      <th>曉</th>\n",
       "      <td>0.12</td>\n",
       "      <td>火</td>\n",
       "    </tr>\n",
       "    <tr>\n",
       "      <th>oo</th>\n",
       "      <th>來</th>\n",
       "      <td>0.12</td>\n",
       "      <td>螺</td>\n",
       "    </tr>\n",
       "    <tr>\n",
       "      <th rowspan=\"2\" valign=\"top\">文</th>\n",
       "      <th>uan</th>\n",
       "      <th>云</th>\n",
       "      <td>0.25</td>\n",
       "      <td>員</td>\n",
       "    </tr>\n",
       "    <tr>\n",
       "      <th>un</th>\n",
       "      <th>明云幫並</th>\n",
       "      <td>0.75</td>\n",
       "      <td>墳</td>\n",
       "    </tr>\n",
       "    <tr>\n",
       "      <th rowspan=\"2\" valign=\"top\">歌</th>\n",
       "      <th>o</th>\n",
       "      <th>來見影匣定溪</th>\n",
       "      <td>0.50</td>\n",
       "      <td>歌</td>\n",
       "    </tr>\n",
       "    <tr>\n",
       "      <th>oo</th>\n",
       "      <th>疑</th>\n",
       "      <td>0.50</td>\n",
       "      <td>鵝</td>\n",
       "    </tr>\n",
       "    <tr>\n",
       "      <th rowspan=\"3\" valign=\"top\">江</th>\n",
       "      <th>ang</th>\n",
       "      <th>見</th>\n",
       "      <td>0.33</td>\n",
       "      <td>講</td>\n",
       "    </tr>\n",
       "    <tr>\n",
       "      <th>iong</th>\n",
       "      <th>溪</th>\n",
       "      <td>0.33</td>\n",
       "      <td>腔</td>\n",
       "    </tr>\n",
       "    <tr>\n",
       "      <th>ong</th>\n",
       "      <th>匣見</th>\n",
       "      <td>0.33</td>\n",
       "      <td>扛</td>\n",
       "    </tr>\n",
       "    <tr>\n",
       "      <th rowspan=\"2\" valign=\"top\">洽</th>\n",
       "      <th>ap</th>\n",
       "      <th>初</th>\n",
       "      <td>0.50</td>\n",
       "      <td>插</td>\n",
       "    </tr>\n",
       "    <tr>\n",
       "      <th>iap</th>\n",
       "      <th>匣</th>\n",
       "      <td>0.50</td>\n",
       "      <td>狹</td>\n",
       "    </tr>\n",
       "    <tr>\n",
       "      <th rowspan=\"2\" valign=\"top\">灰</th>\n",
       "      <th>ue</th>\n",
       "      <th>從曉</th>\n",
       "      <td>0.33</td>\n",
       "      <td>悔</td>\n",
       "    </tr>\n",
       "    <tr>\n",
       "      <th>ui</th>\n",
       "      <th>明透</th>\n",
       "      <td>0.67</td>\n",
       "      <td>推</td>\n",
       "    </tr>\n",
       "    <tr>\n",
       "      <th rowspan=\"2\" valign=\"top\">燭</th>\n",
       "      <th>ik</th>\n",
       "      <th>疑</th>\n",
       "      <td>0.50</td>\n",
       "      <td>獄</td>\n",
       "    </tr>\n",
       "    <tr>\n",
       "      <th>iok</th>\n",
       "      <th>來心章昌清疑以溪</th>\n",
       "      <td>0.50</td>\n",
       "      <td>燭</td>\n",
       "    </tr>\n",
       "    <tr>\n",
       "      <th rowspan=\"2\" valign=\"top\">盍</th>\n",
       "      <th>ap</th>\n",
       "      <th>來透</th>\n",
       "      <td>0.75</td>\n",
       "      <td>蠟</td>\n",
       "    </tr>\n",
       "    <tr>\n",
       "      <th>iap</th>\n",
       "      <th>來</th>\n",
       "      <td>0.25</td>\n",
       "      <td>臘</td>\n",
       "    </tr>\n",
       "    <tr>\n",
       "      <th rowspan=\"3\" valign=\"top\">眞</th>\n",
       "      <th>im</th>\n",
       "      <th>日</th>\n",
       "      <td>0.33</td>\n",
       "      <td>忍</td>\n",
       "    </tr>\n",
       "    <tr>\n",
       "      <th>in</th>\n",
       "      <th>來精澄章清書知常</th>\n",
       "      <td>0.50</td>\n",
       "      <td>振</td>\n",
       "    </tr>\n",
       "    <tr>\n",
       "      <th>un</th>\n",
       "      <th>澄</th>\n",
       "      <td>0.17</td>\n",
       "      <td>陣</td>\n",
       "    </tr>\n",
       "    <tr>\n",
       "      <th rowspan=\"2\" valign=\"top\">職</th>\n",
       "      <th>ik</th>\n",
       "      <th>船來云書生心以</th>\n",
       "      <td>0.75</td>\n",
       "      <td>力</td>\n",
       "    </tr>\n",
       "    <tr>\n",
       "      <th>it</th>\n",
       "      <th>船</th>\n",
       "      <td>0.25</td>\n",
       "      <td>食</td>\n",
       "    </tr>\n",
       "    <tr>\n",
       "      <th rowspan=\"2\" valign=\"top\">蒸</th>\n",
       "      <th>im</th>\n",
       "      <th>見</th>\n",
       "      <td>0.12</td>\n",
       "      <td>矜</td>\n",
       "    </tr>\n",
       "    <tr>\n",
       "      <th>ing</th>\n",
       "      <th>船並影書知常</th>\n",
       "      <td>0.88</td>\n",
       "      <td>承</td>\n",
       "    </tr>\n",
       "    <tr>\n",
       "      <th rowspan=\"2\" valign=\"top\">藥</th>\n",
       "      <th>iat</th>\n",
       "      <th>心</th>\n",
       "      <td>0.25</td>\n",
       "      <td>削</td>\n",
       "    </tr>\n",
       "    <tr>\n",
       "      <th>iok</th>\n",
       "      <th>來見精日知疑以</th>\n",
       "      <td>0.75</td>\n",
       "      <td>著</td>\n",
       "    </tr>\n",
       "    <tr>\n",
       "      <th rowspan=\"3\" valign=\"top\">覺</th>\n",
       "      <th>ak</th>\n",
       "      <th>匣</th>\n",
       "      <td>0.33</td>\n",
       "      <td>學</td>\n",
       "    </tr>\n",
       "    <tr>\n",
       "      <th>ok</th>\n",
       "      <th>影澄知幫滂</th>\n",
       "      <td>0.33</td>\n",
       "      <td>樸</td>\n",
       "    </tr>\n",
       "    <tr>\n",
       "      <th>oo</th>\n",
       "      <th>生</th>\n",
       "      <td>0.33</td>\n",
       "      <td>數</td>\n",
       "    </tr>\n",
       "    <tr>\n",
       "      <th rowspan=\"4\" valign=\"top\">豪</th>\n",
       "      <th>au</th>\n",
       "      <th>並</th>\n",
       "      <td>0.09</td>\n",
       "      <td>抱</td>\n",
       "    </tr>\n",
       "    <tr>\n",
       "      <th>o</th>\n",
       "      <th>來並端泥清定心</th>\n",
       "      <td>0.55</td>\n",
       "      <td>牢</td>\n",
       "    </tr>\n",
       "    <tr>\n",
       "      <th>onn</th>\n",
       "      <th>曉</th>\n",
       "      <td>0.18</td>\n",
       "      <td>好</td>\n",
       "    </tr>\n",
       "    <tr>\n",
       "      <th>oo</th>\n",
       "      <th>明</th>\n",
       "      <td>0.18</td>\n",
       "      <td>毛</td>\n",
       "    </tr>\n",
       "    <tr>\n",
       "      <th rowspan=\"2\" valign=\"top\">質</th>\n",
       "      <th>ik</th>\n",
       "      <th>來</th>\n",
       "      <td>0.50</td>\n",
       "      <td>栗</td>\n",
       "    </tr>\n",
       "    <tr>\n",
       "      <th>it</th>\n",
       "      <th>船明澄</th>\n",
       "      <td>0.50</td>\n",
       "      <td>實</td>\n",
       "    </tr>\n",
       "    <tr>\n",
       "      <th rowspan=\"2\" valign=\"top\">銜</th>\n",
       "      <th>am</th>\n",
       "      <th>見</th>\n",
       "      <td>0.80</td>\n",
       "      <td>監</td>\n",
       "    </tr>\n",
       "    <tr>\n",
       "      <th>an</th>\n",
       "      <th>生</th>\n",
       "      <td>0.20</td>\n",
       "      <td>芟</td>\n",
       "    </tr>\n",
       "    <tr>\n",
       "      <th rowspan=\"2\" valign=\"top\">鍾</th>\n",
       "      <th>iong</th>\n",
       "      <th>從來見澄章徹邪以</th>\n",
       "      <td>0.90</td>\n",
       "      <td>鍾</td>\n",
       "    </tr>\n",
       "    <tr>\n",
       "      <th>ong</th>\n",
       "      <th>並幫</th>\n",
       "      <td>0.10</td>\n",
       "      <td>封</td>\n",
       "    </tr>\n",
       "    <tr>\n",
       "      <th rowspan=\"2\" valign=\"top\">魚</th>\n",
       "      <th>oo</th>\n",
       "      <th>初生</th>\n",
       "      <td>0.30</td>\n",
       "      <td>初</td>\n",
       "    </tr>\n",
       "    <tr>\n",
       "      <th>u</th>\n",
       "      <th>見澄書曉知邪常疑以</th>\n",
       "      <td>0.70</td>\n",
       "      <td>魚</td>\n",
       "    </tr>\n",
       "    <tr>\n",
       "      <th rowspan=\"2\" valign=\"top\">齊</th>\n",
       "      <th>e</th>\n",
       "      <th>從見透影定心</th>\n",
       "      <td>0.75</td>\n",
       "      <td>臍</td>\n",
       "    </tr>\n",
       "    <tr>\n",
       "      <th>i</th>\n",
       "      <th>端滂</th>\n",
       "      <td>0.25</td>\n",
       "      <td>批</td>\n",
       "    </tr>\n",
       "  </tbody>\n",
       "</table>\n",
       "</div>"
      ],
      "text/plain": [
       "                           比例 例字\n",
       "韻目 閩南語韻母 聲母                     \n",
       "之  i     日見澄             0.16  基\n",
       "   it    澄               0.05  值\n",
       "   u     精崇書生邪常心         0.79  思\n",
       "侯  io    溪影明             0.21  歐\n",
       "   o     透               0.07  透\n",
       "   oo    來見精端影匣定         0.71  侯\n",
       "唐  iong  影               0.04  映\n",
       "   ong   來見透精並端幫明清曉匣定心溪  0.96  湯\n",
       "尤  iu    羣來見云孃書知疑溪       0.67  留\n",
       "   u     幫並              0.33  浮\n",
       "德  ik    端明從             0.50  得\n",
       "   ok    幫               0.50  北\n",
       "戈  o     從見明匣曉定溪滂        0.75  過\n",
       "   onn   曉               0.12  火\n",
       "   oo    來               0.12  螺\n",
       "文  uan   云               0.25  員\n",
       "   un    明云幫並            0.75  墳\n",
       "歌  o     來見影匣定溪          0.50  歌\n",
       "   oo    疑               0.50  鵝\n",
       "江  ang   見               0.33  講\n",
       "   iong  溪               0.33  腔\n",
       "   ong   匣見              0.33  扛\n",
       "洽  ap    初               0.50  插\n",
       "   iap   匣               0.50  狹\n",
       "灰  ue    從曉              0.33  悔\n",
       "   ui    明透              0.67  推\n",
       "燭  ik    疑               0.50  獄\n",
       "   iok   來心章昌清疑以溪        0.50  燭\n",
       "盍  ap    來透              0.75  蠟\n",
       "   iap   來               0.25  臘\n",
       "眞  im    日               0.33  忍\n",
       "   in    來精澄章清書知常        0.50  振\n",
       "   un    澄               0.17  陣\n",
       "職  ik    船來云書生心以         0.75  力\n",
       "   it    船               0.25  食\n",
       "蒸  im    見               0.12  矜\n",
       "   ing   船並影書知常          0.88  承\n",
       "藥  iat   心               0.25  削\n",
       "   iok   來見精日知疑以         0.75  著\n",
       "覺  ak    匣               0.33  學\n",
       "   ok    影澄知幫滂           0.33  樸\n",
       "   oo    生               0.33  數\n",
       "豪  au    並               0.09  抱\n",
       "   o     來並端泥清定心         0.55  牢\n",
       "   onn   曉               0.18  好\n",
       "   oo    明               0.18  毛\n",
       "質  ik    來               0.50  栗\n",
       "   it    船明澄             0.50  實\n",
       "銜  am    見               0.80  監\n",
       "   an    生               0.20  芟\n",
       "鍾  iong  從來見澄章徹邪以        0.90  鍾\n",
       "   ong   並幫              0.10  封\n",
       "魚  oo    初生              0.30  初\n",
       "   u     見澄書曉知邪常疑以       0.70  魚\n",
       "齊  e     從見透影定心          0.75  臍\n",
       "   i     端滂              0.25  批"
      ]
     },
     "execution_count": 17,
     "metadata": {},
     "output_type": "execute_result"
    }
   ],
   "source": [
    "# 找出有分歧且與等呼無關的韻母，看看其對應的聲母有哪些\n",
    "def u8(im, un, uh, uts):\n",
    "    l = [i for i in un['韻目'] if (un[un['韻目'] == i]['閩南語韻母'].count() != 1)]\n",
    "    l = list(set(l))\n",
    "    l = [i for i in l if (len(im[im['韻目'] == i]['聲母'].unique()) != 1)]\n",
    "    us0 = im.query('(韻目 in @l) & ~(韻目 in @uh[\"韻目\"]) & ~(韻目 in @uts[\"韻目\"])')\n",
    "    us = us0.groupby(['韻目', '聲母', '閩南語韻母']).size().reset_index(name='字數')\n",
    "    us['比例'] = us.groupby(['韻目', '閩南語韻母'])['字數'].transform('sum') / us.groupby(['韻目'])['字數'].transform('sum')\n",
    "\n",
    "    ''''''\n",
    "    # 消除破音字\n",
    "    us = us.sort_values(by='比例', ascending=False)\n",
    "    im['temp'] = False\n",
    "    for i, row in us.iterrows():\n",
    "        u = row['韻目']\n",
    "        mu = row['閩南語韻母']\n",
    "        s = row['聲母']\n",
    "\n",
    "        for j in list(im[(im['韻目'] == u) & (im['閩南語韻母'] == mu) & (im['聲母'] == s)]['字']):\n",
    "                if im[im['字'] == j].sort_values(by='temp', ascending=False)['temp'].reset_index().loc[0,'temp']:\n",
    "                    im = im[~((im['字'] == j) & (~im['temp']))]\n",
    "                else:\n",
    "                    im.loc[((im['韻目'] == u) & (im['閩南語韻母'] == mu) & (im['聲母'] == s) & (im['字'] == j)),'temp'] = True\n",
    "            \n",
    "    del im['temp']\n",
    "\n",
    "    # 重新計算比例\n",
    "    us0 = im.query('(韻目 in @l) & ~(韻目 in @uh[\"韻目\"]) & ~(韻目 in @uts[\"韻目\"])')\n",
    "    us = us0.groupby(['韻目', '聲母', '閩南語韻母']).size().reset_index(name='字數')\n",
    "\n",
    "    # 統整聲母\n",
    "    us['聲母'] = [list(us0[(us0['韻目'] == row['韻目']) & (us0['閩南語韻母'] == row['閩南語韻母'])]['聲母']) for i, row in us.iterrows()]\n",
    "    # 把list拆成str\n",
    "    def O(x):\n",
    "        o = ''\n",
    "        x = list(set(x))\n",
    "        for i in list(x):\n",
    "            o += str(i)\n",
    "        return o\n",
    "    us['聲母'] = us['聲母'].apply(O)\n",
    "    us = us.drop_duplicates()\n",
    "    # 重新計算比例\n",
    "    us['比例'] = us.groupby(['韻目', '閩南語韻母'])['字數'].transform('sum') / us.groupby(['韻目'])['字數'].transform('sum')\n",
    "    us['比例'] = round(us['比例'], 2)\n",
    "\n",
    "    ''''''\n",
    "    # 例字\n",
    "    us['例字'] = [list(us0[(us0['韻目'] == row['韻目']) & (us0['閩南語韻母'] == row['閩南語韻母'])]['字'])[0] for i, row in us.iterrows()]\n",
    "    return us\n",
    "\n",
    "''''''\n",
    "# %%\n",
    "im, un = u1()\n",
    "uh = u2(im, un)\n",
    "uth = u3(im, uh)\n",
    "uths = u4(im, uth)\n",
    "ut = u5(im, un, uh)\n",
    "uhs = u6(im, un, uh, uth, ut)\n",
    "uts = u7(im, un, ut, uh)\n",
    "us = u8(im, un, uh, uts)\n",
    "gus = pd.DataFrame(us.groupby(['韻目', '閩南語韻母', '聲母'])[['比例', '例字']].apply(lambda x: x.iloc[0]))\n",
    "gus\n"
   ]
  },
  {
   "cell_type": "markdown",
   "metadata": {},
   "source": [
    "### 統整"
   ]
  },
  {
   "cell_type": "code",
   "execution_count": 18,
   "metadata": {},
   "outputs": [
    {
     "name": "stderr",
     "output_type": "stream",
     "text": [
      "C:\\Users\\O\\AppData\\Local\\Temp\\ipykernel_24988\\906882859.py:8: SettingWithCopyWarning:\n",
      "\n",
      "\n",
      "A value is trying to be set on a copy of a slice from a DataFrame.\n",
      "Try using .loc[row_indexer,col_indexer] = value instead\n",
      "\n",
      "See the caveats in the documentation: https://pandas.pydata.org/pandas-docs/stable/user_guide/indexing.html#returning-a-view-versus-a-copy\n",
      "\n"
     ]
    },
    {
     "name": "stdout",
     "output_type": "stream",
     "text": [
      "仙 0.5\n",
      "佳 0.5\n",
      "元 0.5\n",
      "刪 0.5\n",
      "唐 0.015000000000000008\n",
      "微 0.33499999999999996\n",
      "支 0.5\n",
      "泰 0.5\n",
      "清 0.25\n",
      "皆 0.5\n",
      "祭 0.3333333333333333\n",
      "職 0.05999999999999999\n",
      "脂 0.25\n",
      "薛 0.5\n",
      "陽 0.34125\n",
      "麻 0.25125\n",
      "麻 0.37499999999999994\n"
     ]
    },
    {
     "name": "stderr",
     "output_type": "stream",
     "text": [
      "C:\\Users\\O\\AppData\\Local\\Temp\\ipykernel_24988\\1122924561.py:45: FutureWarning:\n",
      "\n",
      "Setting an item of incompatible dtype is deprecated and will raise in a future error of pandas. Value '0.5' has dtype incompatible with int64, please explicitly cast to a compatible dtype first.\n",
      "\n",
      "C:\\Users\\O\\AppData\\Local\\Temp\\ipykernel_24988\\2436173856.py:47: FutureWarning:\n",
      "\n",
      "Setting an item of incompatible dtype is deprecated and will raise in a future error of pandas. Value '0.37499999999999994' has dtype incompatible with int64, please explicitly cast to a compatible dtype first.\n",
      "\n"
     ]
    },
    {
     "name": "stdout",
     "output_type": "stream",
     "text": [
      "屋 0.39499999999999996\n",
      "東 0.355\n"
     ]
    },
    {
     "name": "stderr",
     "output_type": "stream",
     "text": [
      "C:\\Users\\O\\AppData\\Local\\Temp\\ipykernel_24988\\168978402.py:45: FutureWarning:\n",
      "\n",
      "Setting an item of incompatible dtype is deprecated and will raise in a future error of pandas. Value '0.39499999999999996' has dtype incompatible with int64, please explicitly cast to a compatible dtype first.\n",
      "\n"
     ]
    },
    {
     "data": {
      "text/html": [
       "<div>\n",
       "<style scoped>\n",
       "    .dataframe tbody tr th:only-of-type {\n",
       "        vertical-align: middle;\n",
       "    }\n",
       "\n",
       "    .dataframe tbody tr th {\n",
       "        vertical-align: top;\n",
       "    }\n",
       "\n",
       "    .dataframe thead th {\n",
       "        text-align: right;\n",
       "    }\n",
       "</style>\n",
       "<table border=\"1\" class=\"dataframe\">\n",
       "  <thead>\n",
       "    <tr style=\"text-align: right;\">\n",
       "      <th></th>\n",
       "      <th></th>\n",
       "      <th></th>\n",
       "      <th></th>\n",
       "      <th></th>\n",
       "      <th>比例</th>\n",
       "      <th>例字</th>\n",
       "    </tr>\n",
       "    <tr>\n",
       "      <th>韻目</th>\n",
       "      <th>等</th>\n",
       "      <th>呼</th>\n",
       "      <th>閩南語韻母</th>\n",
       "      <th>聲母</th>\n",
       "      <th></th>\n",
       "      <th></th>\n",
       "    </tr>\n",
       "  </thead>\n",
       "  <tbody>\n",
       "    <tr>\n",
       "      <th rowspan=\"3\" valign=\"top\">之</th>\n",
       "      <th rowspan=\"3\" valign=\"top\">-</th>\n",
       "      <th rowspan=\"3\" valign=\"top\">-</th>\n",
       "      <th>i</th>\n",
       "      <th>日見澄</th>\n",
       "      <td>0.16</td>\n",
       "      <td>基</td>\n",
       "    </tr>\n",
       "    <tr>\n",
       "      <th>it</th>\n",
       "      <th>澄</th>\n",
       "      <td>0.05</td>\n",
       "      <td>值</td>\n",
       "    </tr>\n",
       "    <tr>\n",
       "      <th>u</th>\n",
       "      <th>精崇書生邪常心</th>\n",
       "      <td>0.79</td>\n",
       "      <td>思</td>\n",
       "    </tr>\n",
       "    <tr>\n",
       "      <th rowspan=\"3\" valign=\"top\">侯</th>\n",
       "      <th rowspan=\"3\" valign=\"top\">-</th>\n",
       "      <th rowspan=\"3\" valign=\"top\">-</th>\n",
       "      <th>io</th>\n",
       "      <th>溪影明</th>\n",
       "      <td>0.21</td>\n",
       "      <td>歐</td>\n",
       "    </tr>\n",
       "    <tr>\n",
       "      <th>o</th>\n",
       "      <th>透</th>\n",
       "      <td>0.07</td>\n",
       "      <td>透</td>\n",
       "    </tr>\n",
       "    <tr>\n",
       "      <th>oo</th>\n",
       "      <th>來見精端影匣定</th>\n",
       "      <td>0.71</td>\n",
       "      <td>侯</td>\n",
       "    </tr>\n",
       "    <tr>\n",
       "      <th rowspan=\"2\" valign=\"top\">唐</th>\n",
       "      <th rowspan=\"2\" valign=\"top\">-</th>\n",
       "      <th rowspan=\"2\" valign=\"top\">-</th>\n",
       "      <th>iong</th>\n",
       "      <th>影</th>\n",
       "      <td>0.04</td>\n",
       "      <td>映</td>\n",
       "    </tr>\n",
       "    <tr>\n",
       "      <th>ong</th>\n",
       "      <th>來見透精並端幫明清曉匣定心溪</th>\n",
       "      <td>0.96</td>\n",
       "      <td>湯</td>\n",
       "    </tr>\n",
       "    <tr>\n",
       "      <th rowspan=\"2\" valign=\"top\">尤</th>\n",
       "      <th rowspan=\"2\" valign=\"top\">-</th>\n",
       "      <th rowspan=\"2\" valign=\"top\">-</th>\n",
       "      <th>iu</th>\n",
       "      <th>羣來見云孃書知疑溪</th>\n",
       "      <td>0.67</td>\n",
       "      <td>留</td>\n",
       "    </tr>\n",
       "    <tr>\n",
       "      <th>u</th>\n",
       "      <th>幫並</th>\n",
       "      <td>0.33</td>\n",
       "      <td>浮</td>\n",
       "    </tr>\n",
       "    <tr>\n",
       "      <th rowspan=\"2\" valign=\"top\">屋</th>\n",
       "      <th rowspan=\"2\" valign=\"top\">三</th>\n",
       "      <th rowspan=\"2\" valign=\"top\">-</th>\n",
       "      <th>iok</th>\n",
       "      <th>來見日澄徹生書知常心</th>\n",
       "      <td>0.50</td>\n",
       "      <td>畜</td>\n",
       "    </tr>\n",
       "    <tr>\n",
       "      <th>ok</th>\n",
       "      <th>明滂幫</th>\n",
       "      <td>0.50</td>\n",
       "      <td>覆</td>\n",
       "    </tr>\n",
       "    <tr>\n",
       "      <th rowspan=\"2\" valign=\"top\">微</th>\n",
       "      <th rowspan=\"2\" valign=\"top\">-</th>\n",
       "      <th rowspan=\"2\" valign=\"top\">合</th>\n",
       "      <th>i</th>\n",
       "      <th>明</th>\n",
       "      <td>0.50</td>\n",
       "      <td>未</td>\n",
       "    </tr>\n",
       "    <tr>\n",
       "      <th>ui</th>\n",
       "      <th>並幫</th>\n",
       "      <td>0.50</td>\n",
       "      <td>飛</td>\n",
       "    </tr>\n",
       "    <tr>\n",
       "      <th rowspan=\"2\" valign=\"top\">德</th>\n",
       "      <th rowspan=\"2\" valign=\"top\">-</th>\n",
       "      <th rowspan=\"2\" valign=\"top\">-</th>\n",
       "      <th>ik</th>\n",
       "      <th>端明從</th>\n",
       "      <td>0.50</td>\n",
       "      <td>得</td>\n",
       "    </tr>\n",
       "    <tr>\n",
       "      <th>ok</th>\n",
       "      <th>幫</th>\n",
       "      <td>0.50</td>\n",
       "      <td>北</td>\n",
       "    </tr>\n",
       "    <tr>\n",
       "      <th rowspan=\"3\" valign=\"top\">戈</th>\n",
       "      <th rowspan=\"3\" valign=\"top\">-</th>\n",
       "      <th rowspan=\"3\" valign=\"top\">-</th>\n",
       "      <th>o</th>\n",
       "      <th>從見明匣曉定溪滂</th>\n",
       "      <td>0.75</td>\n",
       "      <td>過</td>\n",
       "    </tr>\n",
       "    <tr>\n",
       "      <th>onn</th>\n",
       "      <th>曉</th>\n",
       "      <td>0.12</td>\n",
       "      <td>火</td>\n",
       "    </tr>\n",
       "    <tr>\n",
       "      <th>oo</th>\n",
       "      <th>來</th>\n",
       "      <td>0.12</td>\n",
       "      <td>螺</td>\n",
       "    </tr>\n",
       "    <tr>\n",
       "      <th>文</th>\n",
       "      <th>-</th>\n",
       "      <th>-</th>\n",
       "      <th>uan</th>\n",
       "      <th>云</th>\n",
       "      <td>0.25</td>\n",
       "      <td>員</td>\n",
       "    </tr>\n",
       "  </tbody>\n",
       "</table>\n",
       "</div>"
      ],
      "text/plain": [
       "                               比例 例字\n",
       "韻目 等 呼 閩南語韻母 聲母                     \n",
       "之  - - i     日見澄             0.16  基\n",
       "       it    澄               0.05  值\n",
       "       u     精崇書生邪常心         0.79  思\n",
       "侯  - - io    溪影明             0.21  歐\n",
       "       o     透               0.07  透\n",
       "       oo    來見精端影匣定         0.71  侯\n",
       "唐  - - iong  影               0.04  映\n",
       "       ong   來見透精並端幫明清曉匣定心溪  0.96  湯\n",
       "尤  - - iu    羣來見云孃書知疑溪       0.67  留\n",
       "       u     幫並              0.33  浮\n",
       "屋  三 - iok   來見日澄徹生書知常心      0.50  畜\n",
       "       ok    明滂幫             0.50  覆\n",
       "微  - 合 i     明               0.50  未\n",
       "       ui    並幫              0.50  飛\n",
       "德  - - ik    端明從             0.50  得\n",
       "       ok    幫               0.50  北\n",
       "戈  - - o     從見明匣曉定溪滂        0.75  過\n",
       "       onn   曉               0.12  火\n",
       "       oo    來               0.12  螺\n",
       "文  - - uan   云               0.25  員"
      ]
     },
     "execution_count": 18,
     "metadata": {},
     "output_type": "execute_result"
    }
   ],
   "source": [
    "# 彙整所有的歧音與其聲母的對應關係\n",
    "def usdf(us, uts, uths, uhs):\n",
    "    GUS = us.query('~(韻目 in @uts[\"韻目\"])')\n",
    "    GUS = pd.concat([GUS, uts],ignore_index=True)\n",
    "    GUS = GUS.query('~(韻目 in @uths[\"韻目\"])')\n",
    "    GUS = pd.concat([GUS, uths],ignore_index=True)\n",
    "    GUS = GUS.query('~(韻目 in @uhs[\"韻目\"])')\n",
    "    GUS = pd.concat([GUS, uhs],ignore_index=True)\n",
    "    # 以下的原則是這樣：沒有區別就不需要寫出屬性，所以空出來的位置都可以'-'替代\n",
    "    GUS = GUS.fillna('-')\n",
    "\n",
    "    GUS = pd.DataFrame(GUS.groupby(['韻目','等','呼', '閩南語韻母', '聲母'])[['比例', '例字']].apply(lambda x: x.iloc[0]))\n",
    "    return GUS\n",
    "\n",
    "''''''\n",
    "# %%\n",
    "im, un = u1()\n",
    "uh = u2(im, un)\n",
    "uth = u3(im, uh)\n",
    "uths = u4(im, uth)\n",
    "ut = u5(im, un, uh)\n",
    "uhs = u6(im, un, uh, uth, ut)\n",
    "uts = u7(im, un, ut, uh)\n",
    "us = u8(im, un, uh, uts)\n",
    "GUS = usdf(us, uts, uths, uhs)\n",
    "GUS.head(20)\n"
   ]
  },
  {
   "cell_type": "code",
   "execution_count": 19,
   "metadata": {},
   "outputs": [
    {
     "name": "stderr",
     "output_type": "stream",
     "text": [
      "C:\\Users\\O\\AppData\\Local\\Temp\\ipykernel_24988\\906882859.py:8: SettingWithCopyWarning:\n",
      "\n",
      "\n",
      "A value is trying to be set on a copy of a slice from a DataFrame.\n",
      "Try using .loc[row_indexer,col_indexer] = value instead\n",
      "\n",
      "See the caveats in the documentation: https://pandas.pydata.org/pandas-docs/stable/user_guide/indexing.html#returning-a-view-versus-a-copy\n",
      "\n"
     ]
    },
    {
     "name": "stdout",
     "output_type": "stream",
     "text": [
      "仙 0.5\n",
      "佳 0.5\n",
      "元 0.5\n",
      "刪 0.5\n",
      "唐 0.015000000000000008\n",
      "微 0.33499999999999996\n",
      "支 0.5\n",
      "泰 0.5\n",
      "清 0.25\n",
      "皆 0.5\n",
      "祭 0.3333333333333333\n",
      "職 0.05999999999999999\n",
      "脂 0.25\n",
      "薛 0.5\n",
      "陽 0.34125\n",
      "麻 0.25125\n",
      "麻 0.37499999999999994\n"
     ]
    },
    {
     "name": "stderr",
     "output_type": "stream",
     "text": [
      "C:\\Users\\O\\AppData\\Local\\Temp\\ipykernel_24988\\1122924561.py:45: FutureWarning:\n",
      "\n",
      "Setting an item of incompatible dtype is deprecated and will raise in a future error of pandas. Value '0.5' has dtype incompatible with int64, please explicitly cast to a compatible dtype first.\n",
      "\n",
      "C:\\Users\\O\\AppData\\Local\\Temp\\ipykernel_24988\\2436173856.py:47: FutureWarning:\n",
      "\n",
      "Setting an item of incompatible dtype is deprecated and will raise in a future error of pandas. Value '0.37499999999999994' has dtype incompatible with int64, please explicitly cast to a compatible dtype first.\n",
      "\n"
     ]
    },
    {
     "name": "stdout",
     "output_type": "stream",
     "text": [
      "屋 0.39499999999999996\n",
      "東 0.355\n"
     ]
    },
    {
     "name": "stderr",
     "output_type": "stream",
     "text": [
      "C:\\Users\\O\\AppData\\Local\\Temp\\ipykernel_24988\\168978402.py:45: FutureWarning:\n",
      "\n",
      "Setting an item of incompatible dtype is deprecated and will raise in a future error of pandas. Value '0.39499999999999996' has dtype incompatible with int64, please explicitly cast to a compatible dtype first.\n",
      "\n"
     ]
    },
    {
     "data": {
      "text/html": [
       "<div>\n",
       "<style scoped>\n",
       "    .dataframe tbody tr th:only-of-type {\n",
       "        vertical-align: middle;\n",
       "    }\n",
       "\n",
       "    .dataframe tbody tr th {\n",
       "        vertical-align: top;\n",
       "    }\n",
       "\n",
       "    .dataframe thead th {\n",
       "        text-align: right;\n",
       "    }\n",
       "</style>\n",
       "<table border=\"1\" class=\"dataframe\">\n",
       "  <thead>\n",
       "    <tr style=\"text-align: right;\">\n",
       "      <th></th>\n",
       "      <th></th>\n",
       "      <th></th>\n",
       "      <th></th>\n",
       "      <th>比例</th>\n",
       "      <th>例字</th>\n",
       "    </tr>\n",
       "    <tr>\n",
       "      <th>韻目</th>\n",
       "      <th>等</th>\n",
       "      <th>呼</th>\n",
       "      <th>閩南語韻母</th>\n",
       "      <th></th>\n",
       "      <th></th>\n",
       "    </tr>\n",
       "  </thead>\n",
       "  <tbody>\n",
       "    <tr>\n",
       "      <th rowspan=\"3\" valign=\"top\">之</th>\n",
       "      <th rowspan=\"3\" valign=\"top\">-</th>\n",
       "      <th rowspan=\"3\" valign=\"top\">-</th>\n",
       "      <th>i</th>\n",
       "      <td>0.15</td>\n",
       "      <td>基</td>\n",
       "    </tr>\n",
       "    <tr>\n",
       "      <th>it</th>\n",
       "      <td>0.04</td>\n",
       "      <td>值</td>\n",
       "    </tr>\n",
       "    <tr>\n",
       "      <th>u</th>\n",
       "      <td>0.81</td>\n",
       "      <td>思</td>\n",
       "    </tr>\n",
       "    <tr>\n",
       "      <th>乏</th>\n",
       "      <th>-</th>\n",
       "      <th>-</th>\n",
       "      <th>uat</th>\n",
       "      <td>-</td>\n",
       "      <td>乏</td>\n",
       "    </tr>\n",
       "    <tr>\n",
       "      <th rowspan=\"2\" valign=\"top\">仙</th>\n",
       "      <th rowspan=\"2\" valign=\"top\">-</th>\n",
       "      <th>合</th>\n",
       "      <th>uan</th>\n",
       "      <td>-</td>\n",
       "      <td>全</td>\n",
       "    </tr>\n",
       "    <tr>\n",
       "      <th>開</th>\n",
       "      <th>ian</th>\n",
       "      <td>-</td>\n",
       "      <td>鮮</td>\n",
       "    </tr>\n",
       "    <tr>\n",
       "      <th rowspan=\"2\" valign=\"top\">佳</th>\n",
       "      <th rowspan=\"2\" valign=\"top\">-</th>\n",
       "      <th>合</th>\n",
       "      <th>ua</th>\n",
       "      <td>-</td>\n",
       "      <td>掛</td>\n",
       "    </tr>\n",
       "    <tr>\n",
       "      <th>開</th>\n",
       "      <th>ai</th>\n",
       "      <td>-</td>\n",
       "      <td>鞋</td>\n",
       "    </tr>\n",
       "    <tr>\n",
       "      <th rowspan=\"3\" valign=\"top\">侯</th>\n",
       "      <th rowspan=\"3\" valign=\"top\">-</th>\n",
       "      <th rowspan=\"3\" valign=\"top\">-</th>\n",
       "      <th>io</th>\n",
       "      <td>0.22</td>\n",
       "      <td>歐</td>\n",
       "    </tr>\n",
       "    <tr>\n",
       "      <th>o</th>\n",
       "      <td>0.04</td>\n",
       "      <td>透</td>\n",
       "    </tr>\n",
       "    <tr>\n",
       "      <th>oo</th>\n",
       "      <td>0.74</td>\n",
       "      <td>侯</td>\n",
       "    </tr>\n",
       "    <tr>\n",
       "      <th>侵</th>\n",
       "      <th>-</th>\n",
       "      <th>-</th>\n",
       "      <th>im</th>\n",
       "      <td>-</td>\n",
       "      <td>尋</td>\n",
       "    </tr>\n",
       "    <tr>\n",
       "      <th rowspan=\"2\" valign=\"top\">元</th>\n",
       "      <th rowspan=\"2\" valign=\"top\">-</th>\n",
       "      <th>合</th>\n",
       "      <th>uan</th>\n",
       "      <td>-</td>\n",
       "      <td>園</td>\n",
       "    </tr>\n",
       "    <tr>\n",
       "      <th>開</th>\n",
       "      <th>ian</th>\n",
       "      <td>-</td>\n",
       "      <td>軒</td>\n",
       "    </tr>\n",
       "    <tr>\n",
       "      <th>先</th>\n",
       "      <th>-</th>\n",
       "      <th>-</th>\n",
       "      <th>ian</th>\n",
       "      <td>-</td>\n",
       "      <td>先</td>\n",
       "    </tr>\n",
       "    <tr>\n",
       "      <th>冬</th>\n",
       "      <th>-</th>\n",
       "      <th>-</th>\n",
       "      <th>ong</th>\n",
       "      <td>-</td>\n",
       "      <td>冬</td>\n",
       "    </tr>\n",
       "    <tr>\n",
       "      <th>凡</th>\n",
       "      <th>-</th>\n",
       "      <th>-</th>\n",
       "      <th>uan</th>\n",
       "      <td>-</td>\n",
       "      <td>帆</td>\n",
       "    </tr>\n",
       "    <tr>\n",
       "      <th rowspan=\"2\" valign=\"top\">刪</th>\n",
       "      <th rowspan=\"2\" valign=\"top\">-</th>\n",
       "      <th>合</th>\n",
       "      <th>uan</th>\n",
       "      <td>-</td>\n",
       "      <td>關</td>\n",
       "    </tr>\n",
       "    <tr>\n",
       "      <th>開</th>\n",
       "      <th>an</th>\n",
       "      <td>-</td>\n",
       "      <td>般</td>\n",
       "    </tr>\n",
       "    <tr>\n",
       "      <th>合</th>\n",
       "      <th>-</th>\n",
       "      <th>-</th>\n",
       "      <th>ap</th>\n",
       "      <td>-</td>\n",
       "      <td>合</td>\n",
       "    </tr>\n",
       "  </tbody>\n",
       "</table>\n",
       "</div>"
      ],
      "text/plain": [
       "                比例 例字\n",
       "韻目 等 呼 閩南語韻母         \n",
       "之  - - i      0.15  基\n",
       "       it     0.04  值\n",
       "       u      0.81  思\n",
       "乏  - - uat       -  乏\n",
       "仙  - 合 uan       -  全\n",
       "     開 ian       -  鮮\n",
       "佳  - 合 ua        -  掛\n",
       "     開 ai        -  鞋\n",
       "侯  - - io     0.22  歐\n",
       "       o      0.04  透\n",
       "       oo     0.74  侯\n",
       "侵  - - im        -  尋\n",
       "元  - 合 uan       -  園\n",
       "     開 ian       -  軒\n",
       "先  - - ian       -  先\n",
       "冬  - - ong       -  冬\n",
       "凡  - - uan       -  帆\n",
       "刪  - 合 uan       -  關\n",
       "     開 an        -  般\n",
       "合  - - ap        -  合"
      ]
     },
     "execution_count": 19,
     "metadata": {},
     "output_type": "execute_result"
    }
   ],
   "source": [
    "# 彙整所有的韻母對應關係\n",
    "def udf(un, uh, uth, ut):\n",
    "    GUN = un.query('~(韻目 in @uh[\"韻目\"])')\n",
    "    GUN = pd.concat([GUN, uh],ignore_index=True)\n",
    "    GUN = GUN.query('~(韻目 in @uth[\"韻目\"])')\n",
    "    GUN = pd.concat([GUN, uth],ignore_index=True)\n",
    "    GUN = GUN.query('~(韻目 in @ut[\"韻目\"])')\n",
    "    GUN = pd.concat([GUN, ut],ignore_index=True)\n",
    "\n",
    "    GUN = GUN.fillna('-')\n",
    "    # 比例=1的都是沒有歧異的，所以可以用'-'替代\n",
    "    GUN['比例'] = GUN['比例'].replace(1,'-')\n",
    "\n",
    "    GUN = pd.DataFrame(GUN.groupby(['韻目','等', '呼', '閩南語韻母'])[['比例', '例字']].apply(lambda x: x.iloc[0]))\n",
    "    return GUN\n",
    "\n",
    "''''''\n",
    "# %%\n",
    "im, un = u1()\n",
    "uh = u2(im, un)\n",
    "uth = u3(im, uh)\n",
    "ut = u5(im, un, uh)\n",
    "GUN = udf(un, uh, uth, ut)\n",
    "GUN.head(20)\n"
   ]
  },
  {
   "cell_type": "code",
   "execution_count": 20,
   "metadata": {},
   "outputs": [
    {
     "name": "stderr",
     "output_type": "stream",
     "text": [
      "C:\\Users\\O\\AppData\\Local\\Temp\\ipykernel_24988\\3465589181.py:13: SettingWithCopyWarning:\n",
      "\n",
      "\n",
      "A value is trying to be set on a copy of a slice from a DataFrame.\n",
      "Try using .loc[row_indexer,col_indexer] = value instead\n",
      "\n",
      "See the caveats in the documentation: https://pandas.pydata.org/pandas-docs/stable/user_guide/indexing.html#returning-a-view-versus-a-copy\n",
      "\n",
      "C:\\Users\\O\\AppData\\Local\\Temp\\ipykernel_24988\\608827147.py:46: FutureWarning:\n",
      "\n",
      "Setting an item of incompatible dtype is deprecated and will raise in a future error of pandas. Value '0.21508085460351353' has dtype incompatible with int64, please explicitly cast to a compatible dtype first.\n",
      "\n"
     ]
    },
    {
     "data": {
      "text/html": [
       "<div>\n",
       "<style scoped>\n",
       "    .dataframe tbody tr th:only-of-type {\n",
       "        vertical-align: middle;\n",
       "    }\n",
       "\n",
       "    .dataframe tbody tr th {\n",
       "        vertical-align: top;\n",
       "    }\n",
       "\n",
       "    .dataframe thead th {\n",
       "        text-align: right;\n",
       "    }\n",
       "</style>\n",
       "<table border=\"1\" class=\"dataframe\">\n",
       "  <thead>\n",
       "    <tr style=\"text-align: right;\">\n",
       "      <th></th>\n",
       "      <th></th>\n",
       "      <th></th>\n",
       "      <th>比例</th>\n",
       "      <th>例字</th>\n",
       "    </tr>\n",
       "    <tr>\n",
       "      <th>聲母</th>\n",
       "      <th>等</th>\n",
       "      <th>閩南語聲母</th>\n",
       "      <th></th>\n",
       "      <th></th>\n",
       "    </tr>\n",
       "  </thead>\n",
       "  <tbody>\n",
       "    <tr>\n",
       "      <th rowspan=\"9\" valign=\"top\">並</th>\n",
       "      <th rowspan=\"3\" valign=\"top\">一</th>\n",
       "      <th>h</th>\n",
       "      <td>0.06</td>\n",
       "      <td>篷</td>\n",
       "    </tr>\n",
       "    <tr>\n",
       "      <th>p</th>\n",
       "      <td>0.56</td>\n",
       "      <td>盤</td>\n",
       "    </tr>\n",
       "    <tr>\n",
       "      <th>ph</th>\n",
       "      <td>0.38</td>\n",
       "      <td>磐</td>\n",
       "    </tr>\n",
       "    <tr>\n",
       "      <th rowspan=\"3\" valign=\"top\">三</th>\n",
       "      <th>h</th>\n",
       "      <td>0.58</td>\n",
       "      <td>縫</td>\n",
       "    </tr>\n",
       "    <tr>\n",
       "      <th>p</th>\n",
       "      <td>0.35</td>\n",
       "      <td>便</td>\n",
       "    </tr>\n",
       "    <tr>\n",
       "      <th>ph</th>\n",
       "      <td>0.06</td>\n",
       "      <td>皮</td>\n",
       "    </tr>\n",
       "    <tr>\n",
       "      <th rowspan=\"2\" valign=\"top\">二</th>\n",
       "      <th>p</th>\n",
       "      <td>0.86</td>\n",
       "      <td>琶</td>\n",
       "    </tr>\n",
       "    <tr>\n",
       "      <th>ph</th>\n",
       "      <td>0.14</td>\n",
       "      <td>彭</td>\n",
       "    </tr>\n",
       "    <tr>\n",
       "      <th>四</th>\n",
       "      <th>p</th>\n",
       "      <td>-</td>\n",
       "      <td>並</td>\n",
       "    </tr>\n",
       "    <tr>\n",
       "      <th rowspan=\"2\" valign=\"top\">云</th>\n",
       "      <th rowspan=\"2\" valign=\"top\">-</th>\n",
       "      <th>-</th>\n",
       "      <td>0.93</td>\n",
       "      <td>芋</td>\n",
       "    </tr>\n",
       "    <tr>\n",
       "      <th>h</th>\n",
       "      <td>0.07</td>\n",
       "      <td>雄</td>\n",
       "    </tr>\n",
       "    <tr>\n",
       "      <th rowspan=\"2\" valign=\"top\">以</th>\n",
       "      <th rowspan=\"2\" valign=\"top\">-</th>\n",
       "      <th>-</th>\n",
       "      <td>0.97</td>\n",
       "      <td>溶</td>\n",
       "    </tr>\n",
       "    <tr>\n",
       "      <th>l</th>\n",
       "      <td>0.03</td>\n",
       "      <td>簷</td>\n",
       "    </tr>\n",
       "    <tr>\n",
       "      <th rowspan=\"2\" valign=\"top\">來</th>\n",
       "      <th rowspan=\"2\" valign=\"top\">-</th>\n",
       "      <th>l</th>\n",
       "      <td>0.99</td>\n",
       "      <td>籠</td>\n",
       "    </tr>\n",
       "    <tr>\n",
       "      <th>n</th>\n",
       "      <td>0.01</td>\n",
       "      <td>賴</td>\n",
       "    </tr>\n",
       "    <tr>\n",
       "      <th>初</th>\n",
       "      <th>-</th>\n",
       "      <th>tsh</th>\n",
       "      <td>-</td>\n",
       "      <td>差</td>\n",
       "    </tr>\n",
       "    <tr>\n",
       "      <th rowspan=\"3\" valign=\"top\">匣</th>\n",
       "      <th rowspan=\"3\" valign=\"top\">-</th>\n",
       "      <th>-</th>\n",
       "      <td>0.02</td>\n",
       "      <td>盒</td>\n",
       "    </tr>\n",
       "    <tr>\n",
       "      <th>h</th>\n",
       "      <td>0.96</td>\n",
       "      <td>洪</td>\n",
       "    </tr>\n",
       "    <tr>\n",
       "      <th>k</th>\n",
       "      <td>0.02</td>\n",
       "      <td>缸</td>\n",
       "    </tr>\n",
       "    <tr>\n",
       "      <th>孃</th>\n",
       "      <th>-</th>\n",
       "      <th>l</th>\n",
       "      <td>-</td>\n",
       "      <td>鐃</td>\n",
       "    </tr>\n",
       "  </tbody>\n",
       "</table>\n",
       "</div>"
      ],
      "text/plain": [
       "              比例 例字\n",
       "聲母 等 閩南語聲母         \n",
       "並  一 h      0.06  篷\n",
       "     p      0.56  盤\n",
       "     ph     0.38  磐\n",
       "   三 h      0.58  縫\n",
       "     p      0.35  便\n",
       "     ph     0.06  皮\n",
       "   二 p      0.86  琶\n",
       "     ph     0.14  彭\n",
       "   四 p         -  並\n",
       "云  - -      0.93  芋\n",
       "     h      0.07  雄\n",
       "以  - -      0.97  溶\n",
       "     l      0.03  簷\n",
       "來  - l      0.99  籠\n",
       "     n      0.01  賴\n",
       "初  - tsh       -  差\n",
       "匣  - -      0.02  盒\n",
       "     h      0.96  洪\n",
       "     k      0.02  缸\n",
       "孃  - l         -  鐃"
      ]
     },
     "execution_count": 20,
     "metadata": {},
     "output_type": "execute_result"
    }
   ],
   "source": [
    "# 彙整所有的聲母對應關係\n",
    "def sdf(siann, st_):\n",
    "    GSIANN = siann.query('~(聲母 in @st_[\"聲母\"])')\n",
    "    GSIANN = pd.concat([GSIANN, st_],ignore_index=True)\n",
    "\n",
    "    GSIANN = GSIANN.fillna('-')\n",
    "    GSIANN['比例'] = GSIANN['比例'].replace(1,'-')\n",
    "\n",
    "    GSIANN = pd.DataFrame(GSIANN.groupby(['聲母','等', '閩南語聲母'])[['比例', '例字']].apply(lambda x: x.iloc[0]))\n",
    "    return GSIANN\n",
    "\n",
    "''''''\n",
    "# %%\n",
    "im, siann = s1()\n",
    "st_ = s2(im, siann)\n",
    "GSIANN = sdf(siann, st_)\n",
    "GSIANN.head(20)"
   ]
  },
  {
   "cell_type": "markdown",
   "metadata": {},
   "source": [
    "### 處理聲調"
   ]
  },
  {
   "cell_type": "code",
   "execution_count": 21,
   "metadata": {},
   "outputs": [
    {
     "name": "stderr",
     "output_type": "stream",
     "text": [
      "C:\\Users\\O\\AppData\\Local\\Temp\\ipykernel_24988\\1068289302.py:8: SettingWithCopyWarning:\n",
      "\n",
      "\n",
      "A value is trying to be set on a copy of a slice from a DataFrame.\n",
      "Try using .loc[row_indexer,col_indexer] = value instead\n",
      "\n",
      "See the caveats in the documentation: https://pandas.pydata.org/pandas-docs/stable/user_guide/indexing.html#returning-a-view-versus-a-copy\n",
      "\n"
     ]
    },
    {
     "data": {
      "application/vnd.plotly.v1+json": {
       "config": {
        "plotlyServerURL": "https://plot.ly"
       },
       "data": [
        {
         "text": [
          "東",
          "挨",
          "杆",
          "籠",
          "振",
          "咬",
          "凍",
          "傘",
          "泡",
          "樸",
          "同",
          "夢",
          "舵",
          "著",
          "值"
         ],
         "textfont": {
          "size": 9
         },
         "textposition": "outside",
         "type": "bar",
         "x": [
          [
           1,
           1,
           1,
           2,
           2,
           2,
           3,
           3,
           3,
           4,
           5,
           7,
           7,
           8,
           8
          ],
          [
           "平",
           "上",
           "去",
           "上",
           "去",
           "平",
           "去",
           "上",
           "平",
           "入",
           "平",
           "去",
           "上",
           "入",
           "去"
          ]
         ],
         "y": [
          0.99,
          0.01,
          0,
          0.94,
          0.04,
          0.02,
          0.95,
          0.03,
          0.02,
          1,
          1,
          0.77,
          0.23,
          0.99,
          0.01
         ]
        }
       ],
       "layout": {
        "colorway": [
         "#5FA15A",
         "#C36EFA"
        ],
        "template": {
         "data": {
          "candlestick": [
           {
            "decreasing": {
             "line": {
              "color": "#000033"
             }
            },
            "increasing": {
             "line": {
              "color": "#000032"
             }
            },
            "type": "candlestick"
           }
          ],
          "contour": [
           {
            "colorscale": [
             [
              0,
              "#000011"
             ],
             [
              0.1111111111111111,
              "#000012"
             ],
             [
              0.2222222222222222,
              "#000013"
             ],
             [
              0.3333333333333333,
              "#000014"
             ],
             [
              0.4444444444444444,
              "#000015"
             ],
             [
              0.5555555555555556,
              "#000016"
             ],
             [
              0.6666666666666666,
              "#000017"
             ],
             [
              0.7777777777777778,
              "#000018"
             ],
             [
              0.8888888888888888,
              "#000019"
             ],
             [
              1,
              "#000020"
             ]
            ],
            "type": "contour"
           }
          ],
          "contourcarpet": [
           {
            "colorscale": [
             [
              0,
              "#000011"
             ],
             [
              0.1111111111111111,
              "#000012"
             ],
             [
              0.2222222222222222,
              "#000013"
             ],
             [
              0.3333333333333333,
              "#000014"
             ],
             [
              0.4444444444444444,
              "#000015"
             ],
             [
              0.5555555555555556,
              "#000016"
             ],
             [
              0.6666666666666666,
              "#000017"
             ],
             [
              0.7777777777777778,
              "#000018"
             ],
             [
              0.8888888888888888,
              "#000019"
             ],
             [
              1,
              "#000020"
             ]
            ],
            "type": "contourcarpet"
           }
          ],
          "heatmap": [
           {
            "colorscale": [
             [
              0,
              "#000011"
             ],
             [
              0.1111111111111111,
              "#000012"
             ],
             [
              0.2222222222222222,
              "#000013"
             ],
             [
              0.3333333333333333,
              "#000014"
             ],
             [
              0.4444444444444444,
              "#000015"
             ],
             [
              0.5555555555555556,
              "#000016"
             ],
             [
              0.6666666666666666,
              "#000017"
             ],
             [
              0.7777777777777778,
              "#000018"
             ],
             [
              0.8888888888888888,
              "#000019"
             ],
             [
              1,
              "#000020"
             ]
            ],
            "type": "heatmap"
           }
          ],
          "histogram2d": [
           {
            "colorscale": [
             [
              0,
              "#000011"
             ],
             [
              0.1111111111111111,
              "#000012"
             ],
             [
              0.2222222222222222,
              "#000013"
             ],
             [
              0.3333333333333333,
              "#000014"
             ],
             [
              0.4444444444444444,
              "#000015"
             ],
             [
              0.5555555555555556,
              "#000016"
             ],
             [
              0.6666666666666666,
              "#000017"
             ],
             [
              0.7777777777777778,
              "#000018"
             ],
             [
              0.8888888888888888,
              "#000019"
             ],
             [
              1,
              "#000020"
             ]
            ],
            "type": "histogram2d"
           }
          ],
          "icicle": [
           {
            "textfont": {
             "color": "white"
            },
            "type": "icicle"
           }
          ],
          "sankey": [
           {
            "textfont": {
             "color": "#000036"
            },
            "type": "sankey"
           }
          ],
          "scatter": [
           {
            "marker": {
             "line": {
              "width": 0
             }
            },
            "type": "scatter"
           }
          ],
          "table": [
           {
            "cells": {
             "fill": {
              "color": "#000038"
             },
             "font": {
              "color": "#000037"
             },
             "line": {
              "color": "#000039"
             }
            },
            "header": {
             "fill": {
              "color": "#000040"
             },
             "font": {
              "color": "#000036"
             },
             "line": {
              "color": "#000039"
             }
            },
            "type": "table"
           }
          ],
          "waterfall": [
           {
            "connector": {
             "line": {
              "color": "#000036",
              "width": 2
             }
            },
            "decreasing": {
             "marker": {
              "color": "#000033"
             }
            },
            "increasing": {
             "marker": {
              "color": "#000032"
             }
            },
            "totals": {
             "marker": {
              "color": "#000034"
             }
            },
            "type": "waterfall"
           }
          ]
         },
         "layout": {
          "coloraxis": {
           "colorscale": [
            [
             0,
             "#000011"
            ],
            [
             0.1111111111111111,
             "#000012"
            ],
            [
             0.2222222222222222,
             "#000013"
            ],
            [
             0.3333333333333333,
             "#000014"
            ],
            [
             0.4444444444444444,
             "#000015"
            ],
            [
             0.5555555555555556,
             "#000016"
            ],
            [
             0.6666666666666666,
             "#000017"
            ],
            [
             0.7777777777777778,
             "#000018"
            ],
            [
             0.8888888888888888,
             "#000019"
            ],
            [
             1,
             "#000020"
            ]
           ]
          },
          "colorscale": {
           "diverging": [
            [
             0,
             "#000021"
            ],
            [
             0.1,
             "#000022"
            ],
            [
             0.2,
             "#000023"
            ],
            [
             0.3,
             "#000024"
            ],
            [
             0.4,
             "#000025"
            ],
            [
             0.5,
             "#000026"
            ],
            [
             0.6,
             "#000027"
            ],
            [
             0.7,
             "#000028"
            ],
            [
             0.8,
             "#000029"
            ],
            [
             0.9,
             "#000030"
            ],
            [
             1,
             "#000031"
            ]
           ],
           "sequential": [
            [
             0,
             "#000011"
            ],
            [
             0.1111111111111111,
             "#000012"
            ],
            [
             0.2222222222222222,
             "#000013"
            ],
            [
             0.3333333333333333,
             "#000014"
            ],
            [
             0.4444444444444444,
             "#000015"
            ],
            [
             0.5555555555555556,
             "#000016"
            ],
            [
             0.6666666666666666,
             "#000017"
            ],
            [
             0.7777777777777778,
             "#000018"
            ],
            [
             0.8888888888888888,
             "#000019"
            ],
            [
             1,
             "#000020"
            ]
           ],
           "sequentialminus": [
            [
             0,
             "#000011"
            ],
            [
             0.1111111111111111,
             "#000012"
            ],
            [
             0.2222222222222222,
             "#000013"
            ],
            [
             0.3333333333333333,
             "#000014"
            ],
            [
             0.4444444444444444,
             "#000015"
            ],
            [
             0.5555555555555556,
             "#000016"
            ],
            [
             0.6666666666666666,
             "#000017"
            ],
            [
             0.7777777777777778,
             "#000018"
            ],
            [
             0.8888888888888888,
             "#000019"
            ],
            [
             1,
             "#000020"
            ]
           ]
          },
          "colorway": [
           "#000001",
           "#000002",
           "#000003",
           "#000004",
           "#000005",
           "#000006",
           "#000007",
           "#000008",
           "#000009",
           "#000010"
          ]
         }
        },
        "title": {
         "text": "閩南語文音聲調對應的平上去入"
        },
        "xaxis": {
         "title": {
          "text": "第N調"
         }
        },
        "yaxis": {
         "title": {
          "text": "比例"
         }
        }
       }
      }
     },
     "metadata": {},
     "output_type": "display_data"
    }
   ],
   "source": [
    "def tfig():\n",
    "    im = D[D['文白音'] == bp]\n",
    "    tiao = im.groupby(['閩南語調', '調']).size().reset_index(name='字數')\n",
    "\n",
    "    # 使用 transform 計算比例並新增一列 '比例'\n",
    "    tiao['比例'] = tiao['字數'] / tiao.groupby('調')['字數'].transform('sum')\n",
    "    tiao = tiao.sort_values(by='比例', ascending=False)\n",
    "    im['temp'] = False\n",
    "\n",
    "    # 消除破音字\n",
    "    for i, row in tiao.iterrows():\n",
    "        t = row['調']\n",
    "        mt = row['閩南語調']\n",
    "\n",
    "        for j in list(im[(im['調'] == t) & (im['閩南語調'] == mt)]['字']):\n",
    "                if im[im['字'] == j].sort_values(by='temp', ascending=False)['temp'].reset_index().loc[0,'temp']:\n",
    "                    im = im[~((im['字'] == j) & (~im['temp']))]\n",
    "                else:\n",
    "                    im.loc[((im['調'] == t) & (im['閩南語調'] == mt) & (im['字'] == j)),'temp'] = True\n",
    "            \n",
    "    del im['temp']\n",
    "\n",
    "    # 重新計算比例\n",
    "    tiao = im.groupby(['閩南語調', '調']).size().reset_index(name='字數')\n",
    "    tiao['比例'] = tiao['字數'] / tiao.groupby('閩南語調')['字數'].transform('sum')\n",
    "    tiao['比例'] = round(tiao['比例'], 2)\n",
    "    tiao = tiao.sort_values(by='比例', ascending=False)\n",
    "\n",
    "    # 例字\n",
    "    tiao['例字'] = [list(im[(im['調'] == row['調']) & (im['閩南語調'] == row['閩南語調'])]['字'])[0] for i, row in tiao.iterrows()]\n",
    "\n",
    "\n",
    "    # %%\n",
    "    x = [\n",
    "        tiao.sort_values('閩南語調')['閩南語調'],\n",
    "        tiao.sort_values('閩南語調')['調']\n",
    "    ]\n",
    "    figt = go.Figure()\n",
    "    figt.add_bar(x=x,y=tiao.sort_values('閩南語調')['比例'], text=tiao.sort_values('閩南語調')['例字']\n",
    "                , textposition='outside', textfont=dict(size=9))\n",
    "\n",
    "    # 變更顏色、添加標題和座標軸名稱\n",
    "    figt.update_layout(\n",
    "        colorway=['#5FA15A', '#C36EFA'],\n",
    "        title=f'閩南語{bp}音聲調對應的平上去入',\n",
    "        xaxis_title='第N調',\n",
    "        yaxis_title='比例'\n",
    "    )\n",
    "    return figt\n",
    "\n",
    "''''''\n",
    "# %%\n",
    "tfig().show()\n"
   ]
  },
  {
   "cell_type": "markdown",
   "metadata": {},
   "source": [
    "### 在Streamlit上執行"
   ]
  },
  {
   "cell_type": "code",
   "execution_count": 22,
   "metadata": {},
   "outputs": [
    {
     "name": "stderr",
     "output_type": "stream",
     "text": [
      "2023-12-30 05:18:04.669 \n",
      "  \u001b[33m\u001b[1mWarning:\u001b[0m to view this Streamlit app on a browser, run it with the following\n",
      "  command:\n",
      "\n",
      "    streamlit run c:\\Users\\O\\AppData\\Local\\Programs\\Python\\Python310\\lib\\site-packages\\ipykernel_launcher.py [ARGUMENTS]\n"
     ]
    }
   ],
   "source": [
    "# 結果要用Streamlit的形式呈現\n",
    "# 定義Streamlit應用程序的標題\n",
    "st.title(\"中古音對應閩南語音查詢系統\")\n",
    "\n",
    "# 添加下拉式選單，選擇查詢文音、白音、替字、或歸屬不明的字(-)\n",
    "bp = st.selectbox(\"請選擇查詢文音或白音\", [\"文\", \"白\", \"-\", \"替\"])\n",
    "st.write(\"請耐心等待，系統有點慢 (有些單項可能就要四分鐘左右)\")\n",
    "\n",
    "# 添加輸入框，允許使用者輸入項目\n",
    "st.markdown('輸入1: 中古聲母與閩南語聲母對應表')\n",
    "st.markdown('輸入2: 中古聲母與閩南語聲母對應關係圖')\n",
    "st.markdown('輸入3: 中古韻母與閩南語韻母對應表')\n",
    "st.markdown('輸入4: 中古韻母與閩南語韻母對應關係圖')\n",
    "st.markdown('輸入5: 中古韻母與閩南語韻母歧音對應聲母')\n",
    "st.markdown('輸入6: 中古聲調與閩南語聲調對應關係圖')\n",
    "user_input = st.text_area(\"請輸入要查詢的項目，以逗號分隔\",\"\")\n",
    "\n",
    "# 定義生成圖表的函數\n",
    "def generator(text):\n",
    "    for i in text.split(','):\n",
    "        if i == '1':\n",
    "            im, siann = s1()\n",
    "            st_ = s2(im, siann)\n",
    "            st.markdown(sdf(siann, st_).to_html(classes='dataframe'), unsafe_allow_html=True)\n",
    "        elif i == '2':\n",
    "            im, siann = s1()\n",
    "            for fig in sfig(siann):\n",
    "                st.plotly_chart(fig, use_container_width=True)\n",
    "\n",
    "        elif i == '3':\n",
    "            im, un = u1()\n",
    "            uh = u2(im, un)\n",
    "            uth = u3(im, uh)\n",
    "            ut = u5(im, un, uh)\n",
    "            st.markdown(udf(un, uh, uth, ut).to_html(classes='dataframe'), unsafe_allow_html=True)\n",
    "        elif i == '4':\n",
    "            im, un = u1()\n",
    "            for fig in ufig(un):\n",
    "                st.plotly_chart(fig, use_container_width=True)\n",
    "        elif i == '5':\n",
    "            im, un = u1()\n",
    "            uh = u2(im, un)\n",
    "            uth = u3(im, uh)\n",
    "            uths = u4(im, uth)\n",
    "            ut = u5(im, un, uh)\n",
    "            uhs = u6(im, un, uh, uth, ut)\n",
    "            uts = u7(im, un, ut, uh)\n",
    "            us = u8(im, un, uh, uts)\n",
    "            st.markdown(usdf(us, uts, uths, uhs).to_html(classes='dataframe'), unsafe_allow_html=True)\n",
    "        elif i == '6':\n",
    "            st.write(tfig(), unsafe_allow_html=True)\n",
    "        else:\n",
    "            st.write('輸入錯誤')\n",
    "        st.markdown('---')\n",
    "\n",
    "# 添加生成的按鈕\n",
    "if st.button(\"查詢\"):\n",
    "    if user_input:\n",
    "        generator(user_input)\n",
    "    else:\n",
    "        st.warning(\"請先輸入\")\n",
    "        "
   ]
  },
  {
   "cell_type": "markdown",
   "metadata": {},
   "source": [
    "<br><br><br>\n",
    "輸出.py檔，然後在.py檔上把所有會呈現圖表、或者是以''''''括起來的部分刪除乾淨，否則會一直跳出來\n",
    "<br><br>"
   ]
  },
  {
   "cell_type": "markdown",
   "metadata": {},
   "source": [
    "### \n",
    "- - - \n",
    "#### *最後在終端機上 `F.py` 輸入 `streamlit run F.py` 就大功告成了！！*\n",
    "- - - "
   ]
  },
  {
   "cell_type": "markdown",
   "metadata": {},
   "source": [
    "結果如repo中F.py所呈現"
   ]
  }
 ],
 "metadata": {
  "kernelspec": {
   "display_name": "Python 3",
   "language": "python",
   "name": "python3"
  },
  "language_info": {
   "codemirror_mode": {
    "name": "ipython",
    "version": 3
   },
   "file_extension": ".py",
   "mimetype": "text/x-python",
   "name": "python",
   "nbconvert_exporter": "python",
   "pygments_lexer": "ipython3",
   "version": "3.10.11"
  },
  "orig_nbformat": 4
 },
 "nbformat": 4,
 "nbformat_minor": 2
}
